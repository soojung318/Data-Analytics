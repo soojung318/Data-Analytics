{
 "cells": [
  {
   "cell_type": "code",
   "execution_count": 2,
   "id": "461a90bc-40e7-42ad-8489-113e7d363848",
   "metadata": {},
   "outputs": [],
   "source": [
    "import numpy as np"
   ]
  },
  {
   "cell_type": "code",
   "execution_count": 6,
   "id": "747ca9f2-9213-4c03-9177-ad678f54db85",
   "metadata": {},
   "outputs": [
    {
     "data": {
      "text/plain": [
       "array([[ 5., 11., 10.],\n",
       "       [20.,  6., 20.]])"
      ]
     },
     "execution_count": 6,
     "metadata": {},
     "output_type": "execute_result"
    }
   ],
   "source": [
    "import random\n",
    "\n",
    "a = np.zeros((2,3))\n",
    "\n",
    "for row in range(2):\n",
    "    for col in range(3):\n",
    "        a[row,col] = random.randint(0,20)\n",
    "a"
   ]
  },
  {
   "cell_type": "code",
   "execution_count": 5,
   "id": "547eaac9-0efe-47ab-b8e9-739e2131dca0",
   "metadata": {},
   "outputs": [
    {
     "data": {
      "text/plain": [
       "array([[1., 1., 1.],\n",
       "       [1., 1., 1.],\n",
       "       [1., 1., 1.]])"
      ]
     },
     "execution_count": 5,
     "metadata": {},
     "output_type": "execute_result"
    }
   ],
   "source": [
    "np.ones((3,3))"
   ]
  },
  {
   "cell_type": "code",
   "execution_count": 7,
   "id": "a0142ae9-8aea-4a58-be92-da7242f05b62",
   "metadata": {},
   "outputs": [
    {
     "data": {
      "text/plain": [
       "array([[1., 1., 1., 1.],\n",
       "       [1., 1., 1., 1.],\n",
       "       [1., 1., 1., 1.],\n",
       "       [1., 1., 1., 1.]])"
      ]
     },
     "execution_count": 7,
     "metadata": {},
     "output_type": "execute_result"
    }
   ],
   "source": [
    "np.ones((4,4))"
   ]
  },
  {
   "cell_type": "code",
   "execution_count": 8,
   "id": "677dc6ce-8fdc-44ea-a5ed-bae03bdaba5a",
   "metadata": {},
   "outputs": [
    {
     "data": {
      "text/plain": [
       "range(0, 5)"
      ]
     },
     "execution_count": 8,
     "metadata": {},
     "output_type": "execute_result"
    }
   ],
   "source": [
    "range(5)"
   ]
  },
  {
   "cell_type": "code",
   "execution_count": 9,
   "id": "2e4c7a50-390c-4da8-9b70-00cbfe56db3c",
   "metadata": {},
   "outputs": [
    {
     "data": {
      "text/plain": [
       "array([0, 1, 2, 3, 4])"
      ]
     },
     "execution_count": 9,
     "metadata": {},
     "output_type": "execute_result"
    }
   ],
   "source": [
    "np.arange(5) #ndarray의 원소 범위"
   ]
  },
  {
   "cell_type": "code",
   "execution_count": 10,
   "id": "382227e3-a37d-49f6-9d59-3f76225bc9fd",
   "metadata": {},
   "outputs": [
    {
     "data": {
      "text/plain": [
       "array([3, 4, 5])"
      ]
     },
     "execution_count": 10,
     "metadata": {},
     "output_type": "execute_result"
    }
   ],
   "source": [
    "np.arange(3,6)"
   ]
  },
  {
   "cell_type": "code",
   "execution_count": 12,
   "id": "4baa7d84-b12b-4421-a80b-214165af01c8",
   "metadata": {},
   "outputs": [
    {
     "data": {
      "text/plain": [
       "numpy.ndarray"
      ]
     },
     "execution_count": 12,
     "metadata": {},
     "output_type": "execute_result"
    }
   ],
   "source": [
    "a = np.arange(3,10,2)\n",
    "type(a)"
   ]
  },
  {
   "cell_type": "code",
   "execution_count": 13,
   "id": "1f1c4145-0788-42ec-9977-736f4c18f54a",
   "metadata": {},
   "outputs": [
    {
     "data": {
      "text/plain": [
       "array([1. , 1.8, 2.6, 3.4, 4.2, 5. , 5.8, 6.6, 7.4, 8.2, 9. , 9.8])"
      ]
     },
     "execution_count": 13,
     "metadata": {},
     "output_type": "execute_result"
    }
   ],
   "source": [
    "np.arange(1,10,0.8)"
   ]
  },
  {
   "cell_type": "code",
   "execution_count": 14,
   "id": "14ba4b10-cb94-4919-9e8a-163ec4e3d348",
   "metadata": {},
   "outputs": [
    {
     "data": {
      "text/plain": [
       "array([ 0,  1,  2,  3,  4,  5,  6,  7,  8,  9, 10, 11])"
      ]
     },
     "execution_count": 14,
     "metadata": {},
     "output_type": "execute_result"
    }
   ],
   "source": [
    "a = np.arange(0,12)\n",
    "a"
   ]
  },
  {
   "cell_type": "code",
   "execution_count": 15,
   "id": "b7c40717-4ce4-4a5f-b562-d4a76a53030d",
   "metadata": {},
   "outputs": [
    {
     "data": {
      "text/plain": [
       "(12,)"
      ]
     },
     "execution_count": 15,
     "metadata": {},
     "output_type": "execute_result"
    }
   ],
   "source": [
    "a.shape"
   ]
  },
  {
   "cell_type": "code",
   "execution_count": 16,
   "id": "2fe0fbe3-e77e-406b-8c16-cc1955d6eb9f",
   "metadata": {},
   "outputs": [
    {
     "data": {
      "text/plain": [
       "array([[ 0,  1,  2,  3],\n",
       "       [ 4,  5,  6,  7],\n",
       "       [ 8,  9, 10, 11]])"
      ]
     },
     "execution_count": 16,
     "metadata": {},
     "output_type": "execute_result"
    }
   ],
   "source": [
    "a.reshape(3,4) #3행 4열"
   ]
  },
  {
   "cell_type": "code",
   "execution_count": 17,
   "id": "e323b9d3-b314-45c4-8147-457baeeff00d",
   "metadata": {},
   "outputs": [
    {
     "data": {
      "text/plain": [
       "(12,)"
      ]
     },
     "execution_count": 17,
     "metadata": {},
     "output_type": "execute_result"
    }
   ],
   "source": [
    "a.shape #원본은 그대로 냅두고 reshape은 새로 메몸리공간에 저장함."
   ]
  },
  {
   "cell_type": "code",
   "execution_count": 18,
   "id": "3570ff2d-d4ec-4398-b8a1-3f3ff9691286",
   "metadata": {},
   "outputs": [
    {
     "data": {
      "text/plain": [
       "array([[ 0,  1,  2,  3,  4,  5],\n",
       "       [ 6,  7,  8,  9, 10, 11]])"
      ]
     },
     "execution_count": 18,
     "metadata": {},
     "output_type": "execute_result"
    }
   ],
   "source": [
    "a.reshape(2,-1)"
   ]
  },
  {
   "cell_type": "code",
   "execution_count": 19,
   "id": "a5207de9-d6aa-45d2-9206-f722ccdb4b2e",
   "metadata": {},
   "outputs": [
    {
     "data": {
      "text/plain": [
       "array([ 0.        ,  1.66666667,  3.33333333,  5.        ,  6.66666667,\n",
       "        8.33333333, 10.        ])"
      ]
     },
     "execution_count": 19,
     "metadata": {},
     "output_type": "execute_result"
    }
   ],
   "source": [
    "# 0~9 구간을 7개 수를 일정한 간격으로 추출하려면?, linearly spaced values\n",
    "np.linspace(0,10,7)"
   ]
  },
  {
   "cell_type": "code",
   "execution_count": 20,
   "id": "9a7a2345-574c-4c58-9ccb-0165e93a2d39",
   "metadata": {},
   "outputs": [
    {
     "data": {
      "text/plain": [
       "array([ 0. ,  2.5,  5. ,  7.5, 10. ])"
      ]
     },
     "execution_count": 20,
     "metadata": {},
     "output_type": "execute_result"
    }
   ],
   "source": [
    "np.linspace(0,10,5)"
   ]
  },
  {
   "cell_type": "code",
   "execution_count": 21,
   "id": "3f5017f2-bb7a-403f-a0d9-6b1a35b58416",
   "metadata": {},
   "outputs": [
    {
     "data": {
      "text/plain": [
       "0.9325762877675793"
      ]
     },
     "execution_count": 21,
     "metadata": {},
     "output_type": "execute_result"
    }
   ],
   "source": [
    "np.random.random()"
   ]
  },
  {
   "cell_type": "code",
   "execution_count": 22,
   "id": "215504fb-556f-4d7b-a059-f4eb351b1a22",
   "metadata": {},
   "outputs": [
    {
     "data": {
      "text/plain": [
       "array([0.13407989, 0.52929328, 0.38508842])"
      ]
     },
     "execution_count": 22,
     "metadata": {},
     "output_type": "execute_result"
    }
   ],
   "source": [
    "np.random.random(3)"
   ]
  },
  {
   "cell_type": "code",
   "execution_count": 23,
   "id": "24c11854-f929-4adf-b6e1-8b90d264f1f9",
   "metadata": {},
   "outputs": [
    {
     "data": {
      "text/plain": [
       "array([[0.06749992, 0.6135059 , 0.09283003],\n",
       "       [0.09991772, 0.94090137, 0.09437249],\n",
       "       [0.09644899, 0.592268  , 0.08511034]])"
      ]
     },
     "execution_count": 23,
     "metadata": {},
     "output_type": "execute_result"
    }
   ],
   "source": [
    "np.random.random((3,3))  "
   ]
  },
  {
   "cell_type": "markdown",
   "id": "7d8ceea6-1a6a-470a-ab31-6c98bfb5a014",
   "metadata": {},
   "source": [
    "# 문제1,\n",
    "ndarray원소가 16개인 1차원 배열 생성<br>\n",
    "4 * 4 변환"
   ]
  },
  {
   "cell_type": "code",
   "execution_count": 24,
   "id": "b682cd7b-95e7-4c7c-8bfe-9d2c774d2cff",
   "metadata": {},
   "outputs": [
    {
     "data": {
      "text/plain": [
       "array([[0.53748196, 0.20701979, 0.4673226 , 0.97734028],\n",
       "       [0.06906225, 0.02136369, 0.07336882, 0.57132482],\n",
       "       [0.29280089, 0.59050231, 0.97373216, 0.63850349],\n",
       "       [0.53951361, 0.16092337, 0.13584673, 0.91186912]])"
      ]
     },
     "execution_count": 24,
     "metadata": {},
     "output_type": "execute_result"
    }
   ],
   "source": [
    "#1답\n",
    "np.random.random(16).reshape((4,4))"
   ]
  },
  {
   "cell_type": "code",
   "execution_count": 25,
   "id": "c6c68bb4-f7d1-42a5-9563-7b964e7213ea",
   "metadata": {},
   "outputs": [
    {
     "data": {
      "text/plain": [
       "<memory at 0x00000149949F0340>"
      ]
     },
     "execution_count": 25,
     "metadata": {},
     "output_type": "execute_result"
    }
   ],
   "source": [
    "a.data  #a라는 배열이 저장된 메모리 주소 출력"
   ]
  },
  {
   "cell_type": "code",
   "execution_count": 29,
   "id": "0af62e11-d22a-4a98-b784-42621321582c",
   "metadata": {},
   "outputs": [
    {
     "data": {
      "text/plain": [
       "<memory at 0x00000149949C2790>"
      ]
     },
     "execution_count": 29,
     "metadata": {},
     "output_type": "execute_result"
    }
   ],
   "source": [
    "b = a.reshape(-1,12)\n",
    "b.data  #b의 메모리 주소 출력"
   ]
  },
  {
   "cell_type": "code",
   "execution_count": 32,
   "id": "e11b8bd4-f082-4d7c-b0e6-88b96487be11",
   "metadata": {},
   "outputs": [
    {
     "data": {
      "text/plain": [
       "array([ 0,  1,  2,  3,  4,  5,  6,  7,  8,  9, 10, 11])"
      ]
     },
     "execution_count": 32,
     "metadata": {},
     "output_type": "execute_result"
    }
   ],
   "source": [
    "a1 = a.flatten()\n",
    "a1"
   ]
  },
  {
   "cell_type": "code",
   "execution_count": 33,
   "id": "f1311637-ad47-49bc-9d09-b16f235abce0",
   "metadata": {},
   "outputs": [
    {
     "data": {
      "text/plain": [
       "<memory at 0x000001499446D700>"
      ]
     },
     "execution_count": 33,
     "metadata": {},
     "output_type": "execute_result"
    }
   ],
   "source": [
    "a1.data"
   ]
  },
  {
   "cell_type": "code",
   "execution_count": 36,
   "id": "6f80d176-bb05-4a6c-b454-393b3e0c0c62",
   "metadata": {},
   "outputs": [
    {
     "data": {
      "text/plain": [
       "<memory at 0x0000014994B97B80>"
      ]
     },
     "execution_count": 36,
     "metadata": {},
     "output_type": "execute_result"
    }
   ],
   "source": [
    "a = np.arange(4)\n",
    "a.data"
   ]
  },
  {
   "cell_type": "code",
   "execution_count": 41,
   "id": "d6423a0b-03d8-4024-9ccc-3334c065306c",
   "metadata": {},
   "outputs": [
    {
     "data": {
      "text/plain": [
       "array([1, 2, 3, 4])"
      ]
     },
     "execution_count": 41,
     "metadata": {},
     "output_type": "execute_result"
    }
   ],
   "source": [
    "a +[1,1,1,1]"
   ]
  },
  {
   "cell_type": "code",
   "execution_count": 37,
   "id": "6238d42d-c655-4d3a-8a3a-958ec8157cbd",
   "metadata": {},
   "outputs": [
    {
     "data": {
      "text/plain": [
       "<memory at 0x0000014994B97A00>"
      ]
     },
     "execution_count": 37,
     "metadata": {},
     "output_type": "execute_result"
    }
   ],
   "source": [
    "a1 = a + 1\n",
    "a1.data"
   ]
  },
  {
   "cell_type": "code",
   "execution_count": 40,
   "id": "cf5fbb28-ae59-4299-b0d6-86ab803f94cb",
   "metadata": {},
   "outputs": [
    {
     "data": {
      "text/plain": [
       "(array([0, 1, 2, 3]), array([1, 2, 3, 4]))"
      ]
     },
     "execution_count": 40,
     "metadata": {},
     "output_type": "execute_result"
    }
   ],
   "source": [
    "a, a1"
   ]
  },
  {
   "cell_type": "code",
   "execution_count": 42,
   "id": "081474f1-63c1-4103-a1ea-ccadb2ebf7e8",
   "metadata": {},
   "outputs": [
    {
     "data": {
      "text/plain": [
       "array([0, 1, 2, 3])"
      ]
     },
     "execution_count": 42,
     "metadata": {},
     "output_type": "execute_result"
    }
   ],
   "source": [
    "a"
   ]
  },
  {
   "cell_type": "code",
   "execution_count": 43,
   "id": "ad8be7c2-81e2-4495-899d-f03b5d0c72f0",
   "metadata": {},
   "outputs": [
    {
     "data": {
      "text/plain": [
       "array([0, 2, 4, 6])"
      ]
     },
     "execution_count": 43,
     "metadata": {},
     "output_type": "execute_result"
    }
   ],
   "source": [
    "a*2"
   ]
  },
  {
   "cell_type": "code",
   "execution_count": 44,
   "id": "3ab4d850-9a68-45c9-b62e-fdaf32ecaceb",
   "metadata": {},
   "outputs": [
    {
     "data": {
      "text/plain": [
       "array([0.        , 0.93203909, 1.86407817, 2.79611726])"
      ]
     },
     "execution_count": 44,
     "metadata": {},
     "output_type": "execute_result"
    }
   ],
   "source": [
    "#Element-wise\n",
    "a * np.sin(1.2)"
   ]
  },
  {
   "cell_type": "code",
   "execution_count": 45,
   "id": "c0248657-c19e-4880-915d-c6e7d6ba416e",
   "metadata": {},
   "outputs": [
    {
     "data": {
      "text/plain": [
       "array([0.        , 0.84147098, 0.90929743, 0.14112001])"
      ]
     },
     "execution_count": 45,
     "metadata": {},
     "output_type": "execute_result"
    }
   ],
   "source": [
    "np.sin(a)"
   ]
  },
  {
   "cell_type": "code",
   "execution_count": 46,
   "id": "98b46769-493e-45d4-a4df-397ca69e2ef5",
   "metadata": {},
   "outputs": [
    {
     "data": {
      "text/plain": [
       "array([0.        , 1.        , 1.41421356, 1.73205081])"
      ]
     },
     "execution_count": 46,
     "metadata": {},
     "output_type": "execute_result"
    }
   ],
   "source": [
    "np.sqrt(a) # universal function"
   ]
  },
  {
   "cell_type": "code",
   "execution_count": 47,
   "id": "1a262673-b4e2-4d76-82aa-3a4095493833",
   "metadata": {},
   "outputs": [
    {
     "data": {
      "text/plain": [
       "array([ 3,  8, 15])"
      ]
     },
     "execution_count": 47,
     "metadata": {},
     "output_type": "execute_result"
    }
   ],
   "source": [
    "np.array([1,2,3]) * np.array([3,4,5])"
   ]
  },
  {
   "cell_type": "code",
   "execution_count": 50,
   "id": "74f0ef94-04c9-4520-bb1b-3aa44f0466c2",
   "metadata": {},
   "outputs": [
    {
     "data": {
      "text/plain": [
       "array([[0, 1, 2],\n",
       "       [3, 4, 5]])"
      ]
     },
     "execution_count": 50,
     "metadata": {},
     "output_type": "execute_result"
    }
   ],
   "source": [
    "a = np.arange(6).reshape(2,-1) #reshape으로 2행으로 다시 정렬하여 새로운 메모리공간에 저장\n",
    "a"
   ]
  },
  {
   "cell_type": "code",
   "execution_count": 53,
   "id": "c039218d-9bc0-4cc1-b840-eb75aca194f6",
   "metadata": {},
   "outputs": [
    {
     "data": {
      "text/plain": [
       "array([[0, 1],\n",
       "       [2, 3],\n",
       "       [4, 5]])"
      ]
     },
     "execution_count": 53,
     "metadata": {},
     "output_type": "execute_result"
    }
   ],
   "source": [
    "b = np.arange(6).reshape(3,-1)  #reshape으로 3행으로 다시 정렬하여 새로운 메모리공간에 저장\n",
    "b"
   ]
  },
  {
   "cell_type": "code",
   "execution_count": 54,
   "id": "9f28a11f-e11e-4115-92ce-7886ea91bf6b",
   "metadata": {},
   "outputs": [
    {
     "data": {
      "text/plain": [
       "array([[10, 13],\n",
       "       [28, 40]])"
      ]
     },
     "execution_count": 54,
     "metadata": {},
     "output_type": "execute_result"
    }
   ],
   "source": [
    "np.dot(a,b) #dot product(내적, Innger Product)"
   ]
  },
  {
   "cell_type": "code",
   "execution_count": 55,
   "id": "e9216e49-46ce-47fb-a1be-56f9fa3508ca",
   "metadata": {},
   "outputs": [
    {
     "data": {
      "text/plain": [
       "array([[10, 13],\n",
       "       [28, 40]])"
      ]
     },
     "execution_count": 55,
     "metadata": {},
     "output_type": "execute_result"
    }
   ],
   "source": [
    "#dir(a)\n",
    "a.dot(b)   # a, b"
   ]
  },
  {
   "cell_type": "code",
   "execution_count": 56,
   "id": "65f80afb-1eef-465a-9e64-3f8fda7d17f9",
   "metadata": {},
   "outputs": [
    {
     "data": {
      "text/plain": [
       "array([0, 1, 2, 3, 4])"
      ]
     },
     "execution_count": 56,
     "metadata": {},
     "output_type": "execute_result"
    }
   ],
   "source": [
    "a = np.arange(5)\n",
    "a"
   ]
  },
  {
   "cell_type": "code",
   "execution_count": 57,
   "id": "9aaf7701-ed4b-4680-8f50-32b4a55eabb6",
   "metadata": {},
   "outputs": [
    {
     "data": {
      "text/plain": [
       "array([1, 2, 3, 4, 5])"
      ]
     },
     "execution_count": 57,
     "metadata": {},
     "output_type": "execute_result"
    }
   ],
   "source": [
    "a + 1"
   ]
  },
  {
   "cell_type": "code",
   "execution_count": 58,
   "id": "025b66a2-1680-4735-9036-b02ced728024",
   "metadata": {},
   "outputs": [
    {
     "data": {
      "text/plain": [
       "array([0, 1, 2, 3, 4])"
      ]
     },
     "execution_count": 58,
     "metadata": {},
     "output_type": "execute_result"
    }
   ],
   "source": [
    "a"
   ]
  },
  {
   "cell_type": "code",
   "execution_count": 60,
   "id": "7e7e9df8-a092-4619-bfd3-8788c880c48d",
   "metadata": {},
   "outputs": [
    {
     "data": {
      "text/plain": [
       "array([2, 3, 4, 5, 6])"
      ]
     },
     "execution_count": 60,
     "metadata": {},
     "output_type": "execute_result"
    }
   ],
   "source": [
    "a += 1\n",
    "a"
   ]
  },
  {
   "cell_type": "code",
   "execution_count": 61,
   "id": "2670b72c-1688-420b-8cef-30c1b5ab9a7b",
   "metadata": {},
   "outputs": [
    {
     "data": {
      "text/plain": [
       "array([0, 1, 2, 3, 4])"
      ]
     },
     "execution_count": 61,
     "metadata": {},
     "output_type": "execute_result"
    }
   ],
   "source": [
    "a = np.arange(5)\n",
    "a"
   ]
  },
  {
   "cell_type": "code",
   "execution_count": 62,
   "id": "d6e400c1-0e0d-4013-a208-d716387a9ff4",
   "metadata": {},
   "outputs": [
    {
     "data": {
      "text/plain": [
       "10"
      ]
     },
     "execution_count": 62,
     "metadata": {},
     "output_type": "execute_result"
    }
   ],
   "source": [
    "a.sum()"
   ]
  },
  {
   "cell_type": "code",
   "execution_count": 66,
   "id": "a93d6463-0423-4e37-ae7b-b50674fcfd2b",
   "metadata": {},
   "outputs": [
    {
     "data": {
      "text/plain": [
       "(4, 0, 2.0, 1.4142135623730951)"
      ]
     },
     "execution_count": 66,
     "metadata": {},
     "output_type": "execute_result"
    }
   ],
   "source": [
    "a.max(), a.min(), a.mean(), a.std()  #mean:평균, std:표준편차"
   ]
  },
  {
   "cell_type": "code",
   "execution_count": 67,
   "id": "76f77239-b8cf-42d6-8ea0-5f3442978bec",
   "metadata": {},
   "outputs": [
    {
     "data": {
      "text/plain": [
       "(2.0, 2.0, 1.4142135623730951)"
      ]
     },
     "execution_count": 67,
     "metadata": {},
     "output_type": "execute_result"
    }
   ],
   "source": [
    "#평균(m)\n",
    "#분산(Variance): 각 원소와 평균의 차이의 제곱, 이들을 모두 합산, 그 값을 원소의 갯수로 나눔\n",
    "#표준편차(std) :분산의 제곱근\n",
    "\n",
    "m = np.arange(5)\n",
    "m.mean(),m.var(),m.std()"
   ]
  },
  {
   "cell_type": "code",
   "execution_count": 69,
   "id": "89f769bc-de35-4ad3-9c4d-79f9142ce7fd",
   "metadata": {},
   "outputs": [
    {
     "data": {
      "text/plain": [
       "array([0, 1, 2, 3, 4])"
      ]
     },
     "execution_count": 69,
     "metadata": {},
     "output_type": "execute_result"
    }
   ],
   "source": [
    "a"
   ]
  },
  {
   "cell_type": "code",
   "execution_count": 71,
   "id": "e4c6353c-dc82-45ac-b0a1-589249b8af02",
   "metadata": {},
   "outputs": [
    {
     "data": {
      "text/plain": [
       "(1.4142135623730951, 1.4142135623730951)"
      ]
     },
     "execution_count": 71,
     "metadata": {},
     "output_type": "execute_result"
    }
   ],
   "source": [
    "np.sqrt(np.mean(abs(a-a.mean())**2)),np.std(a)"
   ]
  },
  {
   "cell_type": "code",
   "execution_count": 72,
   "id": "1f470688-16af-4bc8-b6f8-36dde36a57c5",
   "metadata": {},
   "outputs": [
    {
     "data": {
      "text/plain": [
       "array([10, 11, 12, 13, 14, 15])"
      ]
     },
     "execution_count": 72,
     "metadata": {},
     "output_type": "execute_result"
    }
   ],
   "source": [
    "a = np.arange(10,16)\n",
    "a"
   ]
  },
  {
   "cell_type": "code",
   "execution_count": 73,
   "id": "fd673d31-c63b-4144-b963-402bfbac60b6",
   "metadata": {},
   "outputs": [
    {
     "data": {
      "text/plain": [
       "(12, 15, 10, 10)"
      ]
     },
     "execution_count": 73,
     "metadata": {},
     "output_type": "execute_result"
    }
   ],
   "source": [
    "a[2],a[-1],a[0],a[-6]"
   ]
  },
  {
   "cell_type": "code",
   "execution_count": 74,
   "id": "f5e9d52a-2fbb-4b89-b87b-617ef45747d6",
   "metadata": {},
   "outputs": [
    {
     "data": {
      "text/plain": [
       "15"
      ]
     },
     "execution_count": 74,
     "metadata": {},
     "output_type": "execute_result"
    }
   ],
   "source": [
    "a[a.size-1]  #[a-1]과 같은 결과"
   ]
  },
  {
   "cell_type": "code",
   "execution_count": 75,
   "id": "1ca91cc8-2e3f-46b8-9b93-8a039b928ec0",
   "metadata": {},
   "outputs": [
    {
     "data": {
      "text/plain": [
       "array([11, 12, 13])"
      ]
     },
     "execution_count": 75,
     "metadata": {},
     "output_type": "execute_result"
    }
   ],
   "source": [
    "a[[1,2,3]]"
   ]
  },
  {
   "cell_type": "code",
   "execution_count": 76,
   "id": "0288c034-2fac-4fa7-9c85-4200a2f891fb",
   "metadata": {},
   "outputs": [
    {
     "data": {
      "text/plain": [
       "array([[ 1,  2,  3,  4],\n",
       "       [ 5,  6,  7,  8],\n",
       "       [ 9, 10, 11, 12],\n",
       "       [13, 14, 15, 16]])"
      ]
     },
     "execution_count": 76,
     "metadata": {},
     "output_type": "execute_result"
    }
   ],
   "source": [
    "a = np.arange(1,17).reshape(4,-1)\n",
    "a"
   ]
  },
  {
   "cell_type": "code",
   "execution_count": 79,
   "id": "ff7d30f1-1ea4-4c22-ad31-53ef46cd392b",
   "metadata": {},
   "outputs": [
    {
     "name": "stdout",
     "output_type": "stream",
     "text": [
      "1 2 3 4 5 6 7 8 9 10 11 12 13 14 15 16 "
     ]
    }
   ],
   "source": [
    "for e in a:\n",
    "    for i in e:\n",
    "        print(i,end=' ')"
   ]
  },
  {
   "cell_type": "code",
   "execution_count": null,
   "id": "18bc1e4e-d67d-4370-87d6-f135d00b70f2",
   "metadata": {},
   "outputs": [
    {
     "data": {
      "text/plain": [
       "(7,\n",
       " 7,\n",
       " array([[ 5,  6,  7,  8],\n",
       "        [ 9, 10, 11, 12]]))"
      ]
     },
     "execution_count": 82,
     "metadata": {},
     "output_type": "execute_result"
    }
   ],
   "source": [
    "a[1][2], a[1,2],a[[1,2]]  #이 셋은 완전히 다른 결과"
   ]
  },
  {
   "cell_type": "code",
   "execution_count": 84,
   "id": "fd2a1197-e1cb-46ed-a0e6-a3b1adf8f131",
   "metadata": {},
   "outputs": [
    {
     "data": {
      "text/plain": [
       "array([[ True, False, False, False],\n",
       "       [False, False, False, False],\n",
       "       [False, False, False, False],\n",
       "       [False, False, False, False]])"
      ]
     },
     "execution_count": 84,
     "metadata": {},
     "output_type": "execute_result"
    }
   ],
   "source": [
    "#fancy indexing: 인덱서 안에 정수나 불리언 배열을 사용하여 배열의 값을 추출해내는 방법\n",
    "ba = np.array([True,False,False,False,False,False,False,False,False,False,False,False,False,False,False,False])\n",
    "ba = ba.reshape(4,-1)\n",
    "ba"
   ]
  },
  {
   "cell_type": "code",
   "execution_count": 85,
   "id": "e7abea3c-4db1-4f89-bec3-bf8bc131ea3a",
   "metadata": {},
   "outputs": [
    {
     "data": {
      "text/plain": [
       "array([1])"
      ]
     },
     "execution_count": 85,
     "metadata": {},
     "output_type": "execute_result"
    }
   ],
   "source": [
    "a[ba]"
   ]
  },
  {
   "cell_type": "code",
   "execution_count": 87,
   "id": "a6d00f80-affd-4687-b7ab-d14a31c7892b",
   "metadata": {},
   "outputs": [
    {
     "data": {
      "text/plain": [
       "array([[ True, False, False, False],\n",
       "       [False, False, False, False],\n",
       "       [False, False, False, False],\n",
       "       [False, False, False, False]])"
      ]
     },
     "execution_count": 87,
     "metadata": {},
     "output_type": "execute_result"
    }
   ],
   "source": [
    "a<2  #정수형 배열"
   ]
  },
  {
   "cell_type": "code",
   "execution_count": 88,
   "id": "058f79b6-394b-4f31-a6c2-957b5645844f",
   "metadata": {},
   "outputs": [
    {
     "data": {
      "text/plain": [
       "array([1])"
      ]
     },
     "execution_count": 88,
     "metadata": {},
     "output_type": "execute_result"
    }
   ],
   "source": [
    "a[a<2]  #boolean 배열"
   ]
  },
  {
   "cell_type": "code",
   "execution_count": 89,
   "id": "9b3da068-cb13-4e5c-a77c-8218b1c35b18",
   "metadata": {},
   "outputs": [
    {
     "data": {
      "text/plain": [
       "[1, 2, 3, 4, 5]"
      ]
     },
     "execution_count": 89,
     "metadata": {},
     "output_type": "execute_result"
    }
   ],
   "source": [
    "nums = [1,2,3,4,5]\n",
    "nums[0:5]"
   ]
  },
  {
   "cell_type": "code",
   "execution_count": 90,
   "id": "fb91c71b-111d-4b22-86f3-333f0f9eafef",
   "metadata": {},
   "outputs": [
    {
     "data": {
      "text/plain": [
       "[1, 3, 5]"
      ]
     },
     "execution_count": 90,
     "metadata": {},
     "output_type": "execute_result"
    }
   ],
   "source": [
    "nums[::2]"
   ]
  },
  {
   "cell_type": "code",
   "execution_count": 91,
   "id": "4f4a0fa4-a334-4eb5-8baa-886452822fbe",
   "metadata": {},
   "outputs": [
    {
     "data": {
      "text/plain": [
       "array([[ 1,  2,  3,  4],\n",
       "       [ 5,  6,  7,  8],\n",
       "       [ 9, 10, 11, 12],\n",
       "       [13, 14, 15, 16]])"
      ]
     },
     "execution_count": 91,
     "metadata": {},
     "output_type": "execute_result"
    }
   ],
   "source": [
    "a[::]"
   ]
  },
  {
   "cell_type": "code",
   "execution_count": 92,
   "id": "68a13b56-2798-4e01-913c-06b1b376b3e5",
   "metadata": {},
   "outputs": [
    {
     "data": {
      "text/plain": [
       "[0, 1, 2, 3, 4]"
      ]
     },
     "execution_count": 92,
     "metadata": {},
     "output_type": "execute_result"
    }
   ],
   "source": [
    "nums=list(range(5))\n",
    "nums"
   ]
  },
  {
   "cell_type": "code",
   "execution_count": 93,
   "id": "ab419a59-712b-4fd7-9651-e0bff8d9f31d",
   "metadata": {},
   "outputs": [
    {
     "data": {
      "text/plain": [
       "[0, 1, 2, 3, 4]"
      ]
     },
     "execution_count": 93,
     "metadata": {},
     "output_type": "execute_result"
    }
   ],
   "source": [
    "nums2= nums[:]\n",
    "nums2"
   ]
  },
  {
   "cell_type": "code",
   "execution_count": 94,
   "id": "00e723d6-bd05-44cb-8de7-bd92af6431df",
   "metadata": {},
   "outputs": [],
   "source": [
    "nums2[0] = 5"
   ]
  },
  {
   "cell_type": "code",
   "execution_count": 95,
   "id": "7d9e5722-28c2-44e7-bab8-6dd8e26c828e",
   "metadata": {},
   "outputs": [
    {
     "data": {
      "text/plain": [
       "[0, 1, 2, 3, 4]"
      ]
     },
     "execution_count": 95,
     "metadata": {},
     "output_type": "execute_result"
    }
   ],
   "source": [
    "nums"
   ]
  },
  {
   "cell_type": "code",
   "execution_count": 96,
   "id": "43fee35e-18e6-455c-a541-6f3874f4256b",
   "metadata": {},
   "outputs": [
    {
     "data": {
      "text/plain": [
       "[5, 1, 2, 3, 4]"
      ]
     },
     "execution_count": 96,
     "metadata": {},
     "output_type": "execute_result"
    }
   ],
   "source": [
    "nums2"
   ]
  },
  {
   "cell_type": "code",
   "execution_count": 97,
   "id": "9eaa7c88-f333-468d-9d53-dbe08245ca48",
   "metadata": {},
   "outputs": [
    {
     "data": {
      "text/plain": [
       "array([[ 1,  2,  3,  4],\n",
       "       [ 5,  6,  7,  8],\n",
       "       [ 9, 10, 11, 12],\n",
       "       [13, 14, 15, 16]])"
      ]
     },
     "execution_count": 97,
     "metadata": {},
     "output_type": "execute_result"
    }
   ],
   "source": [
    "a"
   ]
  },
  {
   "cell_type": "code",
   "execution_count": 102,
   "id": "0ac63d86-ae84-4a7f-aa41-5e3608d36795",
   "metadata": {},
   "outputs": [
    {
     "data": {
      "text/plain": [
       "array([[10, 11, 12],\n",
       "       [13, 14, 15],\n",
       "       [16, 17, 18]])"
      ]
     },
     "execution_count": 102,
     "metadata": {},
     "output_type": "execute_result"
    }
   ],
   "source": [
    "A = np.arange(10,19).reshape(3,-1)\n",
    "A"
   ]
  },
  {
   "cell_type": "code",
   "execution_count": 103,
   "id": "670491e9-656c-4b4d-9f85-1ab023a1a92e",
   "metadata": {},
   "outputs": [
    {
     "data": {
      "text/plain": [
       "array([12, 15, 18])"
      ]
     },
     "execution_count": 103,
     "metadata": {},
     "output_type": "execute_result"
    }
   ],
   "source": [
    "np.apply_along_axis(np.max, axis=1,arr=A)"
   ]
  },
  {
   "cell_type": "code",
   "execution_count": 104,
   "id": "1a299def-2809-49dd-a150-a15ced516041",
   "metadata": {},
   "outputs": [
    {
     "name": "stdout",
     "output_type": "stream",
     "text": [
      "홀수의 합=56\n"
     ]
    }
   ],
   "source": [
    "odd_sum = 0\n",
    "\n",
    "for e in A.flat:\n",
    "    if e%2==1: odd_sum += e\n",
    "print(f'홀수의 합={odd_sum}')"
   ]
  },
  {
   "cell_type": "code",
   "execution_count": 105,
   "id": "9a013f53-af25-4a0a-8be6-4a205e1cd52b",
   "metadata": {},
   "outputs": [
    {
     "data": {
      "text/plain": [
       "array([11, 13, 15, 17])"
      ]
     },
     "execution_count": 105,
     "metadata": {},
     "output_type": "execute_result"
    }
   ],
   "source": [
    "A[A%2==1]"
   ]
  },
  {
   "cell_type": "code",
   "execution_count": 106,
   "id": "6d421e80-11f9-4645-8493-87b1a94405f8",
   "metadata": {},
   "outputs": [
    {
     "data": {
      "text/plain": [
       "56"
      ]
     },
     "execution_count": 106,
     "metadata": {},
     "output_type": "execute_result"
    }
   ],
   "source": [
    "A[A%2==1].sum()"
   ]
  },
  {
   "cell_type": "code",
   "execution_count": 108,
   "id": "80d7c864-4cf2-4a11-bd97-c8505d3562e7",
   "metadata": {},
   "outputs": [
    {
     "data": {
      "text/plain": [
       "<memory at 0x0000014994C13040>"
      ]
     },
     "execution_count": 108,
     "metadata": {},
     "output_type": "execute_result"
    }
   ],
   "source": [
    "A.data"
   ]
  },
  {
   "cell_type": "markdown",
   "id": "609f0993-f6d2-4395-b6d7-5714701c36e8",
   "metadata": {},
   "source": [
    "A1 = A.reshape(1,-1)\n",
    "A1.data"
   ]
  },
  {
   "cell_type": "code",
   "execution_count": 112,
   "id": "5c0ab983-a25a-4bb9-ba5b-3615e62a4296",
   "metadata": {},
   "outputs": [
    {
     "data": {
      "text/plain": [
       "array([[10, 11, 12],\n",
       "       [13, 14, 15],\n",
       "       [16, 17, 18]])"
      ]
     },
     "execution_count": 112,
     "metadata": {},
     "output_type": "execute_result"
    }
   ],
   "source": [
    "A1.shape= (3,-1)\n",
    "A1"
   ]
  },
  {
   "cell_type": "code",
   "execution_count": 113,
   "id": "9082d9bc-bb9e-44d3-9f4a-7ad09ab193ad",
   "metadata": {},
   "outputs": [
    {
     "data": {
      "text/plain": [
       "<memory at 0x0000014994C131E0>"
      ]
     },
     "execution_count": 113,
     "metadata": {},
     "output_type": "execute_result"
    }
   ],
   "source": [
    "A1.data"
   ]
  },
  {
   "cell_type": "markdown",
   "id": "b7022955-569a-4e60-b361-79df33cd27bc",
   "metadata": {},
   "source": [
    "# View, Copies"
   ]
  },
  {
   "cell_type": "code",
   "execution_count": 114,
   "id": "be3cb13d-cdac-4c2e-a090-c8fed8de683d",
   "metadata": {},
   "outputs": [
    {
     "data": {
      "text/plain": [
       "array([1, 2, 3, 4])"
      ]
     },
     "execution_count": 114,
     "metadata": {},
     "output_type": "execute_result"
    }
   ],
   "source": [
    "a = np.arange(1,5)\n",
    "a"
   ]
  },
  {
   "cell_type": "code",
   "execution_count": 115,
   "id": "2a473df9-192c-4c78-820e-2be2c3f55c45",
   "metadata": {},
   "outputs": [],
   "source": [
    "b = a"
   ]
  },
  {
   "cell_type": "code",
   "execution_count": 116,
   "id": "fcd15b8d-330a-41d3-8477-ebcebdac9f0d",
   "metadata": {},
   "outputs": [],
   "source": [
    "a[2] = 0"
   ]
  },
  {
   "cell_type": "code",
   "execution_count": 117,
   "id": "128b15d8-3912-4da9-8600-77a0aad8f1ee",
   "metadata": {},
   "outputs": [
    {
     "data": {
      "text/plain": [
       "array([1, 2, 0, 4])"
      ]
     },
     "execution_count": 117,
     "metadata": {},
     "output_type": "execute_result"
    }
   ],
   "source": [
    "b"
   ]
  },
  {
   "cell_type": "code",
   "execution_count": 118,
   "id": "ac28a858-050a-42d0-945a-2167b511280a",
   "metadata": {},
   "outputs": [
    {
     "data": {
      "text/plain": [
       "array([1, 2])"
      ]
     },
     "execution_count": 118,
     "metadata": {},
     "output_type": "execute_result"
    }
   ],
   "source": [
    "c = a[0:2]\n",
    "c"
   ]
  },
  {
   "cell_type": "code",
   "execution_count": 120,
   "id": "81f22b8f-5b5d-48a9-b0d9-fd969b0e1581",
   "metadata": {},
   "outputs": [
    {
     "data": {
      "text/plain": [
       "array([5, 2])"
      ]
     },
     "execution_count": 120,
     "metadata": {},
     "output_type": "execute_result"
    }
   ],
   "source": [
    "a[0] = 5\n",
    "c"
   ]
  },
  {
   "cell_type": "code",
   "execution_count": 2,
   "id": "7bfb0e00-4ac7-4871-bbf3-2ad8dad72133",
   "metadata": {},
   "outputs": [
    {
     "data": {
      "text/plain": [
       "'\\nid,value1,value2,value3\\n1,123,1.4,23\\n2,110,0.5,18\\n3,164,2.1,19\\n'"
      ]
     },
     "execution_count": 2,
     "metadata": {},
     "output_type": "execute_result"
    }
   ],
   "source": [
    "#csv(Comma Separated Values)\n",
    "#sample.csv\n",
    "'''\n",
    "id,value1,value2,value3\n",
    "1,123,1.4,23\n",
    "2,110,0.5,18\n",
    "3,164,2.1,19\n",
    "'''"
   ]
  },
  {
   "cell_type": "code",
   "execution_count": 1,
   "id": "c7d01df2-ee46-42a3-b5e6-1f8da7ac1a4a",
   "metadata": {},
   "outputs": [
    {
     "ename": "NameError",
     "evalue": "name 'np' is not defined",
     "output_type": "error",
     "traceback": [
      "\u001b[1;31m---------------------------------------------------------------------------\u001b[0m",
      "\u001b[1;31mNameError\u001b[0m                                 Traceback (most recent call last)",
      "Input \u001b[1;32mIn [1]\u001b[0m, in \u001b[0;36m<cell line: 1>\u001b[1;34m()\u001b[0m\n\u001b[1;32m----> 1\u001b[0m \u001b[43mnp\u001b[49m\u001b[38;5;241m.\u001b[39mgenfromtxt(\u001b[38;5;124m'\u001b[39m\u001b[38;5;124msample.csv\u001b[39m\u001b[38;5;124m'\u001b[39m,delimiter\u001b[38;5;241m=\u001b[39m\u001b[38;5;124m'\u001b[39m\u001b[38;5;124m,\u001b[39m\u001b[38;5;124m'\u001b[39m,names\u001b[38;5;241m=\u001b[39m\u001b[38;5;28;01mTrue\u001b[39;00m)\n",
      "\u001b[1;31mNameError\u001b[0m: name 'np' is not defined"
     ]
    }
   ],
   "source": [
    "np.genfromtxt('sample.csv',delimiter=',',names=True)"
   ]
  },
  {
   "cell_type": "code",
   "execution_count": null,
   "id": "34a808e1-6365-4bbb-a9a1-60e345e68a56",
   "metadata": {},
   "outputs": [],
   "source": []
  }
 ],
 "metadata": {
  "kernelspec": {
   "display_name": "Python 3 (ipykernel)",
   "language": "python",
   "name": "python3"
  },
  "language_info": {
   "codemirror_mode": {
    "name": "ipython",
    "version": 3
   },
   "file_extension": ".py",
   "mimetype": "text/x-python",
   "name": "python",
   "nbconvert_exporter": "python",
   "pygments_lexer": "ipython3",
   "version": "3.9.12"
  }
 },
 "nbformat": 4,
 "nbformat_minor": 5
}
