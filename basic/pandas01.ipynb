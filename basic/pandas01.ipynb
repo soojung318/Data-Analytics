{
 "cells": [
  {
   "cell_type": "markdown",
   "id": "eee1e4f1-1c64-43ee-83ef-0674332a88d1",
   "metadata": {},
   "source": [
    "# Pandas \n",
    "- Series :표 한개의 컬럼을 표현(index, values)<br>\n",
    "  표의  1차원 자료구조, ndarray + label(index)\n",
    "- DataFrame<br>\n",
    "  Series 다수 개를 포함하여 표를 표현한 자료구조"
   ]
  },
  {
   "cell_type": "code",
   "execution_count": 1,
   "id": "3b9e4eda-b5fa-4f7e-b5cc-2214f920c6e5",
   "metadata": {},
   "outputs": [
    {
     "name": "stdout",
     "output_type": "stream",
     "text": [
      "Name: pandas\n",
      "Version: 1.4.2\n",
      "Summary: Powerful data structures for data analysis, time series, and statistics\n",
      "Home-page: https://pandas.pydata.org\n",
      "Author: The Pandas Development Team\n",
      "Author-email: pandas-dev@python.org\n",
      "License: BSD-3-Clause\n",
      "Location: c:\\users\\201-20\\anaconda3\\lib\\site-packages\n",
      "Requires: pytz, python-dateutil, numpy\n",
      "Required-by: xarray, statsmodels, seaborn, hvplot, holoviews, datashader\n"
     ]
    }
   ],
   "source": [
    "!pip show pandas"
   ]
  },
  {
   "cell_type": "code",
   "execution_count": 2,
   "id": "39cc1d48-01f3-4a79-af8b-4ca5c675019c",
   "metadata": {},
   "outputs": [],
   "source": [
    "import pandas as pd\n",
    "import numpy as np"
   ]
  },
  {
   "cell_type": "code",
   "execution_count": 3,
   "id": "24e3f77d-806f-4779-bc96-52672e1122ca",
   "metadata": {},
   "outputs": [
    {
     "data": {
      "text/plain": [
       "0    12\n",
       "1    -4\n",
       "2     7\n",
       "3     9\n",
       "dtype: int64"
      ]
     },
     "execution_count": 3,
     "metadata": {},
     "output_type": "execute_result"
    }
   ],
   "source": [
    "s = pd.Series([12,-4,7,9])\n",
    "s"
   ]
  },
  {
   "cell_type": "code",
   "execution_count": 5,
   "id": "6c97a755-eac6-4ab8-a961-62e7c2c31bb8",
   "metadata": {},
   "outputs": [
    {
     "data": {
      "text/plain": [
       "a    12\n",
       "b    -4\n",
       "c     7\n",
       "d     9\n",
       "dtype: int64"
      ]
     },
     "execution_count": 5,
     "metadata": {},
     "output_type": "execute_result"
    }
   ],
   "source": [
    "s = pd.Series([12,-4,7,9], index=['a','b','c','d'])\n",
    "s"
   ]
  },
  {
   "cell_type": "code",
   "execution_count": 6,
   "id": "32bdce77-bf2e-4c06-9c93-47f4423d46cf",
   "metadata": {},
   "outputs": [
    {
     "data": {
      "text/plain": [
       "Index(['a', 'b', 'c', 'd'], dtype='object')"
      ]
     },
     "execution_count": 6,
     "metadata": {},
     "output_type": "execute_result"
    }
   ],
   "source": [
    "s.index"
   ]
  },
  {
   "cell_type": "code",
   "execution_count": 7,
   "id": "ac2234e6-3312-4c05-b897-e028f1369123",
   "metadata": {},
   "outputs": [
    {
     "data": {
      "text/plain": [
       "array([12, -4,  7,  9], dtype=int64)"
      ]
     },
     "execution_count": 7,
     "metadata": {},
     "output_type": "execute_result"
    }
   ],
   "source": [
    "s.values"
   ]
  },
  {
   "cell_type": "code",
   "execution_count": 8,
   "id": "34e5c532-dfd2-44af-b6ac-0de70a1e2364",
   "metadata": {},
   "outputs": [
    {
     "data": {
      "text/plain": [
       "numpy.ndarray"
      ]
     },
     "execution_count": 8,
     "metadata": {},
     "output_type": "execute_result"
    }
   ],
   "source": [
    "type(s.values)"
   ]
  },
  {
   "cell_type": "code",
   "execution_count": 9,
   "id": "3e27d55d-699a-4819-9f8d-f0bff9bd2349",
   "metadata": {},
   "outputs": [
    {
     "data": {
      "text/plain": [
       "array([-4], dtype=int64)"
      ]
     },
     "execution_count": 9,
     "metadata": {},
     "output_type": "execute_result"
    }
   ],
   "source": [
    "s.values[s<0]"
   ]
  },
  {
   "cell_type": "code",
   "execution_count": 10,
   "id": "53e0ae40-b2c5-4770-98e5-75eea979e38f",
   "metadata": {},
   "outputs": [
    {
     "data": {
      "text/plain": [
       "-4"
      ]
     },
     "execution_count": 10,
     "metadata": {},
     "output_type": "execute_result"
    }
   ],
   "source": [
    "tmp = s.values[s<0]\n",
    "type(tmp)\n",
    "tmp[0]"
   ]
  },
  {
   "cell_type": "code",
   "execution_count": 11,
   "id": "5ad34065-8dcf-41a5-8cf1-229ff56a2617",
   "metadata": {},
   "outputs": [
    {
     "data": {
      "text/plain": [
       "a    False\n",
       "b     True\n",
       "c    False\n",
       "d    False\n",
       "dtype: bool"
      ]
     },
     "execution_count": 11,
     "metadata": {},
     "output_type": "execute_result"
    }
   ],
   "source": [
    "s<0"
   ]
  },
  {
   "cell_type": "code",
   "execution_count": 12,
   "id": "bbb9192c-ad00-46b3-93e0-5958435ac2d4",
   "metadata": {},
   "outputs": [
    {
     "data": {
      "text/plain": [
       "pandas.core.series.Series"
      ]
     },
     "execution_count": 12,
     "metadata": {},
     "output_type": "execute_result"
    }
   ],
   "source": [
    "type(s<0)"
   ]
  },
  {
   "cell_type": "code",
   "execution_count": 14,
   "id": "f9df77d5-7400-43c1-baa5-9c7de75d213b",
   "metadata": {},
   "outputs": [
    {
     "data": {
      "text/plain": [
       "a    12\n",
       "b    -4\n",
       "c     7\n",
       "d     9\n",
       "dtype: int64"
      ]
     },
     "execution_count": 14,
     "metadata": {},
     "output_type": "execute_result"
    }
   ],
   "source": [
    "s"
   ]
  },
  {
   "cell_type": "code",
   "execution_count": 18,
   "id": "20db22e8-2888-4cbb-ad12-c007683c8d41",
   "metadata": {},
   "outputs": [
    {
     "data": {
      "text/plain": [
       "a    12\n",
       "b    -4\n",
       "dtype: int64"
      ]
     },
     "execution_count": 18,
     "metadata": {},
     "output_type": "execute_result"
    }
   ],
   "source": [
    "s[0]    #12\n",
    "s[[0,1]]\n",
    "s[s>0]\n",
    "s[[False,True,False,False]]\n",
    "type(s[[False,True,False,False]])  #Series 객체\n",
    "s[[False,True,False,False]][0]   #Scala 값\n",
    "\n",
    "s[0:2]\n",
    "\n",
    "s['a']   #Scala\n",
    "s[['a','b']]  #Series"
   ]
  },
  {
   "cell_type": "code",
   "execution_count": 19,
   "id": "e6d4cd7b-b8d3-4716-b548-ddb231736d09",
   "metadata": {},
   "outputs": [
    {
     "data": {
      "text/plain": [
       "a    100\n",
       "b     -4\n",
       "c      7\n",
       "d      9\n",
       "dtype: int64"
      ]
     },
     "execution_count": 19,
     "metadata": {},
     "output_type": "execute_result"
    }
   ],
   "source": [
    "s[0] = 100\n",
    "s"
   ]
  },
  {
   "cell_type": "code",
   "execution_count": 21,
   "id": "54681558-e770-48bb-b457-7bc1ed7b4c56",
   "metadata": {},
   "outputs": [
    {
     "data": {
      "text/plain": [
       "a    100\n",
       "b     -4\n",
       "c      7\n",
       "d      9\n",
       "dtype: int64"
      ]
     },
     "execution_count": 21,
     "metadata": {},
     "output_type": "execute_result"
    }
   ],
   "source": [
    "s[['a','b']]\n",
    "s"
   ]
  },
  {
   "cell_type": "code",
   "execution_count": 22,
   "id": "049794e1-9924-439b-adac-74e520b0ae41",
   "metadata": {},
   "outputs": [
    {
     "data": {
      "text/plain": [
       "a    12\n",
       "b    -4\n",
       "c     7\n",
       "d     9\n",
       "dtype: int64"
      ]
     },
     "execution_count": 22,
     "metadata": {},
     "output_type": "execute_result"
    }
   ],
   "source": [
    "s = pd.Series([12,-4,7,9],index=['a','b','c','d'])\n",
    "s"
   ]
  },
  {
   "cell_type": "code",
   "execution_count": 23,
   "id": "d78f0072-f8a6-4d5d-a5fe-0e3669ff7d13",
   "metadata": {},
   "outputs": [
    {
     "data": {
      "text/plain": [
       "a    12\n",
       "b    -4\n",
       "c     7\n",
       "d     9\n",
       "dtype: int64"
      ]
     },
     "execution_count": 23,
     "metadata": {},
     "output_type": "execute_result"
    }
   ],
   "source": [
    "s2 = pd.Series(s)\n",
    "s2"
   ]
  },
  {
   "cell_type": "code",
   "execution_count": 24,
   "id": "5135cdc9-d889-4888-aae8-90acd674e474",
   "metadata": {},
   "outputs": [
    {
     "data": {
      "text/plain": [
       "(12, 12)"
      ]
     },
     "execution_count": 24,
     "metadata": {},
     "output_type": "execute_result"
    }
   ],
   "source": [
    "s2[0],s[0]\n"
   ]
  },
  {
   "cell_type": "code",
   "execution_count": 25,
   "id": "7cfdfaa0-0a8c-4c3c-bbc0-91ffece237de",
   "metadata": {},
   "outputs": [
    {
     "data": {
      "text/plain": [
       "(a   -4\n",
       " b   -4\n",
       " c    7\n",
       " d    9\n",
       " dtype: int64,\n",
       " a   -4\n",
       " b   -4\n",
       " c    7\n",
       " d    9\n",
       " dtype: int64)"
      ]
     },
     "execution_count": 25,
     "metadata": {},
     "output_type": "execute_result"
    }
   ],
   "source": [
    "s2[0] = -4\n",
    "s2,s"
   ]
  },
  {
   "cell_type": "code",
   "execution_count": 26,
   "id": "6228b597-6ab1-4cb7-aad3-fc84afd12d83",
   "metadata": {},
   "outputs": [
    {
     "data": {
      "text/plain": [
       "c    7\n",
       "d    9\n",
       "dtype: int64"
      ]
     },
     "execution_count": 26,
     "metadata": {},
     "output_type": "execute_result"
    }
   ],
   "source": [
    "s[s>0]"
   ]
  },
  {
   "cell_type": "code",
   "execution_count": 35,
   "id": "f2dccd79-f568-4c7e-8f37-083a05ad7ea9",
   "metadata": {},
   "outputs": [
    {
     "data": {
      "text/plain": [
       "(0    100\n",
       " 1      4\n",
       " 2      7\n",
       " 3      9\n",
       " dtype: int64,\n",
       " 0    100\n",
       " 1      4\n",
       " 2      7\n",
       " 3      9\n",
       " dtype: int64,\n",
       " [12, -4, 7, 9])"
      ]
     },
     "execution_count": 35,
     "metadata": {},
     "output_type": "execute_result"
    }
   ],
   "source": [
    "nums = [12,-4,7,9]\n",
    "s = pd.Series(nums)\n",
    "s[1] = 4 # 음수를 양수로 바꾸기.\n",
    "s\n",
    "nums\n",
    "s2 = pd.Series(s)\n",
    "s2[0] = 100\n",
    "s, s2, nums"
   ]
  },
  {
   "cell_type": "code",
   "execution_count": 37,
   "id": "34d17f14-d401-45d9-9961-c1995d40300d",
   "metadata": {},
   "outputs": [
    {
     "data": {
      "text/plain": [
       "0    100\n",
       "1      4\n",
       "2      7\n",
       "3      9\n",
       "dtype: int64"
      ]
     },
     "execution_count": 37,
     "metadata": {},
     "output_type": "execute_result"
    }
   ],
   "source": [
    "s3 = s\n",
    "s3"
   ]
  },
  {
   "cell_type": "code",
   "execution_count": 38,
   "id": "6e2abe64-ac70-4b5d-94f4-c2ab171a695d",
   "metadata": {},
   "outputs": [
    {
     "data": {
      "text/plain": [
       "(0    0\n",
       " 1    4\n",
       " 2    7\n",
       " 3    9\n",
       " dtype: int64,\n",
       " 0    0\n",
       " 1    4\n",
       " 2    7\n",
       " 3    9\n",
       " dtype: int64,\n",
       " 0    0\n",
       " 1    4\n",
       " 2    7\n",
       " 3    9\n",
       " dtype: int64)"
      ]
     },
     "execution_count": 38,
     "metadata": {},
     "output_type": "execute_result"
    }
   ],
   "source": [
    "s3[0] = 0\n",
    "s,s2,s3 #같은 참조, 같은 뷰"
   ]
  },
  {
   "cell_type": "markdown",
   "id": "a4d19d30-0a13-4ad7-bc3a-866a27359173",
   "metadata": {},
   "source": [
    "# 개념 1\n",
    "- Indexer (loc[],iloc[])\n",
    "- loc[] : labels, boolean\n",
    "- iloc[] : position integer, boolean"
   ]
  },
  {
   "cell_type": "code",
   "execution_count": 40,
   "id": "c9ec4220-cb54-4d8f-bb68-523dc81233bd",
   "metadata": {},
   "outputs": [],
   "source": [
    "s.index=['a','b','c','d']"
   ]
  },
  {
   "cell_type": "code",
   "execution_count": 44,
   "id": "692c04a7-6cfc-4ede-8ee6-39d0aecc9e5a",
   "metadata": {},
   "outputs": [
    {
     "data": {
      "text/plain": [
       "9"
      ]
     },
     "execution_count": 44,
     "metadata": {},
     "output_type": "execute_result"
    }
   ],
   "source": [
    "# loc[] : labels,Boolean\n",
    "s.loc['a']\n",
    "s.loc[['a','b']]\n",
    "s.loc[[True,False,False,False]]\n",
    "s.loc[s>5][1]  #Seires, 두번째 값 추출"
   ]
  },
  {
   "cell_type": "code",
   "execution_count": 46,
   "id": "4988263e-783d-4891-b13c-44be95a04c8e",
   "metadata": {},
   "outputs": [
    {
     "data": {
      "text/plain": [
       "c    7\n",
       "d    9\n",
       "dtype: int64"
      ]
     },
     "execution_count": 46,
     "metadata": {},
     "output_type": "execute_result"
    }
   ],
   "source": [
    "# iloc[] : Position integer, Boolean\n",
    "s.iloc[0]\n",
    "s.iloc[[0,1]]\n",
    "s.iloc[[True,False,False,False]]\n",
    "# s.iloc[s>5]   #ValueError\n",
    "s.iloc[(s>5).to_list()]\n",
    "s.iloc[(s>5).to_numpy()]"
   ]
  },
  {
   "cell_type": "code",
   "execution_count": 47,
   "id": "b1e21038-ea82-4002-b145-fb5e38c98151",
   "metadata": {},
   "outputs": [
    {
     "data": {
      "text/plain": [
       "[0, 4, 7, 9]"
      ]
     },
     "execution_count": 47,
     "metadata": {},
     "output_type": "execute_result"
    }
   ],
   "source": [
    "type(s.values)  # numpy.ndarray\n",
    "s.values\n",
    "s.to_numpy()\n",
    "s.to_list()"
   ]
  },
  {
   "cell_type": "code",
   "execution_count": 48,
   "id": "6b689af4-fe1a-428e-9cc8-fd8abd045a87",
   "metadata": {},
   "outputs": [
    {
     "data": {
      "text/plain": [
       "array([0. , 0.5, 1. , 1.5, 2. ])"
      ]
     },
     "execution_count": 48,
     "metadata": {},
     "output_type": "execute_result"
    }
   ],
   "source": [
    "arr = np.arange(5)\n",
    "type(arr)\n",
    "arr/2"
   ]
  },
  {
   "cell_type": "code",
   "execution_count": 49,
   "id": "1ce33b29-5a11-4935-9e17-7899ea617d7c",
   "metadata": {},
   "outputs": [
    {
     "data": {
      "text/plain": [
       "0    0\n",
       "1    2\n",
       "2    4\n",
       "3    6\n",
       "4    8\n",
       "dtype: int32"
      ]
     },
     "execution_count": 49,
     "metadata": {},
     "output_type": "execute_result"
    }
   ],
   "source": [
    "s = pd.Series(arr*2)\n",
    "s"
   ]
  },
  {
   "cell_type": "code",
   "execution_count": 50,
   "id": "c8a114b3-700e-46e7-b4d4-561fb3c20c7f",
   "metadata": {},
   "outputs": [
    {
     "data": {
      "text/plain": [
       "0    0.0\n",
       "1    1.0\n",
       "2    2.0\n",
       "3    3.0\n",
       "4    4.0\n",
       "dtype: float64"
      ]
     },
     "execution_count": 50,
     "metadata": {},
     "output_type": "execute_result"
    }
   ],
   "source": [
    "s/2"
   ]
  },
  {
   "cell_type": "code",
   "execution_count": 52,
   "id": "2190267a-1351-4558-aab9-715ffa0a5973",
   "metadata": {},
   "outputs": [
    {
     "data": {
      "text/plain": [
       "a    1\n",
       "b    3\n",
       "c    5\n",
       "dtype: int64"
      ]
     },
     "execution_count": 52,
     "metadata": {},
     "output_type": "execute_result"
    }
   ],
   "source": [
    "#에러는 나지 않지만 딕셔너리는 키가 중복되면 중복 출력이 안됨.\n",
    "#기존에 입력된 값은 저장되지 않고 최근에 입력된 값이 메모리에 값이 대입되기 때문.\n",
    "s = pd.Series({'a':1,'b':2,'b':3,'c':4,'c':5})\n",
    "s"
   ]
  },
  {
   "cell_type": "code",
   "execution_count": 53,
   "id": "b4759f7d-44b5-487e-96b1-18f9c22a68fc",
   "metadata": {},
   "outputs": [
    {
     "data": {
      "text/plain": [
       "a    1\n",
       "b    2\n",
       "b    3\n",
       "c    4\n",
       "c    5\n",
       "dtype: int64"
      ]
     },
     "execution_count": 53,
     "metadata": {},
     "output_type": "execute_result"
    }
   ],
   "source": [
    "#list는 중복된 키값 출력\n",
    "s = pd.Series([1,2,3,4,5],index=['a','b','b','c','c'])\n",
    "s"
   ]
  },
  {
   "cell_type": "code",
   "execution_count": 54,
   "id": "11aa6a20-bc69-4c0e-9cc6-6fa6327b2443",
   "metadata": {},
   "outputs": [
    {
     "data": {
      "text/plain": [
       "array([1, 2, 3, 4, 5], dtype=int64)"
      ]
     },
     "execution_count": 54,
     "metadata": {},
     "output_type": "execute_result"
    }
   ],
   "source": [
    "#중복되지 않게 값을 가져오는 방법\n",
    "s.unique()"
   ]
  },
  {
   "cell_type": "code",
   "execution_count": 55,
   "id": "bb42413b-8ef4-483b-9817-8632cc04355a",
   "metadata": {},
   "outputs": [
    {
     "data": {
      "text/plain": [
       "1    1\n",
       "2    1\n",
       "3    1\n",
       "4    1\n",
       "5    1\n",
       "dtype: int64"
      ]
     },
     "execution_count": 55,
     "metadata": {},
     "output_type": "execute_result"
    }
   ],
   "source": [
    "len(s)  #5\n",
    "s.value_counts()"
   ]
  },
  {
   "cell_type": "code",
   "execution_count": 56,
   "id": "785e5823-67eb-4132-b524-f0c699658f64",
   "metadata": {},
   "outputs": [
    {
     "data": {
      "text/plain": [
       "True"
      ]
     },
     "execution_count": 56,
     "metadata": {},
     "output_type": "execute_result"
    }
   ],
   "source": [
    "'h' in 'hello'"
   ]
  },
  {
   "cell_type": "code",
   "execution_count": 57,
   "id": "c695647f-1303-4534-aa5e-174667087a94",
   "metadata": {},
   "outputs": [
    {
     "data": {
      "text/plain": [
       "a    False\n",
       "b     True\n",
       "b     True\n",
       "c    False\n",
       "c    False\n",
       "dtype: bool"
      ]
     },
     "execution_count": 57,
     "metadata": {},
     "output_type": "execute_result"
    }
   ],
   "source": [
    "s.isin([2,3])"
   ]
  },
  {
   "cell_type": "code",
   "execution_count": 58,
   "id": "951b0bee-145c-4965-9af3-e5996b7de8f2",
   "metadata": {},
   "outputs": [
    {
     "data": {
      "text/plain": [
       "0     5.0\n",
       "1    -3.0\n",
       "2     NaN\n",
       "3    14.0\n",
       "dtype: float64"
      ]
     },
     "execution_count": 58,
     "metadata": {},
     "output_type": "execute_result"
    }
   ],
   "source": [
    "s2 = pd.Series([5,-3,np.NaN,14]) #NaN :Not a Number\n",
    "s2"
   ]
  },
  {
   "cell_type": "code",
   "execution_count": 60,
   "id": "2ec86a1e-514b-4cd9-82e1-5b1edf232b4e",
   "metadata": {},
   "outputs": [
    {
     "data": {
      "text/plain": [
       "0    False\n",
       "1    False\n",
       "2     True\n",
       "3    False\n",
       "dtype: bool"
      ]
     },
     "execution_count": 60,
     "metadata": {},
     "output_type": "execute_result"
    }
   ],
   "source": [
    "s2.isnull()"
   ]
  },
  {
   "cell_type": "code",
   "execution_count": 61,
   "id": "468d761f-a681-4dc6-9968-564b277a939a",
   "metadata": {},
   "outputs": [
    {
     "data": {
      "text/plain": [
       "0     True\n",
       "1     True\n",
       "2    False\n",
       "3     True\n",
       "dtype: bool"
      ]
     },
     "execution_count": 61,
     "metadata": {},
     "output_type": "execute_result"
    }
   ],
   "source": [
    "s2.notnull()"
   ]
  },
  {
   "cell_type": "code",
   "execution_count": 62,
   "id": "d6f4efe3-7d8a-4e99-9034-734de5e47327",
   "metadata": {},
   "outputs": [
    {
     "data": {
      "text/plain": [
       "5.333333333333333"
      ]
     },
     "execution_count": 62,
     "metadata": {},
     "output_type": "execute_result"
    }
   ],
   "source": [
    "np.mean(s2[s2.notnull()])"
   ]
  },
  {
   "cell_type": "code",
   "execution_count": 63,
   "id": "6d0e09ae-b6e7-4014-aaf6-6d9acddeb821",
   "metadata": {},
   "outputs": [
    {
     "data": {
      "text/plain": [
       "5.333333333333333"
      ]
     },
     "execution_count": 63,
     "metadata": {},
     "output_type": "execute_result"
    }
   ],
   "source": [
    "np.mean(s2[s2.notnull()])"
   ]
  },
  {
   "cell_type": "code",
   "execution_count": null,
   "id": "66036fa3-060b-4102-8e63-a5a54e1e7dcd",
   "metadata": {},
   "outputs": [],
   "source": []
  }
 ],
 "metadata": {
  "kernelspec": {
   "display_name": "Python 3 (ipykernel)",
   "language": "python",
   "name": "python3"
  },
  "language_info": {
   "codemirror_mode": {
    "name": "ipython",
    "version": 3
   },
   "file_extension": ".py",
   "mimetype": "text/x-python",
   "name": "python",
   "nbconvert_exporter": "python",
   "pygments_lexer": "ipython3",
   "version": "3.9.12"
  }
 },
 "nbformat": 4,
 "nbformat_minor": 5
}
