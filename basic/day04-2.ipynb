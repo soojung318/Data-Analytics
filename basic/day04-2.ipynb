{
 "cells": [
  {
   "cell_type": "code",
   "execution_count": 5,
   "id": "627dc8bc",
   "metadata": {},
   "outputs": [],
   "source": [
    "r = range(0,10)"
   ]
  },
  {
   "cell_type": "code",
   "execution_count": 6,
   "id": "a515727b",
   "metadata": {
    "scrolled": true
   },
   "outputs": [
    {
     "data": {
      "text/plain": [
       "range"
      ]
     },
     "execution_count": 6,
     "metadata": {},
     "output_type": "execute_result"
    }
   ],
   "source": [
    "type(r)"
   ]
  },
  {
   "cell_type": "code",
   "execution_count": 7,
   "id": "2dae7548",
   "metadata": {},
   "outputs": [
    {
     "data": {
      "text/plain": [
       "[0, 1, 2, 3, 4, 5, 6, 7, 8, 9]"
      ]
     },
     "execution_count": 7,
     "metadata": {},
     "output_type": "execute_result"
    }
   ],
   "source": [
    "list(r)"
   ]
  },
  {
   "cell_type": "code",
   "execution_count": 12,
   "id": "9f7798a1",
   "metadata": {},
   "outputs": [
    {
     "data": {
      "text/plain": [
       "[5, 4, 3, 2, 1]"
      ]
     },
     "execution_count": 12,
     "metadata": {},
     "output_type": "execute_result"
    }
   ],
   "source": [
    "list(range(1,5))\n",
    "list(range(1,5, 1))\n",
    "list(range(1,5, 2))\n",
    "list(range(5,0, -1))"
   ]
  },
  {
   "cell_type": "code",
   "execution_count": 15,
   "id": "6b1b016a",
   "metadata": {},
   "outputs": [
    {
     "data": {
      "text/plain": [
       "55"
      ]
     },
     "execution_count": 15,
     "metadata": {},
     "output_type": "execute_result"
    }
   ],
   "source": [
    "# 함수 작성, 리스트(원소는 정수 10)를 받아서 원소들의 합산 결과를 리턴하는 함수\n",
    "def list_sum(nums, step=1):  # Parameter Variable(가인자)\n",
    "    return sum(nums)\n",
    "\n",
    "list_sum([1,2,3,4,5,6,7,8,9,10])  # Arguments(실인자)"
   ]
  },
  {
   "cell_type": "code",
   "execution_count": 27,
   "id": "88607a84",
   "metadata": {},
   "outputs": [],
   "source": [
    "def add_num(a, b=0):\n",
    "    c = a-b\n",
    "    print(f\"{a} - {b} = {c}\")"
   ]
  },
  {
   "cell_type": "code",
   "execution_count": 28,
   "id": "0b0fa581",
   "metadata": {},
   "outputs": [
    {
     "name": "stdout",
     "output_type": "stream",
     "text": [
      "5 - 3 = 2\n",
      "5 - 3 = 2\n",
      "5 - 3 = 2\n"
     ]
    }
   ],
   "source": [
    "add_num(5, 3)      # Positional Arguments\n",
    "add_num(b=3, a=5)  # Keyword Arguments\n",
    "add_num(a=5, b=3)"
   ]
  },
  {
   "cell_type": "code",
   "execution_count": 29,
   "id": "34211c1b",
   "metadata": {},
   "outputs": [
    {
     "name": "stdout",
     "output_type": "stream",
     "text": [
      "5 - 0 = 5\n"
     ]
    }
   ],
   "source": [
    "add_num(5)"
   ]
  },
  {
   "cell_type": "code",
   "execution_count": 30,
   "id": "20697adb",
   "metadata": {},
   "outputs": [
    {
     "name": "stdout",
     "output_type": "stream",
     "text": [
      "5 - 3 = 2\n"
     ]
    }
   ],
   "source": [
    "add_num(5, 3)"
   ]
  },
  {
   "cell_type": "markdown",
   "id": "164da95f",
   "metadata": {},
   "source": [
    "## Variable length arguments(가변인자)\n",
    "* positional argument에 적용되는 가변인자\n",
    "* keyword argument에 적용되는 가변인자"
   ]
  },
  {
   "cell_type": "code",
   "execution_count": 32,
   "id": "5930291c",
   "metadata": {},
   "outputs": [
    {
     "name": "stdout",
     "output_type": "stream",
     "text": [
      "3\n",
      "15\n"
     ]
    }
   ],
   "source": [
    "# 이용자가 임의의 갯수의 정수를 어떤 함수에 전달하여 합산하고자 한다면...\n",
    "# 그 아규먼트를 받아서 합산하는 함수는 파라미터 타입을 어떻게 선언해야 할까?\n",
    "def sum_it(nums):\n",
    "    print(sum(nums))\n",
    "    \n",
    "sum_it([1,2])\n",
    "sum_it([1,2,3,4,5])"
   ]
  },
  {
   "cell_type": "code",
   "execution_count": 34,
   "id": "49603cc6",
   "metadata": {},
   "outputs": [],
   "source": [
    "def sum_it2(tp):\n",
    "    print(sum(tp))"
   ]
  },
  {
   "cell_type": "code",
   "execution_count": 35,
   "id": "0ce1a938",
   "metadata": {
    "scrolled": false
   },
   "outputs": [
    {
     "name": "stdout",
     "output_type": "stream",
     "text": [
      "6\n",
      "15\n"
     ]
    }
   ],
   "source": [
    "sum_it2((1,2,3))\n",
    "sum_it2((1,2,3,4,5))"
   ]
  },
  {
   "cell_type": "code",
   "execution_count": 36,
   "id": "36888843",
   "metadata": {},
   "outputs": [],
   "source": [
    "def sum_it3(*arg):  # Variable Length Positional Arguments\n",
    "    print(sum(arg))"
   ]
  },
  {
   "cell_type": "code",
   "execution_count": 37,
   "id": "07659441",
   "metadata": {
    "scrolled": true
   },
   "outputs": [
    {
     "name": "stdout",
     "output_type": "stream",
     "text": [
      "1\n",
      "6\n",
      "21\n"
     ]
    }
   ],
   "source": [
    "sum_it3(1)\n",
    "sum_it3(1,2,3)\n",
    "sum_it3(1,2,3,4,5,6)"
   ]
  },
  {
   "cell_type": "code",
   "execution_count": 49,
   "id": "94b38306",
   "metadata": {},
   "outputs": [],
   "source": [
    "def test(**keyargs):\n",
    "    #print(type(keyargs))\n",
    "    print(keyargs.get('sal'))"
   ]
  },
  {
   "cell_type": "code",
   "execution_count": 50,
   "id": "019b9965",
   "metadata": {
    "scrolled": true
   },
   "outputs": [
    {
     "name": "stdout",
     "output_type": "stream",
     "text": [
      "None\n",
      "3000\n"
     ]
    }
   ],
   "source": [
    "# keyword argument 다수개를 파라미터로 전달할 때\n",
    "test(num=11, name='Smith', dept=10)\n",
    "test(num=12, name='Scott', sal=3000, loc='서울')"
   ]
  },
  {
   "cell_type": "markdown",
   "id": "32eb9d03",
   "metadata": {},
   "source": [
    "# 파일 다루기"
   ]
  },
  {
   "cell_type": "code",
   "execution_count": null,
   "id": "a8801b04",
   "metadata": {},
   "outputs": [],
   "source": [
    "# 파일 : 메모리가 아닌 디스크에 저장된 데이터의 집합\n",
    "# 텍스트 파일: 저장된 데이터를 읽어서 텍스트로 디코딩해야 볼 수 있다\n",
    "# 이진 파일: 텍스트 파일이 아닌 그 이외의 데이터를 저장한 파일\n",
    "# mode : r(읽기), w(쓰기), a(추가), x(생성), b(이진 데이터), t(텍스트), +\n",
    "# mode 설정의 예 : r(rt), wb, r+"
   ]
  },
  {
   "cell_type": "code",
   "execution_count": 52,
   "id": "56d8b430",
   "metadata": {},
   "outputs": [
    {
     "name": "stdout",
     "output_type": "stream",
     "text": [
      "파일 생성 성공\n"
     ]
    }
   ],
   "source": [
    "# 파일 생성(w)\n",
    "fstream = open('my_sample.txt', 'w', encoding='utf-8')\n",
    "fstream.write('내가 만든 파일\\n')\n",
    "fstream.close()\n",
    "print('파일 생성 성공')"
   ]
  },
  {
   "cell_type": "code",
   "execution_count": 53,
   "id": "a3d5872e",
   "metadata": {},
   "outputs": [
    {
     "name": "stdout",
     "output_type": "stream",
     "text": [
      "내가 만든 파일\n",
      "\n"
     ]
    }
   ],
   "source": [
    "# 위에서 생성된 파일 읽어오기\n",
    "fstream = open('my_sample.txt', encoding='utf-8')\n",
    "data = fstream.read()\n",
    "print(data)\n",
    "fstream.close()"
   ]
  },
  {
   "cell_type": "code",
   "execution_count": 60,
   "id": "fe1b9881",
   "metadata": {},
   "outputs": [
    {
     "name": "stdout",
     "output_type": "stream",
     "text": [
      "파일 생성 성공\n"
     ]
    }
   ],
   "source": [
    "# 절대경로를 이용한 파일 생성\n",
    "fstream = open('D:/test/my_sample.txt', 'w', encoding='utf-8')\n",
    "fstream.write('내가 만든 파일\\n')\n",
    "fstream.close()\n",
    "print('파일 생성 성공')\n",
    "# 'w'는 기존 파일이 존재하면 파일 내용을 지우고 새로 쓴다\n",
    "# 파일의 기존 내용을 유지하면서 뒤에 내용을 추가하려면 'a' 모드를 사용한다\n",
    "# 해당 이름의 파일이 없을 때만 생성하려면 'x'를 사용한다"
   ]
  },
  {
   "cell_type": "code",
   "execution_count": 59,
   "id": "b0e12b05",
   "metadata": {},
   "outputs": [
    {
     "name": "stdout",
     "output_type": "stream",
     "text": [
      "내가 만든 파일\n",
      "\n"
     ]
    }
   ],
   "source": [
    "# 문자열 안의 \\ 기능을 해제하려면 \\\\ 으로 하거나, 문자열 앞에 'r'을 추가한다\n",
    "# 디렉토리 구분자를 '/' 로 해도 된다\n",
    "fstream = open('D:\\\\test\\\\my_sample.txt', encoding='utf-8')\n",
    "data = fstream.read()\n",
    "print(data)\n",
    "fstream.close()"
   ]
  },
  {
   "cell_type": "code",
   "execution_count": 61,
   "id": "27206554",
   "metadata": {},
   "outputs": [
    {
     "name": "stdout",
     "output_type": "stream",
     "text": [
      "내가 만든 파일\n",
      "\n"
     ]
    }
   ],
   "source": [
    "# 파일을 열 때 with 블럭을 사용하면 블럭이 모두 실행된 후에 자동으로 close()된다\n",
    "with open('D:\\\\test\\\\my_sample.txt', encoding='utf-8') as fstream:\n",
    "    data = fstream.read()\n",
    "    print(data)"
   ]
  },
  {
   "cell_type": "code",
   "execution_count": 63,
   "id": "a9349ced",
   "metadata": {},
   "outputs": [
    {
     "data": {
      "text/plain": [
       "True"
      ]
     },
     "execution_count": 63,
     "metadata": {},
     "output_type": "execute_result"
    }
   ],
   "source": [
    "# 현재 작업 디렉토리에 포함된 내용 목록 보기\n",
    "import os\n",
    "os.listdir()\n",
    "os.path.isfile('day01.ipynb')"
   ]
  },
  {
   "cell_type": "code",
   "execution_count": 65,
   "id": "7475db50",
   "metadata": {},
   "outputs": [
    {
     "data": {
      "text/plain": [
       "'D:\\\\test\\\\testfile.txt'"
      ]
     },
     "execution_count": 65,
     "metadata": {},
     "output_type": "execute_result"
    }
   ],
   "source": [
    "import os\n",
    "abspath = os.path.join(\"D:\\\\test\", \"testfile.txt\")\n",
    "abspath"
   ]
  },
  {
   "cell_type": "markdown",
   "id": "6e53b91f",
   "metadata": {},
   "source": [
    "## 시간 문자열을 파일명으로 사용하기"
   ]
  },
  {
   "cell_type": "code",
   "execution_count": 66,
   "id": "e0f45f01",
   "metadata": {},
   "outputs": [
    {
     "data": {
      "text/plain": [
       "datetime.datetime(2022, 8, 17, 12, 8, 24, 806509)"
      ]
     },
     "execution_count": 66,
     "metadata": {},
     "output_type": "execute_result"
    }
   ],
   "source": [
    "import datetime\n",
    "datetime.datetime.now()"
   ]
  },
  {
   "cell_type": "code",
   "execution_count": 67,
   "id": "c649ac90",
   "metadata": {
    "scrolled": true
   },
   "outputs": [
    {
     "data": {
      "text/plain": [
       "datetime.datetime(2022, 8, 17, 12, 10, 48, 79240)"
      ]
     },
     "execution_count": 67,
     "metadata": {},
     "output_type": "execute_result"
    }
   ],
   "source": [
    "from datetime import datetime\n",
    "datetime.now()"
   ]
  },
  {
   "cell_type": "code",
   "execution_count": 70,
   "id": "3cd93927",
   "metadata": {},
   "outputs": [
    {
     "data": {
      "text/plain": [
       "'2022-08-17-12-14-08-030880'"
      ]
     },
     "execution_count": 70,
     "metadata": {},
     "output_type": "execute_result"
    }
   ],
   "source": [
    "time_now = datetime.now()\n",
    "time_now.strftime('%Y-%m-%d-%H-%M-%S-%f')"
   ]
  },
  {
   "cell_type": "code",
   "execution_count": 78,
   "id": "f76a3200",
   "metadata": {},
   "outputs": [],
   "source": [
    "# 현재 시간을 구해서 시간 문자열을 생성하고 그 문자열을 파일명으로 하여 파일 생성\n",
    "# 파일 내용에는 연,월,일,시,분,초를 한 행에 한 항목씩 기록해보세요.\n",
    "# 쓰기 작업을 마친 후에는 다시 해당 파일을 읽어서 화면에 표시해보세요."
   ]
  },
  {
   "cell_type": "code",
   "execution_count": 82,
   "id": "44073fcc",
   "metadata": {},
   "outputs": [
    {
     "name": "stdout",
     "output_type": "stream",
     "text": [
      "파일 생성 및 쓰기 완료\n",
      "2022\n",
      "08\n",
      "17\n",
      "12\n",
      "55\n",
      "33\n",
      "\n"
     ]
    }
   ],
   "source": [
    "from datetime import datetime\n",
    "dt_obj = datetime.now()\n",
    "now_str = dt_obj.strftime('%Y-%m-%d-%H-%M-%S-%f')\n",
    "\n",
    "with open(now_str, 'w', encoding='utf-8') as fstream:\n",
    "    fstream.write(dt_obj.strftime('%Y') + '\\n')\n",
    "    fstream.write(dt_obj.strftime('%m') + '\\n')\n",
    "    fstream.write(dt_obj.strftime('%d') + '\\n')\n",
    "    fstream.write(dt_obj.strftime('%H') + '\\n')\n",
    "    fstream.write(dt_obj.strftime('%M') + '\\n')\n",
    "    fstream.write(dt_obj.strftime('%S') + '\\n')\n",
    "\n",
    "print('파일 생성 및 쓰기 완료')\n",
    "\n",
    "with open(now_str, encoding='utf-8') as fstream:\n",
    "    print(fstream.read())"
   ]
  },
  {
   "cell_type": "code",
   "execution_count": 77,
   "id": "85b2c19d",
   "metadata": {},
   "outputs": [
    {
     "name": "stdout",
     "output_type": "stream",
     "text": [
      "기존 파일이 있습니다 [Errno 17] File exists: 'sample.txt'\n",
      "작업 완료\n"
     ]
    }
   ],
   "source": [
    "# 지정된 파일이 없는 경우에만 파일 생성하기\n",
    "try:\n",
    "    with open('sample.txt', 'x', encoding='utf-8') as fstream:\n",
    "        print('파일을 새로 생성함')\n",
    "except FileExistsError as fe:\n",
    "    print('기존 파일이 있습니다 '+ str(fe))\n",
    "finally:\n",
    "    print('작업 완료')"
   ]
  },
  {
   "cell_type": "code",
   "execution_count": null,
   "id": "5e2d6e62",
   "metadata": {},
   "outputs": [],
   "source": [
    "# 파일 복사\n",
    "import shutil\n",
    "shutil.copy('src_file', 'dst_file')"
   ]
  },
  {
   "cell_type": "code",
   "execution_count": null,
   "id": "d25741fb",
   "metadata": {},
   "outputs": [],
   "source": [
    "# 파일명 변경\n",
    "import os\n",
    "os.rename('old_name','new_name')"
   ]
  },
  {
   "cell_type": "code",
   "execution_count": null,
   "id": "b8011267",
   "metadata": {},
   "outputs": [],
   "source": [
    "# 파일 삭제\n",
    "import os\n",
    "os.remove('file_name')"
   ]
  },
  {
   "cell_type": "code",
   "execution_count": null,
   "id": "ef5140ae",
   "metadata": {},
   "outputs": [],
   "source": [
    "# 이진 파일을 읽어 오려면...\n",
    "fstream = open('sample.jpg', 'rb')\n",
    "data = fstream.read()\n",
    "fstream.close()\n",
    "\n",
    "fstream = open('sample_cpy.jpg', 'wb')\n",
    "fstream.write(data)\n",
    "fstream.close()\n",
    "\n",
    "print('이미지 파일 복사 완료')"
   ]
  },
  {
   "cell_type": "code",
   "execution_count": 95,
   "id": "ed46e604",
   "metadata": {
    "scrolled": true
   },
   "outputs": [
    {
     "name": "stdout",
     "output_type": "stream",
     "text": [
      "11 smith 010-1234-2222 smith@gmail.com\n",
      "12 scott 010-3333-5555 scott@daum.net\n",
      "13 ward 010-6940-2390 ward@yahoo.com\n",
      "14 suzan 010-2890-2685 suzan@mbc.com\n",
      "15 blake 010-0129-3694 blake@cnn.com\n",
      "16 마동석 010-3691-1490 mads@korea.com\n",
      "\n"
     ]
    }
   ],
   "source": [
    "fstream = open('D:/test/emp.txt', encoding='utf-8')\n",
    "data = fstream.read()\n",
    "print(data)\n",
    "fstream.close()"
   ]
  },
  {
   "cell_type": "code",
   "execution_count": 98,
   "id": "0b485a5f",
   "metadata": {},
   "outputs": [
    {
     "data": {
      "text/plain": [
       "['_CHUNK_SIZE',\n",
       " '__class__',\n",
       " '__del__',\n",
       " '__delattr__',\n",
       " '__dict__',\n",
       " '__dir__',\n",
       " '__doc__',\n",
       " '__enter__',\n",
       " '__eq__',\n",
       " '__exit__',\n",
       " '__format__',\n",
       " '__ge__',\n",
       " '__getattribute__',\n",
       " '__gt__',\n",
       " '__hash__',\n",
       " '__init__',\n",
       " '__init_subclass__',\n",
       " '__iter__',\n",
       " '__le__',\n",
       " '__lt__',\n",
       " '__ne__',\n",
       " '__new__',\n",
       " '__next__',\n",
       " '__reduce__',\n",
       " '__reduce_ex__',\n",
       " '__repr__',\n",
       " '__setattr__',\n",
       " '__sizeof__',\n",
       " '__str__',\n",
       " '__subclasshook__',\n",
       " '_checkClosed',\n",
       " '_checkReadable',\n",
       " '_checkSeekable',\n",
       " '_checkWritable',\n",
       " '_finalizing',\n",
       " 'buffer',\n",
       " 'close',\n",
       " 'closed',\n",
       " 'detach',\n",
       " 'encoding',\n",
       " 'errors',\n",
       " 'fileno',\n",
       " 'flush',\n",
       " 'isatty',\n",
       " 'line_buffering',\n",
       " 'mode',\n",
       " 'name',\n",
       " 'newlines',\n",
       " 'read',\n",
       " 'readable',\n",
       " 'readline',\n",
       " 'readlines',\n",
       " 'reconfigure',\n",
       " 'seek',\n",
       " 'seekable',\n",
       " 'tell',\n",
       " 'truncate',\n",
       " 'writable',\n",
       " 'write',\n",
       " 'write_through',\n",
       " 'writelines']"
      ]
     },
     "execution_count": 98,
     "metadata": {},
     "output_type": "execute_result"
    }
   ],
   "source": [
    "fin = open('sample.txt', encoding='utf-8')\n",
    "dir(fin)"
   ]
  },
  {
   "cell_type": "code",
   "execution_count": 94,
   "id": "6a7d43ca",
   "metadata": {
    "scrolled": true
   },
   "outputs": [
    {
     "name": "stdout",
     "output_type": "stream",
     "text": [
      "11 smith 010-1234-2222 smith@gmail.com\n",
      "12 scott 010-3333-5555 scott@daum.net\n",
      "13 ward 010-6940-2390 ward@yahoo.com\n",
      "14 suzan 010-2890-2685 suzan@mbc.com\n",
      "15 blake 010-0129-3694 blake@cnn.com\n",
      "16 마동석 010-3691-1490 mads@korea.com\n",
      "파일 읽기 완료\n"
     ]
    }
   ],
   "source": [
    "# 텍스트 파일의 행 단위로 읽어오기\n",
    "with open(\"D:/test/emp.txt\", encoding='utf-8') as fin:\n",
    "    while True:\n",
    "        line = fin.readline()\n",
    "        if line:   # 0, None, 빈 문자열은 False로 간주된다\n",
    "            print(line.strip())\n",
    "        else : \n",
    "            break\n",
    "print('파일 읽기 완료')        "
   ]
  },
  {
   "cell_type": "code",
   "execution_count": 103,
   "id": "228479a9",
   "metadata": {},
   "outputs": [
    {
     "name": "stdout",
     "output_type": "stream",
     "text": [
      "True\n"
     ]
    }
   ],
   "source": [
    "# 파일 스트림은 루프에서 사용할 수 있나?\n",
    "fin = open('D:/test/emp.txt', encoding='utf-8')\n",
    "print( hasattr(fin, '__iter__') )  # True\n",
    "fin.close()"
   ]
  },
  {
   "cell_type": "code",
   "execution_count": 99,
   "id": "0d2e57be",
   "metadata": {},
   "outputs": [
    {
     "name": "stdout",
     "output_type": "stream",
     "text": [
      "11 smith 010-1234-2222 smith@gmail.com\n",
      "12 scott 010-3333-5555 scott@daum.net\n",
      "13 ward 010-6940-2390 ward@yahoo.com\n",
      "14 suzan 010-2890-2685 suzan@mbc.com\n",
      "15 blake 010-0129-3694 blake@cnn.com\n",
      "16 마동석 010-3691-1490 mads@korea.com\n",
      "파일 읽기 완료\n"
     ]
    }
   ],
   "source": [
    "# 텍스트 파일의 행 단위로 읽어오기\n",
    "with open(\"D:/test/emp.txt\", encoding='utf-8') as fin:\n",
    "    for line in fin:\n",
    "        print(line.strip())\n",
    "print('파일 읽기 완료') "
   ]
  },
  {
   "cell_type": "code",
   "execution_count": 105,
   "id": "bf3e3bd5",
   "metadata": {
    "scrolled": true
   },
   "outputs": [
    {
     "name": "stdout",
     "output_type": "stream",
     "text": [
      "14 suzan 010-2890-2685 suzan@mbc.com\n"
     ]
    }
   ],
   "source": [
    "# 특정 이름이 포함된 행을 검색하여 화면에 표시해보세요\n",
    "with open(\"D:/test/emp.txt\", encoding='utf-8') as fin:\n",
    "    for line in fin:\n",
    "        _,name,_,_ = line.split()\n",
    "        if name=='suzan':\n",
    "            print(line.strip())"
   ]
  },
  {
   "cell_type": "markdown",
   "id": "b5f4249a",
   "metadata": {},
   "source": [
    "## 텍스트 파일 특정 행 데이터 변경하기\n",
    "* 한행씩 읽어온다(디스크에서 메모리에 로드한다)\n",
    "* 변경 대상 행이라면 그 행 안의 전화번호만 변경하여 메모리에 로드한다\n",
    "* 텍스트 파일의 내용이 전체 로드되면 다시 디스크에 덮어쓰기한다"
   ]
  },
  {
   "cell_type": "code",
   "execution_count": 112,
   "id": "42a1f7db",
   "metadata": {
    "scrolled": true
   },
   "outputs": [
    {
     "name": "stdout",
     "output_type": "stream",
     "text": [
      "16 마동석 010-1111-3333 mads@korea.com\n",
      "로드 완료\n",
      "수정 완료\n",
      "수정 결과\n",
      "11 smith 010-1234-2222 smith@gmail.com\n",
      "12 scott 010-3333-5555 scott@daum.net\n",
      "13 ward 010-6940-2390 ward@yahoo.com\n",
      "14 suzan 010-2890-2685 suzan@mbc.com\n",
      "15 blake 010-0129-3694 blake@cnn.com\n",
      "16 마동석 010-1111-3333 mads@korea.com\n"
     ]
    }
   ],
   "source": [
    "emp_list = []\n",
    "with open(\"D:/test/emp.txt\", encoding='utf-8') as fin:\n",
    "    for line in fin:\n",
    "        num,name,phone,email = line.split()\n",
    "        if name=='마동석':\n",
    "            #print(line.strip())\n",
    "            phone = \"010-1111-3333\"\n",
    "            line = '{} {} {} {}'.format(num,name,phone,email)\n",
    "        emp_list.append(line)\n",
    "print('로드 완료')\n",
    "\n",
    "with open(\"D:/test/emp.txt\", \"w\", encoding=\"utf-8\") as fout:\n",
    "    fout.writelines(emp_list)\n",
    "print('수정 완료')\n",
    "\n",
    "print('수정 결과')\n",
    "with open(\"D:/test/emp.txt\", encoding=\"utf-8\") as fin:\n",
    "    print(fin.read())"
   ]
  },
  {
   "cell_type": "code",
   "execution_count": 113,
   "id": "ca924f7a",
   "metadata": {
    "scrolled": true
   },
   "outputs": [
    {
     "name": "stdout",
     "output_type": "stream",
     "text": [
      "로드 완료\n",
      "수정 완료\n",
      "수정 결과\n",
      "11 smith 010-1234-2222 smith@gmail.com\n",
      "12 scott 010-3333-5555 scott@daum.net\n",
      "13 ward 010-6940-2390 ward@yahoo.com\n",
      "14 suzan 010-2890-2685 suzan@mbc.com\n",
      "16 마동석 010-1111-3333 mads@korea.com\n"
     ]
    }
   ],
   "source": [
    "# 특정 행 찾아서 삭제하기\n",
    "emp_list = []\n",
    "with open(\"D:/test/emp.txt\", encoding='utf-8') as fin:\n",
    "    for line in fin:\n",
    "        num,name,phone,email = line.split()\n",
    "        if name=='blake':\n",
    "            continue\n",
    "        emp_list.append(line)\n",
    "print('로드 완료')\n",
    "\n",
    "with open(\"D:/test/emp2.txt\", \"w\", encoding=\"utf-8\") as fout:\n",
    "    fout.writelines(emp_list)\n",
    "print('수정 완료')\n",
    "\n",
    "print('수정 결과')\n",
    "with open(\"D:/test/emp2.txt\", encoding=\"utf-8\") as fin:\n",
    "    print(fin.read())"
   ]
  },
  {
   "cell_type": "markdown",
   "id": "b05c5b8a",
   "metadata": {},
   "source": [
    "# 파일을 사용한 회원관리 프로그램 실습"
   ]
  },
  {
   "cell_type": "code",
   "execution_count": 137,
   "id": "855c93f7",
   "metadata": {},
   "outputs": [],
   "source": [
    "class Member:\n",
    "    def __init__(self, str_line):\n",
    "        num,name,phone,email = str_line.split()\n",
    "        self.num = num\n",
    "        self.name = name\n",
    "        self.phone = phone\n",
    "        self.email = email\n",
    "        \n",
    "    def __str__(self):\n",
    "        return '{}\\t{}\\t{}\\t{}'.format(self.num, self.name, self.phone, self.email)\n",
    "    \n",
    "    def to_str(self):\n",
    "        return '{} {} {} {}'.format(self.num,self.name,self.phone,self.email)"
   ]
  },
  {
   "cell_type": "code",
   "execution_count": 138,
   "id": "4586cabc",
   "metadata": {},
   "outputs": [],
   "source": [
    "fpath = \"D:/test/mem.txt\""
   ]
  },
  {
   "cell_type": "code",
   "execution_count": 162,
   "id": "aaac8ad9",
   "metadata": {},
   "outputs": [],
   "source": [
    "def add_mem():\n",
    "    in_str = input('번호 이름 전화 메일:')\n",
    "    num,name,phone,email = in_str.split()\n",
    "    try:\n",
    "        with open(fpath, 'x'):\n",
    "            print('mem.txt 파일 생성됨')\n",
    "    except FileExistsError:\n",
    "        pass\n",
    "    with open(fpath, 'a', encoding='utf-8')as fout:\n",
    "        line = '{} {} {} {}'.format(num,name,phone,email)\n",
    "        fout.write(line+'\\n')\n",
    "    print('회원정보 추가 성공')"
   ]
  },
  {
   "cell_type": "code",
   "execution_count": 174,
   "id": "705931f0",
   "metadata": {},
   "outputs": [],
   "source": [
    "def list_mem():\n",
    "    print('------------------------------------------------------')\n",
    "    with open(fpath, encoding='utf-8')as fin:\n",
    "        for line in fin:\n",
    "            mem = Member(line)\n",
    "            print(mem)"
   ]
  },
  {
   "cell_type": "code",
   "execution_count": 164,
   "id": "d8f8ca57",
   "metadata": {},
   "outputs": [],
   "source": [
    "def find_mem():\n",
    "    print('------------------------------------------------------')\n",
    "    mem_name = input('회원이름:')\n",
    "    with open(fpath, encoding='utf-8')as fin:\n",
    "        for line in fin:\n",
    "            mem = Member(line)\n",
    "            if mem.name==mem_name:\n",
    "                print(mem)\n",
    "                break"
   ]
  },
  {
   "cell_type": "code",
   "execution_count": 165,
   "id": "d9463d98",
   "metadata": {},
   "outputs": [],
   "source": [
    "def overwrite(mem_list):\n",
    "    with open(fpath, 'w', encoding='utf-8') as fout:\n",
    "        for mem in mem_list:\n",
    "            fout.write(mem.to_str() + '\\n')\n",
    "        return True"
   ]
  },
  {
   "cell_type": "code",
   "execution_count": 166,
   "id": "d09c2748",
   "metadata": {},
   "outputs": [],
   "source": [
    "def update_mem():\n",
    "    in_str = input('회원이름 새전화번호:')\n",
    "    name,phone = in_str.split()\n",
    "    mem_list = []\n",
    "    with open(fpath, encoding='utf-8')as fin:\n",
    "        for line in fin:\n",
    "            mem = Member(line)\n",
    "            if mem.name==name:\n",
    "                mem.phone = phone\n",
    "            mem_list.append(mem)\n",
    "    if overwrite(mem_list):\n",
    "        print('수정 성공')"
   ]
  },
  {
   "cell_type": "code",
   "execution_count": 167,
   "id": "c16a469b",
   "metadata": {},
   "outputs": [],
   "source": [
    "def delete_mem():\n",
    "    name = input('삭제할 회원이름:')\n",
    "    mem_list = []\n",
    "    with open(fpath, encoding='utf-8')as fin:\n",
    "        for line in fin:\n",
    "            mem = Member(line)\n",
    "            if mem.name==name:\n",
    "                continue\n",
    "            mem_list.append(mem)\n",
    "    if overwrite(mem_list):\n",
    "        print('삭제 성공')"
   ]
  },
  {
   "cell_type": "code",
   "execution_count": 168,
   "id": "181cafae",
   "metadata": {},
   "outputs": [],
   "source": [
    "m_dic = {'a':'ADD', 's':'LIST', 'f':'FIND', 'u':'UPDATE','d':'DELETE', 'x':'EXIT'}\n",
    "def menu():\n",
    "    print('------------------------------------------------------')\n",
    "    m = input('목록(s), 추가(a), 검색(f), 수정(u), 삭제(d), 종료(x):')\n",
    "    return m_dic.get(m)"
   ]
  },
  {
   "cell_type": "code",
   "execution_count": 176,
   "id": "8809329e",
   "metadata": {},
   "outputs": [
    {
     "name": "stdout",
     "output_type": "stream",
     "text": [
      "------------------------------------------------------\n",
      "목록(s), 추가(a), 검색(f), 수정(u), 삭제(d), 종료(x):s\n",
      "------------------------------------------------------\n",
      "11\t강호동\t010-1111-2222\tkang@naver.com\n",
      "12\t박찬호\t010-2589-6520\tpark@naver.com\n",
      "13\t이수경\t010-5214-2690\tsoo@daum.net\n",
      "------------------------------------------------------\n",
      "목록(s), 추가(a), 검색(f), 수정(u), 삭제(d), 종료(x):x\n",
      "프로그램 종료\n"
     ]
    }
   ],
   "source": [
    "go = True\n",
    "while go:\n",
    "    m = menu()\n",
    "    if m=='ADD':\n",
    "        add_mem()\n",
    "    elif m=='LIST':\n",
    "        list_mem()\n",
    "    elif m=='FIND':\n",
    "        find_mem()\n",
    "    elif m=='UPDATE':\n",
    "        update_mem()   \n",
    "    elif m=='DELETE':\n",
    "        delete_mem()     \n",
    "    elif m=='EXIT':\n",
    "        break\n",
    "    else:\n",
    "        print('메뉴입력 오류')\n",
    "        \n",
    "print('프로그램 종료')"
   ]
  },
  {
   "cell_type": "code",
   "execution_count": null,
   "id": "d1dbf730",
   "metadata": {},
   "outputs": [],
   "source": []
  }
 ],
 "metadata": {
  "kernelspec": {
   "display_name": "Python 3 (ipykernel)",
   "language": "python",
   "name": "python3"
  },
  "language_info": {
   "codemirror_mode": {
    "name": "ipython",
    "version": 3
   },
   "file_extension": ".py",
   "mimetype": "text/x-python",
   "name": "python",
   "nbconvert_exporter": "python",
   "pygments_lexer": "ipython3",
   "version": "3.9.12"
  }
 },
 "nbformat": 4,
 "nbformat_minor": 5
}
