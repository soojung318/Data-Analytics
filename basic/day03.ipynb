{
 "cells": [
  {
   "cell_type": "markdown",
   "id": "dc787071",
   "metadata": {},
   "source": [
    "# 220816 강의 INTRO\n",
    "\n",
    "* 주식 자동매매 시스템\n",
    "* Object Detection\n"
   ]
  },
  {
   "cell_type": "code",
   "execution_count": 18,
   "id": "cabf253a",
   "metadata": {
    "scrolled": true
   },
   "outputs": [
    {
     "ename": "TypeError",
     "evalue": "'tuple' object does not support item assignment",
     "output_type": "error",
     "traceback": [
      "\u001b[1;31m---------------------------------------------------------------------------\u001b[0m",
      "\u001b[1;31mTypeError\u001b[0m                                 Traceback (most recent call last)",
      "Input \u001b[1;32mIn [18]\u001b[0m, in \u001b[0;36m<cell line: 18>\u001b[1;34m()\u001b[0m\n\u001b[0;32m     15\u001b[0m lst[\u001b[38;5;241m0\u001b[39m] \u001b[38;5;241m=\u001b[39m \u001b[38;5;124m'\u001b[39m\u001b[38;5;124mWorld\u001b[39m\u001b[38;5;124m'\u001b[39m\n\u001b[0;32m     16\u001b[0m lst[\u001b[38;5;241m0\u001b[39m]\n\u001b[1;32m---> 18\u001b[0m tp[\u001b[38;5;241m0\u001b[39m]\u001b[38;5;241m=\u001b[39m\u001b[38;5;124m'\u001b[39m\u001b[38;5;124mWorld\u001b[39m\u001b[38;5;124m'\u001b[39m  \u001b[38;5;66;03m# 에러.\u001b[39;00m\n\u001b[0;32m     19\u001b[0m tp[\u001b[38;5;241m0\u001b[39m]\n\u001b[0;32m     21\u001b[0m tp\n",
      "\u001b[1;31mTypeError\u001b[0m: 'tuple' object does not support item assignment"
     ]
    }
   ],
   "source": [
    "# 객체 안에 포함된 함수(메소드)\n",
    "# 객체에 포함되지 않은 함수\n",
    "\n",
    "max([1,2,3])\n",
    "len('Hello')\n",
    "\n",
    "str1 = 'Hello'\n",
    "str2 = str1.lower()\n",
    "tp = (str1, str2)  # Tuple 튜플\n",
    "lst = [ str1,str2]   # List 리스트\n",
    "\n",
    "tp[0]\n",
    "lst[0] #인덱싱: 인덱스를 이용해서 값을 추출하는 것\n",
    "\n",
    "lst[0] = 'World'\n",
    "lst[0]\n",
    "\n",
    "tp[0]='World'  # 에러.\n",
    "tp[0]\n",
    "\n",
    "\n",
    "#리스트와 튜플 공통점: 순서대로 데이터가 저장, 중복 가능.\n",
    "#차이점: 튜플은 데이터 변경 불가능.\n"
   ]
  },
  {
   "cell_type": "code",
   "execution_count": 22,
   "id": "de007ac5",
   "metadata": {},
   "outputs": [
    {
     "data": {
      "text/plain": [
       "'hello'"
      ]
     },
     "execution_count": 22,
     "metadata": {},
     "output_type": "execute_result"
    }
   ],
   "source": [
    "\"Hello\".count('lo') #lo라는 문자 개수 출력\n",
    "\"Hello\".count('l') #l라는 문자 개수 출력\n",
    "str=\"Hello\".upper()\n",
    "str2 = str.lower()\n",
    "tp = (str, str2)\n",
    "tp \n",
    "\n",
    "(e1, e2) = tp #괄호 생략 가능\n",
    "e1\n",
    "e2"
   ]
  },
  {
   "cell_type": "code",
   "execution_count": 24,
   "id": "f8cf6e69",
   "metadata": {},
   "outputs": [
    {
     "data": {
      "text/plain": [
       "'World'"
      ]
     },
     "execution_count": 24,
     "metadata": {},
     "output_type": "execute_result"
    }
   ],
   "source": [
    "#양쪽에 공백이 있는 경우\n",
    "\" World \".lstrip() # left strip의 약자; 왼쪽 공백 제거 후 출력\n",
    "\" World \".rstrip() # right strip의 약자; 오른쪽 공백 제거 후 출력\n",
    "\" World \".strip() # 공백 제거 후 출력"
   ]
  },
  {
   "cell_type": "code",
   "execution_count": 26,
   "id": "b8db4c2c",
   "metadata": {},
   "outputs": [
    {
     "data": {
      "text/plain": [
       "'Hello,World'"
      ]
     },
     "execution_count": 26,
     "metadata": {},
     "output_type": "execute_result"
    }
   ],
   "source": [
    "\"Hello World\".replace(\" \",\",\") #공백을 쉼표로 바꾸는 예제"
   ]
  },
  {
   "cell_type": "code",
   "execution_count": 31,
   "id": "d9c438e2",
   "metadata": {},
   "outputs": [
    {
     "data": {
      "text/plain": [
       "('Hello', 'World')"
      ]
     },
     "execution_count": 31,
     "metadata": {},
     "output_type": "execute_result"
    }
   ],
   "source": [
    "res = \"Hello World\".split()  #공백으로 문자열 분리 -> 리스트로 분리됨.\n",
    "type(res)  #자료형 = list\n",
    "\n",
    "s1,s2 = res\n",
    "tp = (s1,s2) #리스트를 튜플로 전환\n",
    "tp"
   ]
  },
  {
   "cell_type": "markdown",
   "id": "4bb1c4e8",
   "metadata": {},
   "source": [
    "문제 1\n",
    "uid = 'Smith'\n",
    "pwd = 'ABC111'\n",
    "\n",
    "키보드에서 아이디, 암호를 동시에 입력 받아서 위에 제시된 인증을 통과하면 '로그인 성공'아니면 '로그인 실패'를 표시한다. 키보드에서는 대소문자 구분없이 입력해도 정상적으로 인증될 수 있어야 한다."
   ]
  },
  {
   "cell_type": "code",
   "execution_count": 36,
   "id": "731cb3b4",
   "metadata": {},
   "outputs": [
    {
     "name": "stdout",
     "output_type": "stream",
     "text": [
      "아이디,패스워드 입력: SCOTT ABC111\n",
      "로그인 성공\n"
     ]
    }
   ],
   "source": [
    "go = True\n",
    "while go:\n",
    "    login= input('아이디,패스워드 입력: ')\n",
    "    (id, pw)= login.split()\n",
    "    pw = pw.upper()\n",
    "    id = id.upper()\n",
    "    if id=='SCOTT'and pw=='ABC111':\n",
    "        print('로그인 성공')\n",
    "        go = False\n",
    "    else:\n",
    "        print('로그인 실패')"
   ]
  },
  {
   "cell_type": "code",
   "execution_count": 38,
   "id": "f339a9d7",
   "metadata": {},
   "outputs": [
    {
     "name": "stdout",
     "output_type": "stream",
     "text": [
      "아이디 암호:smith abc111\n"
     ]
    },
    {
     "ename": "AttributeError",
     "evalue": "'str' object has no attribute 'ps'",
     "output_type": "error",
     "traceback": [
      "\u001b[1;31m---------------------------------------------------------------------------\u001b[0m",
      "\u001b[1;31mAttributeError\u001b[0m                            Traceback (most recent call last)",
      "Input \u001b[1;32mIn [38]\u001b[0m, in \u001b[0;36m<cell line: 6>\u001b[1;34m()\u001b[0m\n\u001b[0;32m      8\u001b[0m \u001b[38;5;28;01mif\u001b[39;00m \u001b[38;5;28mlen\u001b[39m(in_auth)\u001b[38;5;241m<\u001b[39m\u001b[38;5;241m=\u001b[39m\u001b[38;5;241m1\u001b[39m:\n\u001b[0;32m      9\u001b[0m     \u001b[38;5;28;01mcontinue\u001b[39;00m\n\u001b[1;32m---> 10\u001b[0m \u001b[38;5;28mid\u001b[39m\u001b[38;5;241m.\u001b[39m ps\u001b[38;5;241m=\u001b[39m in_auth\n\u001b[0;32m     12\u001b[0m \u001b[38;5;28mid\u001b[39m \u001b[38;5;241m=\u001b[39m \u001b[38;5;28mid\u001b[39m\u001b[38;5;241m.\u001b[39mtitle()\u001b[38;5;241m.\u001b[39mstrip()\n\u001b[0;32m     13\u001b[0m ps \u001b[38;5;241m=\u001b[39m ps\u001b[38;5;241m.\u001b[39mupper()\u001b[38;5;241m.\u001b[39mstrip()\n",
      "\u001b[1;31mAttributeError\u001b[0m: 'str' object has no attribute 'ps'"
     ]
    }
   ],
   "source": [
    "#선생님 답\n",
    "uid ='Smith'\n",
    "pwd='ABC111'\n",
    "\n",
    "while True:\n",
    "    in_str = input('아이디 암호:')\n",
    "    in_auth = in_str.split()\n",
    "    if len(in_auth)<=1:\n",
    "        continue\n",
    "    id. ps= in_auth\n",
    "    \n",
    "    id = id.title().strip()\n",
    "    ps = ps.upper().strip()\n",
    "    \n",
    "    print((id.ps))\n",
    "    \n",
    "    if id == uid and ps==pwd:\n",
    "        print('로그인성공')\n",
    "        break\n",
    "    else:\n",
    "        print('로그인실패')"
   ]
  },
  {
   "cell_type": "code",
   "execution_count": 39,
   "id": "5f6ef8ab",
   "metadata": {},
   "outputs": [
    {
     "data": {
      "text/plain": [
       "2"
      ]
     },
     "execution_count": 39,
     "metadata": {},
     "output_type": "execute_result"
    }
   ],
   "source": [
    "str=\"Hello World\"\n",
    "str.find('rl')  #index 8\n",
    "str.find('l')"
   ]
  },
  {
   "cell_type": "code",
   "execution_count": 40,
   "id": "6c9cf2ec",
   "metadata": {},
   "outputs": [
    {
     "data": {
      "text/plain": [
       "9"
      ]
     },
     "execution_count": 40,
     "metadata": {},
     "output_type": "execute_result"
    }
   ],
   "source": [
    "str.rfind('l')"
   ]
  },
  {
   "cell_type": "code",
   "execution_count": 41,
   "id": "b3b11a30",
   "metadata": {},
   "outputs": [
    {
     "name": "stdout",
     "output_type": "stream",
     "text": [
      "첫번째\n",
      "두번째\n"
     ]
    }
   ],
   "source": [
    "print('첫번째\\n두번째')"
   ]
  },
  {
   "cell_type": "code",
   "execution_count": 42,
   "id": "e932f08e",
   "metadata": {},
   "outputs": [
    {
     "name": "stdout",
     "output_type": "stream",
     "text": [
      "첫번째 ' ' 두번째\n"
     ]
    }
   ],
   "source": [
    "print(\"첫번째 ' ' 두번째\")"
   ]
  },
  {
   "cell_type": "code",
   "execution_count": 55,
   "id": "8f820ec0",
   "metadata": {},
   "outputs": [
    {
     "data": {
      "text/plain": [
       "[3, 4, 5, 6, 7]"
      ]
     },
     "execution_count": 55,
     "metadata": {},
     "output_type": "execute_result"
    }
   ],
   "source": [
    "lst =[3,4,5,6,7]\n",
    "lst"
   ]
  },
  {
   "cell_type": "code",
   "execution_count": 56,
   "id": "096a82d2",
   "metadata": {},
   "outputs": [
    {
     "data": {
      "text/plain": [
       "[3, 4, 5, 6, 7, 8]"
      ]
     },
     "execution_count": 56,
     "metadata": {},
     "output_type": "execute_result"
    }
   ],
   "source": [
    "lst.append(8)  #create\n",
    "lst"
   ]
  },
  {
   "cell_type": "code",
   "execution_count": 54,
   "id": "a4397a43",
   "metadata": {},
   "outputs": [
    {
     "ename": "IndexError",
     "evalue": "list assignment index out of range",
     "output_type": "error",
     "traceback": [
      "\u001b[1;31m---------------------------------------------------------------------------\u001b[0m",
      "\u001b[1;31mIndexError\u001b[0m                                Traceback (most recent call last)",
      "Input \u001b[1;32mIn [54]\u001b[0m, in \u001b[0;36m<cell line: 1>\u001b[1;34m()\u001b[0m\n\u001b[1;32m----> 1\u001b[0m lst[\u001b[38;5;241m5\u001b[39m] \u001b[38;5;241m=\u001b[39m \u001b[38;5;241m9\u001b[39m\n\u001b[0;32m      2\u001b[0m lst\n",
      "\u001b[1;31mIndexError\u001b[0m: list assignment index out of range"
     ]
    }
   ],
   "source": [
    "lst[5] = 9\n",
    "lst"
   ]
  },
  {
   "cell_type": "code",
   "execution_count": 57,
   "id": "5309066b",
   "metadata": {},
   "outputs": [
    {
     "name": "stdout",
     "output_type": "stream",
     "text": [
      "8를 삭제했습니다\n"
     ]
    }
   ],
   "source": [
    "dir(list)#\n",
    "ret = lst.pop(5) #ret == return준말\n",
    "print(f'{ret}를 삭제했습니다')"
   ]
  },
  {
   "cell_type": "code",
   "execution_count": 58,
   "id": "6d3a94ae",
   "metadata": {},
   "outputs": [
    {
     "data": {
      "text/plain": [
       "[3, 4, 5, 6, 7]"
      ]
     },
     "execution_count": 58,
     "metadata": {},
     "output_type": "execute_result"
    }
   ],
   "source": [
    "lst"
   ]
  },
  {
   "cell_type": "code",
   "execution_count": 59,
   "id": "e4deed45",
   "metadata": {},
   "outputs": [
    {
     "data": {
      "text/plain": [
       "[4, 5, 6, 7]"
      ]
     },
     "execution_count": 59,
     "metadata": {},
     "output_type": "execute_result"
    }
   ],
   "source": [
    "# 함수, 메소드\n",
    "del lst[0] #인덱스 0번 데이터 delete\n",
    "lst"
   ]
  },
  {
   "cell_type": "code",
   "execution_count": 60,
   "id": "15f9f106",
   "metadata": {},
   "outputs": [
    {
     "data": {
      "text/plain": [
       "4"
      ]
     },
     "execution_count": 60,
     "metadata": {},
     "output_type": "execute_result"
    }
   ],
   "source": [
    "#read\n",
    "lst[0]"
   ]
  },
  {
   "cell_type": "code",
   "execution_count": 66,
   "id": "75c1e39e",
   "metadata": {},
   "outputs": [
    {
     "data": {
      "text/plain": [
       "[3, 4, 5, 6, 7]"
      ]
     },
     "execution_count": 66,
     "metadata": {},
     "output_type": "execute_result"
    }
   ],
   "source": [
    "lst =[3,4,5,6,7]\n",
    "lst"
   ]
  },
  {
   "cell_type": "code",
   "execution_count": 67,
   "id": "50cfbc01",
   "metadata": {},
   "outputs": [
    {
     "data": {
      "text/plain": [
       "[5, 6, 7]"
      ]
     },
     "execution_count": 67,
     "metadata": {},
     "output_type": "execute_result"
    }
   ],
   "source": [
    "del lst[:2]\n",
    "lst"
   ]
  },
  {
   "cell_type": "code",
   "execution_count": 68,
   "id": "23689ada",
   "metadata": {},
   "outputs": [
    {
     "data": {
      "text/plain": [
       "[]"
      ]
     },
     "execution_count": 68,
     "metadata": {},
     "output_type": "execute_result"
    }
   ],
   "source": [
    "del lst[:] #데이터를 모두 지운다고 해서 객체주소공간이 지워지는 것은 아님.\n",
    "lst"
   ]
  },
  {
   "cell_type": "code",
   "execution_count": 69,
   "id": "79f37123",
   "metadata": {},
   "outputs": [
    {
     "data": {
      "text/plain": [
       "(True, False, None)"
      ]
     },
     "execution_count": 69,
     "metadata": {},
     "output_type": "execute_result"
    }
   ],
   "source": [
    "#True/False\n",
    "True,False,None"
   ]
  },
  {
   "cell_type": "markdown",
   "id": "e65d7419",
   "metadata": {},
   "source": [
    "비교/논리 연산자"
   ]
  },
  {
   "cell_type": "code",
   "execution_count": 72,
   "id": "d22d38e7",
   "metadata": {
    "scrolled": true
   },
   "outputs": [
    {
     "data": {
      "text/plain": [
       "True"
      ]
     },
     "execution_count": 72,
     "metadata": {},
     "output_type": "execute_result"
    }
   ],
   "source": [
    "type(1<2)\n",
    "res = 1<2 and 4>3\n",
    "type(res)\n",
    "res"
   ]
  },
  {
   "cell_type": "markdown",
   "id": "477c0117",
   "metadata": {},
   "source": [
    "모듈 실행 형태(2가지 방법)\n",
    "1. 주 프로그램에서 import,from 을 사용한다.\n",
    "   import mymod\n",
    "   mymod.myfunc()\n",
    "   from mymod import myfunc as f # mymod.py의 myfunc를 f로 변경\n",
    "   f()\n",
    "2. 해당 모듈이 주 프로그램이 되어 실행되도록 한다.(콘솔에서 python mymod.py 실행)\n",
    "\n",
    "if name == '_main_':\n",
    "    myfunc()\n",
    "    \n",
    "if\n",
    "else \n",
    " "
   ]
  },
  {
   "cell_type": "code",
   "execution_count": 75,
   "id": "4d32d325",
   "metadata": {},
   "outputs": [
    {
     "ename": "TypeError",
     "evalue": "'str' object is not callable",
     "output_type": "error",
     "traceback": [
      "\u001b[1;31m---------------------------------------------------------------------------\u001b[0m",
      "\u001b[1;31mTypeError\u001b[0m                                 Traceback (most recent call last)",
      "Input \u001b[1;32mIn [75]\u001b[0m, in \u001b[0;36m<cell line: 1>\u001b[1;34m()\u001b[0m\n\u001b[1;32m----> 1\u001b[0m \u001b[38;5;124m\"\u001b[39m\u001b[38;5;124m123\u001b[39m\u001b[38;5;124m\"\u001b[39m\u001b[38;5;241m+\u001b[39m\u001b[38;5;28;43mstr\u001b[39;49m\u001b[43m(\u001b[49m\u001b[38;5;241;43m4\u001b[39;49m\u001b[43m)\u001b[49m\n\u001b[0;32m      2\u001b[0m s1 \u001b[38;5;241m=\u001b[39m\u001b[38;5;124m\"\u001b[39m\u001b[38;5;124m123\u001b[39m\u001b[38;5;124m\"\u001b[39m\n\u001b[0;32m      3\u001b[0m s1\u001b[38;5;241m.\u001b[39misdigit()\n",
      "\u001b[1;31mTypeError\u001b[0m: 'str' object is not callable"
     ]
    }
   ],
   "source": [
    "\"123\"+str(4)\n",
    "s1 =\"123\"\n",
    "s1.isdigit()\n",
    "n = int(s1)\n",
    "print(n+5)"
   ]
  },
  {
   "cell_type": "code",
   "execution_count": 76,
   "id": "bbba764d",
   "metadata": {},
   "outputs": [
    {
     "data": {
      "text/plain": [
       "False"
      ]
     },
     "execution_count": 76,
     "metadata": {},
     "output_type": "execute_result"
    }
   ],
   "source": [
    "s2 =\"123\"\n",
    "s2.isalpha()"
   ]
  },
  {
   "cell_type": "code",
   "execution_count": 77,
   "id": "0fe60f0f",
   "metadata": {},
   "outputs": [
    {
     "data": {
      "text/plain": [
       "True"
      ]
     },
     "execution_count": 77,
     "metadata": {},
     "output_type": "execute_result"
    }
   ],
   "source": [
    "s2 = \"Thanks\"\n",
    "s2.isalpha()"
   ]
  },
  {
   "cell_type": "code",
   "execution_count": 79,
   "id": "68f2d79a",
   "metadata": {},
   "outputs": [
    {
     "data": {
      "text/plain": [
       "['__add__',\n",
       " '__class__',\n",
       " '__contains__',\n",
       " '__delattr__',\n",
       " '__dir__',\n",
       " '__doc__',\n",
       " '__eq__',\n",
       " '__format__',\n",
       " '__ge__',\n",
       " '__getattribute__',\n",
       " '__getitem__',\n",
       " '__getnewargs__',\n",
       " '__gt__',\n",
       " '__hash__',\n",
       " '__init__',\n",
       " '__init_subclass__',\n",
       " '__iter__',\n",
       " '__le__',\n",
       " '__len__',\n",
       " '__lt__',\n",
       " '__mod__',\n",
       " '__mul__',\n",
       " '__ne__',\n",
       " '__new__',\n",
       " '__reduce__',\n",
       " '__reduce_ex__',\n",
       " '__repr__',\n",
       " '__rmod__',\n",
       " '__rmul__',\n",
       " '__setattr__',\n",
       " '__sizeof__',\n",
       " '__str__',\n",
       " '__subclasshook__',\n",
       " 'capitalize',\n",
       " 'casefold',\n",
       " 'center',\n",
       " 'count',\n",
       " 'encode',\n",
       " 'endswith',\n",
       " 'expandtabs',\n",
       " 'find',\n",
       " 'format',\n",
       " 'format_map',\n",
       " 'index',\n",
       " 'isalnum',\n",
       " 'isalpha',\n",
       " 'isascii',\n",
       " 'isdecimal',\n",
       " 'isdigit',\n",
       " 'isidentifier',\n",
       " 'islower',\n",
       " 'isnumeric',\n",
       " 'isprintable',\n",
       " 'isspace',\n",
       " 'istitle',\n",
       " 'isupper',\n",
       " 'join',\n",
       " 'ljust',\n",
       " 'lower',\n",
       " 'lstrip',\n",
       " 'maketrans',\n",
       " 'partition',\n",
       " 'removeprefix',\n",
       " 'removesuffix',\n",
       " 'replace',\n",
       " 'rfind',\n",
       " 'rindex',\n",
       " 'rjust',\n",
       " 'rpartition',\n",
       " 'rsplit',\n",
       " 'rstrip',\n",
       " 'split',\n",
       " 'splitlines',\n",
       " 'startswith',\n",
       " 'strip',\n",
       " 'swapcase',\n",
       " 'title',\n",
       " 'translate',\n",
       " 'upper',\n",
       " 'zfill']"
      ]
     },
     "execution_count": 79,
     "metadata": {},
     "output_type": "execute_result"
    }
   ],
   "source": [
    "s3=\"\"\n",
    "dir(s3)"
   ]
  },
  {
   "cell_type": "markdown",
   "id": "44d4a290",
   "metadata": {},
   "source": [
    "문제2\n",
    "키보드에서 전화번호를 입력받아서 010으로 시작되는지, 3자의 숫자인지 검사하고, 두번째, 세번째 번호 그룹이 4자인 숫자로만 되어있는지 검사해서 그 결과를 '유효한 전화번호','번호입력오류'로 표시한다"
   ]
  },
  {
   "cell_type": "code",
   "execution_count": 1,
   "id": "b7683cdb",
   "metadata": {},
   "outputs": [
    {
     "name": "stdout",
     "output_type": "stream",
     "text": [
      "전화번호 입력: 010 3222 5555\n",
      "번호입력 오류\n"
     ]
    },
    {
     "ename": "KeyboardInterrupt",
     "evalue": "Interrupted by user",
     "output_type": "error",
     "traceback": [
      "\u001b[1;31m---------------------------------------------------------------------------\u001b[0m",
      "\u001b[1;31mKeyboardInterrupt\u001b[0m                         Traceback (most recent call last)",
      "Input \u001b[1;32mIn [1]\u001b[0m, in \u001b[0;36m<cell line: 2>\u001b[1;34m()\u001b[0m\n\u001b[0;32m      1\u001b[0m go \u001b[38;5;241m=\u001b[39m \u001b[38;5;28;01mTrue\u001b[39;00m\n\u001b[0;32m      2\u001b[0m \u001b[38;5;28;01mwhile\u001b[39;00m go:\n\u001b[1;32m----> 3\u001b[0m     phoneNum \u001b[38;5;241m=\u001b[39m \u001b[38;5;28;43minput\u001b[39;49m\u001b[43m(\u001b[49m\u001b[38;5;124;43m'\u001b[39;49m\u001b[38;5;124;43m전화번호 입력: \u001b[39;49m\u001b[38;5;124;43m'\u001b[39;49m\u001b[43m)\u001b[49m\n\u001b[0;32m      4\u001b[0m     (num1,num2,num3 )\u001b[38;5;241m=\u001b[39m phoneNum\u001b[38;5;241m.\u001b[39msplit()\n\u001b[0;32m      6\u001b[0m     \u001b[38;5;28;01mif\u001b[39;00m num1\u001b[38;5;241m==\u001b[39m\u001b[38;5;124m'\u001b[39m\u001b[38;5;124m010\u001b[39m\u001b[38;5;124m'\u001b[39m\u001b[38;5;129;01mand\u001b[39;00m num2\u001b[38;5;241m.\u001b[39mcount(num2)\u001b[38;5;241m==\u001b[39m\u001b[38;5;241m4\u001b[39m \u001b[38;5;129;01mand\u001b[39;00m num3\u001b[38;5;241m.\u001b[39mcount(num3)\u001b[38;5;241m==\u001b[39m\u001b[38;5;241m4\u001b[39m:\n",
      "File \u001b[1;32m~\\anaconda3\\lib\\site-packages\\ipykernel\\kernelbase.py:1075\u001b[0m, in \u001b[0;36mKernel.raw_input\u001b[1;34m(self, prompt)\u001b[0m\n\u001b[0;32m   1071\u001b[0m \u001b[38;5;28;01mif\u001b[39;00m \u001b[38;5;129;01mnot\u001b[39;00m \u001b[38;5;28mself\u001b[39m\u001b[38;5;241m.\u001b[39m_allow_stdin:\n\u001b[0;32m   1072\u001b[0m     \u001b[38;5;28;01mraise\u001b[39;00m StdinNotImplementedError(\n\u001b[0;32m   1073\u001b[0m         \u001b[38;5;124m\"\u001b[39m\u001b[38;5;124mraw_input was called, but this frontend does not support input requests.\u001b[39m\u001b[38;5;124m\"\u001b[39m\n\u001b[0;32m   1074\u001b[0m     )\n\u001b[1;32m-> 1075\u001b[0m \u001b[38;5;28;01mreturn\u001b[39;00m \u001b[38;5;28;43mself\u001b[39;49m\u001b[38;5;241;43m.\u001b[39;49m\u001b[43m_input_request\u001b[49m\u001b[43m(\u001b[49m\n\u001b[0;32m   1076\u001b[0m \u001b[43m    \u001b[49m\u001b[38;5;28;43mstr\u001b[39;49m\u001b[43m(\u001b[49m\u001b[43mprompt\u001b[49m\u001b[43m)\u001b[49m\u001b[43m,\u001b[49m\n\u001b[0;32m   1077\u001b[0m \u001b[43m    \u001b[49m\u001b[38;5;28;43mself\u001b[39;49m\u001b[38;5;241;43m.\u001b[39;49m\u001b[43m_parent_ident\u001b[49m\u001b[43m[\u001b[49m\u001b[38;5;124;43m\"\u001b[39;49m\u001b[38;5;124;43mshell\u001b[39;49m\u001b[38;5;124;43m\"\u001b[39;49m\u001b[43m]\u001b[49m\u001b[43m,\u001b[49m\n\u001b[0;32m   1078\u001b[0m \u001b[43m    \u001b[49m\u001b[38;5;28;43mself\u001b[39;49m\u001b[38;5;241;43m.\u001b[39;49m\u001b[43mget_parent\u001b[49m\u001b[43m(\u001b[49m\u001b[38;5;124;43m\"\u001b[39;49m\u001b[38;5;124;43mshell\u001b[39;49m\u001b[38;5;124;43m\"\u001b[39;49m\u001b[43m)\u001b[49m\u001b[43m,\u001b[49m\n\u001b[0;32m   1079\u001b[0m \u001b[43m    \u001b[49m\u001b[43mpassword\u001b[49m\u001b[38;5;241;43m=\u001b[39;49m\u001b[38;5;28;43;01mFalse\u001b[39;49;00m\u001b[43m,\u001b[49m\n\u001b[0;32m   1080\u001b[0m \u001b[43m\u001b[49m\u001b[43m)\u001b[49m\n",
      "File \u001b[1;32m~\\anaconda3\\lib\\site-packages\\ipykernel\\kernelbase.py:1120\u001b[0m, in \u001b[0;36mKernel._input_request\u001b[1;34m(self, prompt, ident, parent, password)\u001b[0m\n\u001b[0;32m   1117\u001b[0m             \u001b[38;5;28;01mbreak\u001b[39;00m\n\u001b[0;32m   1118\u001b[0m \u001b[38;5;28;01mexcept\u001b[39;00m \u001b[38;5;167;01mKeyboardInterrupt\u001b[39;00m:\n\u001b[0;32m   1119\u001b[0m     \u001b[38;5;66;03m# re-raise KeyboardInterrupt, to truncate traceback\u001b[39;00m\n\u001b[1;32m-> 1120\u001b[0m     \u001b[38;5;28;01mraise\u001b[39;00m \u001b[38;5;167;01mKeyboardInterrupt\u001b[39;00m(\u001b[38;5;124m\"\u001b[39m\u001b[38;5;124mInterrupted by user\u001b[39m\u001b[38;5;124m\"\u001b[39m) \u001b[38;5;28;01mfrom\u001b[39;00m \u001b[38;5;28mNone\u001b[39m\n\u001b[0;32m   1121\u001b[0m \u001b[38;5;28;01mexcept\u001b[39;00m \u001b[38;5;167;01mException\u001b[39;00m:\n\u001b[0;32m   1122\u001b[0m     \u001b[38;5;28mself\u001b[39m\u001b[38;5;241m.\u001b[39mlog\u001b[38;5;241m.\u001b[39mwarning(\u001b[38;5;124m\"\u001b[39m\u001b[38;5;124mInvalid Message:\u001b[39m\u001b[38;5;124m\"\u001b[39m, exc_info\u001b[38;5;241m=\u001b[39m\u001b[38;5;28;01mTrue\u001b[39;00m)\n",
      "\u001b[1;31mKeyboardInterrupt\u001b[0m: Interrupted by user"
     ]
    }
   ],
   "source": [
    "#문제2\n",
    "go = True\n",
    "while go:\n",
    "    phoneNum = input('전화번호 입력: ')\n",
    "    (num1,num2,num3 )= phoneNum.split()\n",
    "    \n",
    "    if num1=='010'and num2.count(num2)==4 and num3.count(num3)==4:\n",
    "        print('유효한 전화번호')\n",
    "        go = False\n",
    "    else:\n",
    "        print('번호입력 오류')"
   ]
  },
  {
   "cell_type": "code",
   "execution_count": 6,
   "id": "51607f1f",
   "metadata": {},
   "outputs": [
    {
     "name": "stdout",
     "output_type": "stream",
     "text": [
      "전화번호 입력:0000-5555-5555\n",
      "성공\n"
     ]
    }
   ],
   "source": [
    "#답2\n",
    "vaild = False\n",
    "\n",
    "in_str = input('전화번호 입력:')\n",
    "lst = in_str.split('-')\n",
    "\n",
    "if len(lst[0])==3 and lst[0].isdigit():\n",
    "    if len(lst[1]) ==4 and lst[1].isdigit():\n",
    "        if len(lst[2])==4 and lst[2].isdigit():\n",
    "            valid = True\n",
    "print('유효한 번호') if valid else print('실패')"
   ]
  },
  {
   "cell_type": "code",
   "execution_count": 7,
   "id": "9c4d62ce",
   "metadata": {},
   "outputs": [
    {
     "name": "stdout",
     "output_type": "stream",
     "text": [
      "참\n"
     ]
    }
   ],
   "source": [
    "if True:\n",
    "    print('참')"
   ]
  },
  {
   "cell_type": "code",
   "execution_count": 10,
   "id": "866ce25a",
   "metadata": {},
   "outputs": [
    {
     "name": "stdout",
     "output_type": "stream",
     "text": [
      "거짓\n"
     ]
    }
   ],
   "source": [
    "if 0:   #0,None은 거짓, 문자\"0\"은 참,문자열''은 거짓.\n",
    "    print('참')  #파이썬은 0을 초과한 숫자는 모두 참.\n",
    "else:\n",
    "    print('거짓')"
   ]
  },
  {
   "cell_type": "markdown",
   "id": "39299a30",
   "metadata": {},
   "source": [
    "문제3\n",
    "무한히 키보드 입력을 받아 들이는 기능 작성\n",
    "키보드에서 입력 데이터를 화면에 표시하고 다시 입력을 받는다\n",
    "만약에 이용자가 입력할 때 아무것도 입력하지 않고 엔터키만 치는 경우에는 프로그램을 종료한다."
   ]
  },
  {
   "cell_type": "code",
   "execution_count": 17,
   "id": "1203a533",
   "metadata": {},
   "outputs": [
    {
     "name": "stdout",
     "output_type": "stream",
     "text": [
      "문자열입력: dfdf\n",
      "dfdf\n",
      "문자열입력: \n",
      "프로그램종료\n",
      "\n"
     ]
    }
   ],
   "source": [
    "#문제3\n",
    "go = True\n",
    "while go:\n",
    "    str1 = input('문자열입력: ')\n",
    "    \n",
    "    if str1 == '':\n",
    "        print('프로그램종료')\n",
    "        go = False\n",
    "    if str1.count(str1) == 1:\n",
    "        print(str1)"
   ]
  },
  {
   "cell_type": "code",
   "execution_count": 13,
   "id": "a47cac7c",
   "metadata": {},
   "outputs": [
    {
     "name": "stdout",
     "output_type": "stream",
     "text": [
      "문자열입력: d5d5d\n"
     ]
    },
    {
     "data": {
      "text/plain": [
       "1"
      ]
     },
     "execution_count": 13,
     "metadata": {},
     "output_type": "execute_result"
    }
   ],
   "source": [
    "#문제3기능테스트\n",
    "str1 = input('문자열입력: ')\n",
    "str1.count(str1)"
   ]
  },
  {
   "cell_type": "code",
   "execution_count": 18,
   "id": "afeccbb0",
   "metadata": {},
   "outputs": [
    {
     "name": "stdout",
     "output_type": "stream",
     "text": [
      "메시지:hello\n",
      "hello\n",
      "메시지:\n",
      "프로그램 종료\n"
     ]
    }
   ],
   "source": [
    "#답3\n",
    "go = True\n",
    "\n",
    "while go:\n",
    "    in_str = input('메시지:')\n",
    "    if in_str:print(in_str)\n",
    "    else:break\n",
    "        \n",
    "print('프로그램 종료')"
   ]
  },
  {
   "cell_type": "markdown",
   "id": "9be9f136",
   "metadata": {},
   "source": [
    "## list(순서o,중복o,값변경o), tupe(순서o,중복o,값변경x),set(중복x),dictionary(key,value)"
   ]
  },
  {
   "cell_type": "code",
   "execution_count": 19,
   "id": "0123d94e",
   "metadata": {},
   "outputs": [
    {
     "data": {
      "text/plain": [
       "[1, 2, 3, 4, 5, 6, 6, 6]"
      ]
     },
     "execution_count": 19,
     "metadata": {},
     "output_type": "execute_result"
    }
   ],
   "source": [
    "lst = [1,2,3,4,5,6,6,6]\n",
    "lst"
   ]
  },
  {
   "cell_type": "code",
   "execution_count": 20,
   "id": "395782b0",
   "metadata": {},
   "outputs": [
    {
     "data": {
      "text/plain": [
       "(1, 2, 3, 4, 5, 6, 6, 6)"
      ]
     },
     "execution_count": 20,
     "metadata": {},
     "output_type": "execute_result"
    }
   ],
   "source": [
    "tpl = (1,2,3,4,5,6,6,6)\n",
    "tpl"
   ]
  },
  {
   "cell_type": "code",
   "execution_count": 21,
   "id": "7f45a480",
   "metadata": {},
   "outputs": [
    {
     "data": {
      "text/plain": [
       "[1, 2, 3, 4]"
      ]
     },
     "execution_count": 21,
     "metadata": {},
     "output_type": "execute_result"
    }
   ],
   "source": [
    "[1,2]+[3,4]"
   ]
  },
  {
   "cell_type": "code",
   "execution_count": 22,
   "id": "9a462897",
   "metadata": {},
   "outputs": [
    {
     "data": {
      "text/plain": [
       "(1, 2, 3, 4)"
      ]
     },
     "execution_count": 22,
     "metadata": {},
     "output_type": "execute_result"
    }
   ],
   "source": [
    "(1,2)+(3,4)"
   ]
  },
  {
   "cell_type": "code",
   "execution_count": 23,
   "id": "353a0ed0",
   "metadata": {},
   "outputs": [
    {
     "data": {
      "text/plain": [
       "{1, 2, 3, 4, 5, 6}"
      ]
     },
     "execution_count": 23,
     "metadata": {},
     "output_type": "execute_result"
    }
   ],
   "source": [
    "set1 = {1,2,3,4,5,6,6,6}\n",
    "set1"
   ]
  },
  {
   "cell_type": "code",
   "execution_count": 24,
   "id": "36e71edf",
   "metadata": {},
   "outputs": [
    {
     "data": {
      "text/plain": [
       "{'name': 'Smith', 'num': 11, 'phone': '010-4544-8888'}"
      ]
     },
     "execution_count": 24,
     "metadata": {},
     "output_type": "execute_result"
    }
   ],
   "source": [
    "dic1= {'name':'Smith','num':11,'phone':'010-4544-8888'}\n",
    "dic1"
   ]
  },
  {
   "cell_type": "code",
   "execution_count": 28,
   "id": "23973cbe",
   "metadata": {},
   "outputs": [
    {
     "data": {
      "text/plain": [
       "(1, 3)"
      ]
     },
     "execution_count": 28,
     "metadata": {},
     "output_type": "execute_result"
    }
   ],
   "source": [
    "#값 두개를 동시에 반환 가능하다. \n",
    "#정확하게는 값 두 개가 아니라, 하나의 튜플이 반환되는 것임.\n",
    "def test():\n",
    "    return 1,3\n",
    "test()"
   ]
  },
  {
   "cell_type": "code",
   "execution_count": 29,
   "id": "06131c97",
   "metadata": {},
   "outputs": [
    {
     "data": {
      "text/plain": [
       "(1, 3)"
      ]
     },
     "execution_count": 29,
     "metadata": {},
     "output_type": "execute_result"
    }
   ],
   "source": [
    "a,b = test()\n",
    "a,b"
   ]
  },
  {
   "cell_type": "code",
   "execution_count": 30,
   "id": "0a9121bc",
   "metadata": {},
   "outputs": [
    {
     "data": {
      "text/plain": [
       "1"
      ]
     },
     "execution_count": 30,
     "metadata": {},
     "output_type": "execute_result"
    }
   ],
   "source": [
    "a"
   ]
  },
  {
   "cell_type": "code",
   "execution_count": 31,
   "id": "8d5d630e",
   "metadata": {},
   "outputs": [
    {
     "data": {
      "text/plain": [
       "3"
      ]
     },
     "execution_count": 31,
     "metadata": {},
     "output_type": "execute_result"
    }
   ],
   "source": [
    "b"
   ]
  },
  {
   "cell_type": "markdown",
   "id": "b9f82634",
   "metadata": {},
   "source": [
    "문제4\n",
    "1~9 무작위 수 5개를 중복 없이 추출하여 출력한다.\n",
    "set() 사용."
   ]
  },
  {
   "cell_type": "code",
   "execution_count": 36,
   "id": "d78f10d3",
   "metadata": {},
   "outputs": [
    {
     "name": "stdout",
     "output_type": "stream",
     "text": [
      "5개 추출완료\n"
     ]
    },
    {
     "data": {
      "text/plain": [
       "{1, 2, 4, 8, 9}"
      ]
     },
     "execution_count": 36,
     "metadata": {},
     "output_type": "execute_result"
    }
   ],
   "source": [
    "#답4\n",
    "import random\n",
    "\n",
    "go = True\n",
    "set1 = set()\n",
    "\n",
    "while go:\n",
    "    set1.add(random.randint(1,9))\n",
    "    if len(set1)==5:\n",
    "        break\n",
    "print('5개 추출완료')\n",
    "set1"
   ]
  },
  {
   "cell_type": "code",
   "execution_count": 37,
   "id": "ef3045a1",
   "metadata": {},
   "outputs": [
    {
     "data": {
      "text/plain": [
       "True"
      ]
     },
     "execution_count": 37,
     "metadata": {},
     "output_type": "execute_result"
    }
   ],
   "source": [
    "1 in [1,2,3] #1이 리스트 안에 있는가? T/F"
   ]
  },
  {
   "cell_type": "code",
   "execution_count": 38,
   "id": "d2e21a78",
   "metadata": {},
   "outputs": [
    {
     "data": {
      "text/plain": [
       "True"
      ]
     },
     "execution_count": 38,
     "metadata": {},
     "output_type": "execute_result"
    }
   ],
   "source": [
    "5 not in [1,2,3] #5가 리스트 안에 없으면 T"
   ]
  },
  {
   "cell_type": "code",
   "execution_count": 39,
   "id": "28594f32",
   "metadata": {},
   "outputs": [
    {
     "data": {
      "text/plain": [
       "True"
      ]
     },
     "execution_count": 39,
     "metadata": {},
     "output_type": "execute_result"
    }
   ],
   "source": [
    "'hello' in 'hello world'"
   ]
  },
  {
   "cell_type": "code",
   "execution_count": 40,
   "id": "5982dd58",
   "metadata": {},
   "outputs": [
    {
     "data": {
      "text/plain": [
       "False"
      ]
     },
     "execution_count": 40,
     "metadata": {},
     "output_type": "execute_result"
    }
   ],
   "source": [
    "'hello' not in 'hello world'"
   ]
  },
  {
   "cell_type": "code",
   "execution_count": 43,
   "id": "9efdff33",
   "metadata": {},
   "outputs": [
    {
     "ename": "ModuleNotFoundError",
     "evalue": "No module named 'radom'",
     "output_type": "error",
     "traceback": [
      "\u001b[1;31m---------------------------------------------------------------------------\u001b[0m",
      "\u001b[1;31mModuleNotFoundError\u001b[0m                       Traceback (most recent call last)",
      "Input \u001b[1;32mIn [43]\u001b[0m, in \u001b[0;36m<cell line: 1>\u001b[1;34m()\u001b[0m\n\u001b[1;32m----> 1\u001b[0m \u001b[38;5;28;01mimport\u001b[39;00m \u001b[38;5;21;01mradom\u001b[39;00m\n",
      "\u001b[1;31mModuleNotFoundError\u001b[0m: No module named 'radom'"
     ]
    }
   ],
   "source": [
    "import radom"
   ]
  },
  {
   "cell_type": "markdown",
   "id": "1464c76a",
   "metadata": {},
   "source": [
    "문제5\n",
    "set을 사용하지 않고 중복되지 않은 정수 7개 추출하기(1~10)"
   ]
  },
  {
   "cell_type": "code",
   "execution_count": 45,
   "id": "340ac685",
   "metadata": {},
   "outputs": [
    {
     "ename": "AttributeError",
     "evalue": "module 'random' has no attribute 'radint'",
     "output_type": "error",
     "traceback": [
      "\u001b[1;31m---------------------------------------------------------------------------\u001b[0m",
      "\u001b[1;31mAttributeError\u001b[0m                            Traceback (most recent call last)",
      "Input \u001b[1;32mIn [45]\u001b[0m, in \u001b[0;36m<cell line: 7>\u001b[1;34m()\u001b[0m\n\u001b[0;32m      5\u001b[0m nums \u001b[38;5;241m=\u001b[39m []\n\u001b[0;32m      7\u001b[0m \u001b[38;5;28;01mwhile\u001b[39;00m go:\n\u001b[1;32m----> 8\u001b[0m     n \u001b[38;5;241m=\u001b[39m \u001b[43mrandom\u001b[49m\u001b[38;5;241;43m.\u001b[39;49m\u001b[43mradint\u001b[49m(\u001b[38;5;241m1\u001b[39m,\u001b[38;5;241m10\u001b[39m)\n\u001b[0;32m      9\u001b[0m     \u001b[38;5;28;01mif\u001b[39;00m n \u001b[38;5;129;01mnot\u001b[39;00m \u001b[38;5;129;01min\u001b[39;00m nums:\n\u001b[0;32m     10\u001b[0m         nums\u001b[38;5;241m.\u001b[39mappend(n)\n",
      "\u001b[1;31mAttributeError\u001b[0m: module 'random' has no attribute 'radint'"
     ]
    }
   ],
   "source": [
    "#문제5\n",
    "#from random import *\n",
    "import random\n",
    "go = True\n",
    "nums = []\n",
    "\n",
    "while go:\n",
    "    n = random.radint(1,10)\n",
    "    if n not in nums:\n",
    "        nums.append(n)\n",
    "        if len(nums)==7:\n",
    "            break\n",
    "sorted(nums)"
   ]
  },
  {
   "cell_type": "code",
   "execution_count": 46,
   "id": "9e6c14fd",
   "metadata": {},
   "outputs": [
    {
     "name": "stdout",
     "output_type": "stream",
     "text": [
      "11.smith\n",
      "12.ward\n",
      "13.scott\n"
     ]
    }
   ],
   "source": [
    "#답5\n",
    "emps =[[11,'smith'],[12,'ward'],[13,'scott']]\n",
    "\n",
    "for emp in emps:\n",
    "    num,name = emp\n",
    "    print('{}.{}'.format(num,name))"
   ]
  },
  {
   "cell_type": "code",
   "execution_count": 51,
   "id": "9c0e5750",
   "metadata": {},
   "outputs": [
    {
     "data": {
      "text/plain": [
       "{'smith': [11, 'smith', 20],\n",
       " 'ward': [12, 'ward', 10],\n",
       " 'scoot': [13, 'scott', 30]}"
      ]
     },
     "execution_count": 51,
     "metadata": {},
     "output_type": "execute_result"
    }
   ],
   "source": [
    "dic1 = {'smith':[11,'smith',20],\n",
    "        'ward':[12,'ward',10],\n",
    "        'scoot':[13,'scott',30]\n",
    "       } #dictionary\n",
    "#dir(dic1)\n",
    "dic1"
   ]
  },
  {
   "cell_type": "markdown",
   "id": "47087684",
   "metadata": {},
   "source": [
    "문제6\n",
    "딕셔너리에 저장된 목록 표시하기.\n"
   ]
  },
  {
   "cell_type": "code",
   "execution_count": 54,
   "id": "be7ab835",
   "metadata": {},
   "outputs": [
    {
     "ename": "ValueError",
     "evalue": "too many values to unpack (expected 2)",
     "output_type": "error",
     "traceback": [
      "\u001b[1;31m---------------------------------------------------------------------------\u001b[0m",
      "\u001b[1;31mValueError\u001b[0m                                Traceback (most recent call last)",
      "Input \u001b[1;32mIn [54]\u001b[0m, in \u001b[0;36m<cell line: 6>\u001b[1;34m()\u001b[0m\n\u001b[0;32m      1\u001b[0m dic1 \u001b[38;5;241m=\u001b[39m {\u001b[38;5;124m'\u001b[39m\u001b[38;5;124msmith\u001b[39m\u001b[38;5;124m'\u001b[39m:[\u001b[38;5;241m11\u001b[39m,\u001b[38;5;124m'\u001b[39m\u001b[38;5;124msmith\u001b[39m\u001b[38;5;124m'\u001b[39m,\u001b[38;5;241m20\u001b[39m],\n\u001b[0;32m      2\u001b[0m         \u001b[38;5;124m'\u001b[39m\u001b[38;5;124mward\u001b[39m\u001b[38;5;124m'\u001b[39m:[\u001b[38;5;241m12\u001b[39m,\u001b[38;5;124m'\u001b[39m\u001b[38;5;124mward\u001b[39m\u001b[38;5;124m'\u001b[39m,\u001b[38;5;241m10\u001b[39m],\n\u001b[0;32m      3\u001b[0m         \u001b[38;5;124m'\u001b[39m\u001b[38;5;124mscoot\u001b[39m\u001b[38;5;124m'\u001b[39m:[\u001b[38;5;241m13\u001b[39m,\u001b[38;5;124m'\u001b[39m\u001b[38;5;124mscott\u001b[39m\u001b[38;5;124m'\u001b[39m,\u001b[38;5;241m30\u001b[39m]\n\u001b[0;32m      4\u001b[0m        } \u001b[38;5;66;03m#dictionary\u001b[39;00m\n\u001b[0;32m      6\u001b[0m \u001b[38;5;28;01mfor\u001b[39;00m dic2 \u001b[38;5;129;01min\u001b[39;00m dic1:\n\u001b[1;32m----> 7\u001b[0m     num,name\u001b[38;5;241m=\u001b[39m dic2\n\u001b[0;32m      8\u001b[0m     \u001b[38;5;28mprint\u001b[39m(\u001b[38;5;124m'\u001b[39m\u001b[38;5;132;01m{}\u001b[39;00m\u001b[38;5;124m.\u001b[39m\u001b[38;5;132;01m{}\u001b[39;00m\u001b[38;5;124m'\u001b[39m\u001b[38;5;241m.\u001b[39mformat(num,name))\n",
      "\u001b[1;31mValueError\u001b[0m: too many values to unpack (expected 2)"
     ]
    }
   ],
   "source": [
    "dic1 = {'smith':[11,'smith',20],\n",
    "        'ward':[12,'ward',10],\n",
    "        'scoot':[13,'scott',30]\n",
    "       } #dictionary\n",
    "\n",
    "for dic2 in dic1:\n",
    "    num,name= dic2\n",
    "    print('{}.{}'.format(num,name))"
   ]
  },
  {
   "cell_type": "code",
   "execution_count": 56,
   "id": "a3900166",
   "metadata": {
    "scrolled": true
   },
   "outputs": [
    {
     "name": "stdout",
     "output_type": "stream",
     "text": [
      "<class 'dict_keys'>\n",
      "11\tsmith\t20\n",
      "12\tward\t10\n",
      "13\tscott\t30\n"
     ]
    }
   ],
   "source": [
    "#답6\n",
    "klist = dic1.keys()\n",
    "print(type(klist))\n",
    "for name in klist:\n",
    "    emp = dic1.get(name)\n",
    "    num,name,dept = emp\n",
    "    print('{}\\t{}\\t{}'.format(num,name,dept))"
   ]
  },
  {
   "cell_type": "code",
   "execution_count": 63,
   "id": "dde13061",
   "metadata": {},
   "outputs": [
    {
     "name": "stdout",
     "output_type": "stream",
     "text": [
      "11\tsmith\t20\n",
      "12\tward\t10\n",
      "13\tscott\t30\n"
     ]
    }
   ],
   "source": [
    "#문제 7 (6번 변형.)\n",
    "for item in dic1.items():\n",
    "    k, v = item\n",
    "    num,name,dept = v\n",
    "    print('{}\\t{}\\t{}'.format(num,name,dept))"
   ]
  },
  {
   "cell_type": "code",
   "execution_count": 64,
   "id": "83c70a9c",
   "metadata": {},
   "outputs": [
    {
     "data": {
      "text/plain": [
       "'smith'"
      ]
     },
     "execution_count": 64,
     "metadata": {},
     "output_type": "execute_result"
    }
   ],
   "source": [
    "dic2 = {'a':'smith','b':'scott'}\n",
    "dic2['a']\n",
    "dic2.get('a')"
   ]
  },
  {
   "cell_type": "code",
   "execution_count": 66,
   "id": "8d54ddd0",
   "metadata": {},
   "outputs": [],
   "source": [
    "dic2.get('c') #해당 키가 없더라도 오류는 발생하지 않음\n"
   ]
  },
  {
   "cell_type": "code",
   "execution_count": 67,
   "id": "9c2dbcad",
   "metadata": {},
   "outputs": [
    {
     "data": {
      "text/plain": [
       "{'a': 'smith', 'b': 'scott', 'c': 'ward'}"
      ]
     },
     "execution_count": 67,
     "metadata": {},
     "output_type": "execute_result"
    }
   ],
   "source": [
    "dic2['c'] = 'ward'\n",
    "dic2"
   ]
  },
  {
   "cell_type": "code",
   "execution_count": 68,
   "id": "e6ee322e",
   "metadata": {},
   "outputs": [
    {
     "data": {
      "text/plain": [
       "'ward'"
      ]
     },
     "execution_count": 68,
     "metadata": {},
     "output_type": "execute_result"
    }
   ],
   "source": [
    "dic2.get('c')"
   ]
  },
  {
   "cell_type": "code",
   "execution_count": 69,
   "id": "ff23464e",
   "metadata": {},
   "outputs": [
    {
     "data": {
      "text/plain": [
       "'king'"
      ]
     },
     "execution_count": 69,
     "metadata": {},
     "output_type": "execute_result"
    }
   ],
   "source": [
    "dic2['c'] = 'king'  #update\n",
    "dic2.get('c')\n",
    "dic2['c']"
   ]
  },
  {
   "cell_type": "code",
   "execution_count": 72,
   "id": "b4c368e5",
   "metadata": {},
   "outputs": [
    {
     "data": {
      "text/plain": [
       "'smith'"
      ]
     },
     "execution_count": 72,
     "metadata": {},
     "output_type": "execute_result"
    }
   ],
   "source": [
    "dir(dic2)\n",
    "dic2.pop('a')"
   ]
  },
  {
   "cell_type": "code",
   "execution_count": 73,
   "id": "699dba78",
   "metadata": {},
   "outputs": [
    {
     "data": {
      "text/plain": [
       "{'b': 'scott', 'c': 'king'}"
      ]
     },
     "execution_count": 73,
     "metadata": {},
     "output_type": "execute_result"
    }
   ],
   "source": [
    "dic2"
   ]
  },
  {
   "cell_type": "code",
   "execution_count": 74,
   "id": "34bf2eb1",
   "metadata": {},
   "outputs": [
    {
     "data": {
      "text/plain": [
       "{'c': 'king'}"
      ]
     },
     "execution_count": 74,
     "metadata": {},
     "output_type": "execute_result"
    }
   ],
   "source": [
    "del dic2['b']\n",
    "dic2"
   ]
  },
  {
   "cell_type": "markdown",
   "id": "d72a3b50",
   "metadata": {},
   "source": [
    "문제8\n",
    "딕셔너리 crud 실습\n",
    "프로그램 시작 시 다음 과 같은 목록(s)을 보여준다.\n",
    "검색(f), 추가(a), 수정(u),삭제(d), 종료(x) 목록\n",
    "키보드에서 아이디, 번호, 이름 항목을 입력 받아서 Emp 객체를 초기화 한다. 아이디를 키로 하고 Emp 객체를 value 로 하는 딕셔너리에 저장한다."
   ]
  },
  {
   "cell_type": "code",
   "execution_count": 80,
   "id": "af158ec5",
   "metadata": {},
   "outputs": [],
   "source": [
    "#답8\n",
    "class Emp:\n",
    "    def __init__(self,uid,num,name):\n",
    "        self.uid = uid\n",
    "        self.num = num\n",
    "        self.name = name\n",
    "        \n",
    "    def __str__(self):\n",
    "        return '{}\\t{}\\t{}'.format(self.uid,self.num,self.name)"
   ]
  },
  {
   "cell_type": "code",
   "execution_count": 81,
   "id": "a737aca4",
   "metadata": {},
   "outputs": [],
   "source": [
    "emp_dic={}\n",
    "m_dic ={'s':'LIST','f':'FIND','a':'ADD','u':'UPDATE','d':'DELETE','x':'EXIT'}\n",
    "\n",
    "def menu():\n",
    "    print('-------------------------------------------------')\n",
    "    m = input('목록(s). 검색(f).추가(a).수정(u).삭제(d).종료(x):')\n",
    "    return m_dic.get(m) #list 반환"
   ]
  },
  {
   "cell_type": "code",
   "execution_count": 88,
   "id": "4b253d5d",
   "metadata": {},
   "outputs": [],
   "source": [
    "def add():\n",
    "    in_str = input('아이디 번호 이름:')\n",
    "    token = in_str.split()\n",
    "    if len(token) != 3:\n",
    "        print('입력오류')\n",
    "        return\n",
    "    uid,num,name = token #튜플\n",
    "    emp_dic[uid] = Emp(uid,num,name) #uid라는 키에 Emp라는 객체를 넣음\n",
    "    print('저장성공')"
   ]
  },
  {
   "cell_type": "code",
   "execution_count": 83,
   "id": "d7519ec2",
   "metadata": {},
   "outputs": [],
   "source": [
    "def list():\n",
    "    print('-------------------------------------------------')\n",
    "    for key in emp_dic.keys():\n",
    "        emp = emp_dic[key]\n",
    "        print('{}\\t{}\\t{}'.format(emp.uid, emp.num,emp.name))"
   ]
  },
  {
   "cell_type": "code",
   "execution_count": 84,
   "id": "0898c2f6",
   "metadata": {},
   "outputs": [],
   "source": [
    "def find():\n",
    "    print('-------------------------------------------------')\n",
    "    uid = input('검색할 사원 아이디:')\n",
    "    found = emp_dic.get(uid)  #emp객체가 found 변수에 대입\n",
    "    if found: #값이 있다면 true, false는 0,None일 경우에만.\n",
    "        print(found)\n",
    "    else:\n",
    "        print('검색된 정보가 없습니다.')"
   ]
  },
  {
   "cell_type": "code",
   "execution_count": 85,
   "id": "48430114",
   "metadata": {},
   "outputs": [],
   "source": [
    "def update():\n",
    "    print('-------------------------------------------------')\n",
    "    in_str = input('수정할 아이디 번호 이름:')\n",
    "    uid, num, name = in_str.split()\n",
    "    found = emp_dic.get(uid)\n",
    "    if found: # 수정사항이 발견되면 새로 입력된 번호와 이름을 변경\n",
    "        found.num = num\n",
    "        found.name = name\n",
    "        print('수정 성공')\n",
    "    else:\n",
    "        print('수정 실패')\n",
    "        "
   ]
  },
  {
   "cell_type": "code",
   "execution_count": 86,
   "id": "b9943c6e",
   "metadata": {},
   "outputs": [],
   "source": [
    "def delete():\n",
    "    print('-------------------------------------------------')\n",
    "    uid = input('삭제할 아이디:')\n",
    "    if emp_dic.pop(uid): #삭제 성공했다면,, pop()안에 반환기능 내제됨. null이면 삭제 실패\n",
    "        print('삭제 성공')\n",
    "    else:\n",
    "        print('삭제 실패')"
   ]
  },
  {
   "cell_type": "code",
   "execution_count": null,
   "id": "00975303",
   "metadata": {},
   "outputs": [
    {
     "name": "stdout",
     "output_type": "stream",
     "text": [
      "-------------------------------------------------\n",
      "목록(s). 검색(f).추가(a).수정(u).삭제(d).종료(x):a\n",
      "아이디 번호 이름:scott 11 scott\n",
      "저장성공\n",
      "-------------------------------------------------\n",
      "목록(s). 검색(f).추가(a).수정(u).삭제(d).종료(x):f\n",
      "-------------------------------------------------\n",
      "검색할 사원 아이디:scott\n",
      "scott\t11\tscott\n",
      "-------------------------------------------------\n"
     ]
    }
   ],
   "source": [
    "go = True\n",
    "while go:\n",
    "    m = menu()\n",
    "    if m == 'LIST':\n",
    "        list()\n",
    "    elif m == 'FIND':\n",
    "        find()\n",
    "    elif m == 'ADD':\n",
    "        add()\n",
    "    elif m == 'UPDATE':\n",
    "        update()\n",
    "    elif m == 'DELETE':\n",
    "        delete()\n",
    "    elif m == 'EXIT':\n",
    "        break\n",
    "    else:\n",
    "        print('메뉴 입력 오류')\n",
    "print('프로그램 종료')"
   ]
  },
  {
   "cell_type": "code",
   "execution_count": null,
   "id": "52fe6e0b",
   "metadata": {},
   "outputs": [],
   "source": []
  }
 ],
 "metadata": {
  "kernelspec": {
   "display_name": "Python 3 (ipykernel)",
   "language": "python",
   "name": "python3"
  },
  "language_info": {
   "codemirror_mode": {
    "name": "ipython",
    "version": 3
   },
   "file_extension": ".py",
   "mimetype": "text/x-python",
   "name": "python",
   "nbconvert_exporter": "python",
   "pygments_lexer": "ipython3",
   "version": "3.9.12"
  }
 },
 "nbformat": 4,
 "nbformat_minor": 5
}
