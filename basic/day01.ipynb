{
 "cells": [
  {
   "cell_type": "markdown",
   "id": "9735fd5e",
   "metadata": {},
   "source": [
    "# 파이썬 프로그래밍\n",
    "## Interactive Interpreter"
   ]
  },
  {
   "cell_type": "markdown",
   "id": "f06a61be",
   "metadata": {},
   "source": [
    "     * 첫번째\n",
    "     * 두번째\n",
    "     * 세번째\n"
   ]
  },
  {
   "cell_type": "code",
   "execution_count": 1,
   "id": "74e3c8fa",
   "metadata": {},
   "outputs": [
    {
     "name": "stdout",
     "output_type": "stream",
     "text": [
      "Hello World\n"
     ]
    }
   ],
   "source": [
    "print('Hello World')"
   ]
  },
  {
   "cell_type": "code",
   "execution_count": 2,
   "id": "6c3651f2",
   "metadata": {},
   "outputs": [
    {
     "name": "stdout",
     "output_type": "stream",
     "text": [
      "5\n"
     ]
    }
   ],
   "source": [
    "print(5)"
   ]
  },
  {
   "cell_type": "code",
   "execution_count": 3,
   "id": "0db0b9cf",
   "metadata": {},
   "outputs": [
    {
     "name": "stdout",
     "output_type": "stream",
     "text": [
      "5\n"
     ]
    }
   ],
   "source": [
    "print(\"5\")"
   ]
  },
  {
   "cell_type": "code",
   "execution_count": 4,
   "id": "fb24bdb5",
   "metadata": {},
   "outputs": [
    {
     "name": "stdout",
     "output_type": "stream",
     "text": [
      "8\n"
     ]
    }
   ],
   "source": [
    "print(5+3)"
   ]
  },
  {
   "cell_type": "code",
   "execution_count": 5,
   "id": "95f0dda8",
   "metadata": {},
   "outputs": [
    {
     "name": "stdout",
     "output_type": "stream",
     "text": [
      "\n"
     ]
    }
   ],
   "source": [
    "print()"
   ]
  },
  {
   "cell_type": "code",
   "execution_count": 6,
   "id": "b9be6f19",
   "metadata": {},
   "outputs": [
    {
     "name": "stdout",
     "output_type": "stream",
     "text": [
      "3+5\n"
     ]
    }
   ],
   "source": [
    "print(\"3+5\")"
   ]
  },
  {
   "cell_type": "code",
   "execution_count": 7,
   "id": "93cb89f4",
   "metadata": {},
   "outputs": [
    {
     "name": "stdout",
     "output_type": "stream",
     "text": [
      "3+5= 8\n"
     ]
    }
   ],
   "source": [
    "print(\"3+5=\",8)"
   ]
  },
  {
   "cell_type": "code",
   "execution_count": 8,
   "id": "34ee6461",
   "metadata": {},
   "outputs": [
    {
     "name": "stdout",
     "output_type": "stream",
     "text": [
      "1 2 3 Hello World!\n"
     ]
    }
   ],
   "source": [
    "print(1,2,3,\"Hello\",\"World!\")"
   ]
  },
  {
   "cell_type": "code",
   "execution_count": 9,
   "id": "f0f36060",
   "metadata": {},
   "outputs": [
    {
     "name": "stdout",
     "output_type": "stream",
     "text": [
      "3+5= 8\n"
     ]
    }
   ],
   "source": [
    "print(\"3+5=\",3+5)"
   ]
  },
  {
   "cell_type": "code",
   "execution_count": 10,
   "id": "b9b60794",
   "metadata": {},
   "outputs": [
    {
     "name": "stdout",
     "output_type": "stream",
     "text": [
      "홍길동\n"
     ]
    }
   ],
   "source": [
    "print(\"홍길동\")"
   ]
  },
  {
   "cell_type": "code",
   "execution_count": 11,
   "id": "05216533",
   "metadata": {},
   "outputs": [
    {
     "name": "stdout",
     "output_type": "stream",
     "text": [
      "55\n"
     ]
    }
   ],
   "source": [
    "print(1+2+3+4+5+6+7+8+9+10)"
   ]
  },
  {
   "cell_type": "code",
   "execution_count": 12,
   "id": "0dd112b2",
   "metadata": {},
   "outputs": [
    {
     "name": "stdout",
     "output_type": "stream",
     "text": [
      "7\n"
     ]
    }
   ],
   "source": [
    "print(2^5)"
   ]
  },
  {
   "cell_type": "code",
   "execution_count": 13,
   "id": "a784acec",
   "metadata": {},
   "outputs": [
    {
     "data": {
      "text/plain": [
       "32"
      ]
     },
     "execution_count": 13,
     "metadata": {},
     "output_type": "execute_result"
    }
   ],
   "source": [
    "2*2*2*2*2"
   ]
  },
  {
   "cell_type": "code",
   "execution_count": 14,
   "id": "88540190",
   "metadata": {},
   "outputs": [
    {
     "name": "stdout",
     "output_type": "stream",
     "text": [
      "32\n"
     ]
    }
   ],
   "source": [
    "print(2*2*2*2*2)"
   ]
  },
  {
   "cell_type": "code",
   "execution_count": 15,
   "id": "1398245f",
   "metadata": {},
   "outputs": [
    {
     "name": "stdout",
     "output_type": "stream",
     "text": [
      "3\n"
     ]
    }
   ],
   "source": [
    "print(5-(3-1))"
   ]
  },
  {
   "cell_type": "code",
   "execution_count": 16,
   "id": "4612f595",
   "metadata": {},
   "outputs": [
    {
     "name": "stdout",
     "output_type": "stream",
     "text": [
      "5.0 20\n"
     ]
    }
   ],
   "source": [
    "print(10/2,10*2)"
   ]
  },
  {
   "cell_type": "code",
   "execution_count": 17,
   "id": "c7cbc6f4",
   "metadata": {},
   "outputs": [],
   "source": [
    "val=30"
   ]
  },
  {
   "cell_type": "code",
   "execution_count": 18,
   "id": "eca3596e",
   "metadata": {},
   "outputs": [
    {
     "name": "stdout",
     "output_type": "stream",
     "text": [
      "64\n"
     ]
    }
   ],
   "source": [
    "v1=25\n",
    "v2=39\n",
    "print(v1+v2)"
   ]
  },
  {
   "cell_type": "code",
   "execution_count": 19,
   "id": "ec80138d",
   "metadata": {},
   "outputs": [
    {
     "name": "stdout",
     "output_type": "stream",
     "text": [
      "55\n"
     ]
    }
   ],
   "source": [
    "v1=25\n",
    "v2=30\n",
    "print(v1+v2)"
   ]
  },
  {
   "cell_type": "code",
   "execution_count": 20,
   "id": "2e26639f",
   "metadata": {},
   "outputs": [
    {
     "name": "stdout",
     "output_type": "stream",
     "text": [
      "90.0\n"
     ]
    }
   ],
   "source": [
    "x=3*50\n",
    "y=x+120\n",
    "z=y/3\n",
    "print(z)"
   ]
  },
  {
   "cell_type": "code",
   "execution_count": 21,
   "id": "30fef502",
   "metadata": {},
   "outputs": [
    {
     "data": {
      "text/plain": [
       "8"
      ]
     },
     "execution_count": 21,
     "metadata": {},
     "output_type": "execute_result"
    }
   ],
   "source": [
    "2*2*2"
   ]
  },
  {
   "cell_type": "code",
   "execution_count": 22,
   "id": "6463be24",
   "metadata": {},
   "outputs": [],
   "source": [
    "x=2*2*2"
   ]
  },
  {
   "cell_type": "code",
   "execution_count": 23,
   "id": "4022c922",
   "metadata": {},
   "outputs": [
    {
     "name": "stdout",
     "output_type": "stream",
     "text": [
      "8\n"
     ]
    }
   ],
   "source": [
    "print(x)"
   ]
  },
  {
   "cell_type": "code",
   "execution_count": 24,
   "id": "0f3abe51",
   "metadata": {},
   "outputs": [
    {
     "name": "stdout",
     "output_type": "stream",
     "text": [
      "2.0\n"
     ]
    }
   ],
   "source": [
    "y=x/4\n",
    "print(y)"
   ]
  },
  {
   "cell_type": "code",
   "execution_count": 25,
   "id": "29855d60",
   "metadata": {},
   "outputs": [],
   "source": [
    "z=y*y"
   ]
  },
  {
   "cell_type": "code",
   "execution_count": 26,
   "id": "e8abeb80",
   "metadata": {},
   "outputs": [
    {
     "name": "stdout",
     "output_type": "stream",
     "text": [
      "4.0\n"
     ]
    }
   ],
   "source": [
    "print(z)"
   ]
  },
  {
   "cell_type": "code",
   "execution_count": 27,
   "id": "203e1f73",
   "metadata": {},
   "outputs": [],
   "source": [
    "x=100"
   ]
  },
  {
   "cell_type": "code",
   "execution_count": 28,
   "id": "648f3c24",
   "metadata": {},
   "outputs": [
    {
     "name": "stdout",
     "output_type": "stream",
     "text": [
      "100\n"
     ]
    }
   ],
   "source": [
    "print(x)"
   ]
  },
  {
   "cell_type": "code",
   "execution_count": 29,
   "id": "901e1c35",
   "metadata": {},
   "outputs": [
    {
     "name": "stdout",
     "output_type": "stream",
     "text": [
      "3.14\n"
     ]
    }
   ],
   "source": [
    "x=3.14\n",
    "print(x)"
   ]
  },
  {
   "cell_type": "code",
   "execution_count": 30,
   "id": "45c94e04",
   "metadata": {},
   "outputs": [
    {
     "name": "stdout",
     "output_type": "stream",
     "text": [
      "hi~\n"
     ]
    }
   ],
   "source": [
    "x=\"hi~\"\n",
    "print(x)"
   ]
  },
  {
   "cell_type": "code",
   "execution_count": 31,
   "id": "e16ef111",
   "metadata": {},
   "outputs": [
    {
     "name": "stdout",
     "output_type": "stream",
     "text": [
      "90.0\n"
     ]
    }
   ],
   "source": [
    "x=3*50\n",
    "x=x+120\n",
    "x=x/3\n",
    "print(x)"
   ]
  },
  {
   "cell_type": "code",
   "execution_count": 32,
   "id": "26a56564",
   "metadata": {},
   "outputs": [
    {
     "name": "stdout",
     "output_type": "stream",
     "text": [
      "8\n"
     ]
    }
   ],
   "source": [
    "x=2*2*2\n",
    "print(x)"
   ]
  },
  {
   "cell_type": "code",
   "execution_count": 33,
   "id": "1f21a193",
   "metadata": {},
   "outputs": [
    {
     "name": "stdout",
     "output_type": "stream",
     "text": [
      "2.0\n"
     ]
    }
   ],
   "source": [
    "x=x/4\n",
    "print(x)"
   ]
  },
  {
   "cell_type": "code",
   "execution_count": 34,
   "id": "be035870",
   "metadata": {},
   "outputs": [
    {
     "name": "stdout",
     "output_type": "stream",
     "text": [
      "4.0\n"
     ]
    }
   ],
   "source": [
    "x=x*x\n",
    "print(x)"
   ]
  },
  {
   "cell_type": "code",
   "execution_count": 35,
   "id": "3f1e6829",
   "metadata": {},
   "outputs": [
    {
     "name": "stdout",
     "output_type": "stream",
     "text": [
      "121 797\n"
     ]
    }
   ],
   "source": [
    "x,y=121,797\n",
    "print(x,y)"
   ]
  },
  {
   "cell_type": "code",
   "execution_count": 36,
   "id": "ed9b2f1b",
   "metadata": {},
   "outputs": [
    {
     "name": "stdout",
     "output_type": "stream",
     "text": [
      "797\n"
     ]
    }
   ],
   "source": [
    "x=y\n",
    "print(x)"
   ]
  },
  {
   "cell_type": "code",
   "execution_count": 37,
   "id": "3324f211",
   "metadata": {},
   "outputs": [
    {
     "name": "stdout",
     "output_type": "stream",
     "text": [
      "797 797\n"
     ]
    }
   ],
   "source": [
    "print(x,y)"
   ]
  },
  {
   "cell_type": "code",
   "execution_count": 38,
   "id": "d32f49c0",
   "metadata": {},
   "outputs": [],
   "source": [
    "x,y=y,x"
   ]
  },
  {
   "cell_type": "code",
   "execution_count": 39,
   "id": "bb0a6c5b",
   "metadata": {},
   "outputs": [
    {
     "name": "stdout",
     "output_type": "stream",
     "text": [
      "797 797\n"
     ]
    }
   ],
   "source": [
    "print(x,y)"
   ]
  },
  {
   "cell_type": "code",
   "execution_count": 40,
   "id": "f6a77b29",
   "metadata": {},
   "outputs": [
    {
     "name": "stdout",
     "output_type": "stream",
     "text": [
      "797 121\n"
     ]
    }
   ],
   "source": [
    "x,y=121,797\n",
    "x,y=y,x\n",
    "print(x,y)\n"
   ]
  },
  {
   "cell_type": "code",
   "execution_count": 41,
   "id": "e2a30e26",
   "metadata": {},
   "outputs": [
    {
     "name": "stdout",
     "output_type": "stream",
     "text": [
      "\n"
     ]
    }
   ],
   "source": [
    "print()"
   ]
  },
  {
   "cell_type": "code",
   "execution_count": 42,
   "id": "b96e56dd",
   "metadata": {},
   "outputs": [
    {
     "name": "stdout",
     "output_type": "stream",
     "text": [
      "반갑습니다.\n"
     ]
    }
   ],
   "source": [
    "print(\"반갑습니다.\")"
   ]
  },
  {
   "cell_type": "code",
   "execution_count": 43,
   "id": "3a6a903b",
   "metadata": {},
   "outputs": [
    {
     "name": "stdout",
     "output_type": "stream",
     "text": [
      "파이썬의 세계로 오신 것을 환영합니다.\n"
     ]
    }
   ],
   "source": [
    "print(\"파이썬의 세계로 오신 것을 환영합니다.\")"
   ]
  },
  {
   "cell_type": "code",
   "execution_count": 44,
   "id": "f378ad5d",
   "metadata": {},
   "outputs": [],
   "source": [
    "def greet():\n",
    "    print(\"반갑습니다.\")\n",
    "    print(\"파이썬의 세계로 오신것을 환영합니다\")\n",
    "    "
   ]
  },
  {
   "cell_type": "code",
   "execution_count": 45,
   "id": "251f2f18",
   "metadata": {},
   "outputs": [
    {
     "name": "stdout",
     "output_type": "stream",
     "text": [
      "반갑습니다.\n",
      "파이썬의 세계로 오신것을 환영합니다\n"
     ]
    }
   ],
   "source": [
    "greet()"
   ]
  },
  {
   "cell_type": "code",
   "execution_count": 46,
   "id": "87ec4441",
   "metadata": {},
   "outputs": [
    {
     "name": "stdout",
     "output_type": "stream",
     "text": [
      "반갑습니다.\n",
      "파이썬의 세계로 오신것을 환영합니다\n"
     ]
    }
   ],
   "source": [
    "greet()"
   ]
  },
  {
   "cell_type": "code",
   "execution_count": 47,
   "id": "6cbfc444",
   "metadata": {},
   "outputs": [
    {
     "ename": "IndentationError",
     "evalue": "expected an indented block (1061569841.py, line 2)",
     "output_type": "error",
     "traceback": [
      "\u001b[1;36m  Input \u001b[1;32mIn [47]\u001b[1;36m\u001b[0m\n\u001b[1;33m    print(\"방가방가\")\u001b[0m\n\u001b[1;37m    ^\u001b[0m\n\u001b[1;31mIndentationError\u001b[0m\u001b[1;31m:\u001b[0m expected an indented block\n"
     ]
    }
   ],
   "source": [
    "def greet():\n",
    "print(\"방가방가\")"
   ]
  },
  {
   "cell_type": "code",
   "execution_count": 48,
   "id": "177f2dfb",
   "metadata": {},
   "outputs": [
    {
     "name": "stdout",
     "output_type": "stream",
     "text": [
      "반갑습니다.\n",
      "파이썬의 세계로 오신것을 환영합니다\n"
     ]
    }
   ],
   "source": [
    "greet()"
   ]
  },
  {
   "cell_type": "code",
   "execution_count": 49,
   "id": "742e9b71",
   "metadata": {},
   "outputs": [],
   "source": [
    "def MH():\n",
    "    print(\"1+2+3+4+5=\",1+2+3+4+5)\n",
    "    print(\"Simple is the best!\")\n",
    "    print(\"행복한 파이썬~\")\n",
    "    "
   ]
  },
  {
   "cell_type": "code",
   "execution_count": 50,
   "id": "a5cda5bb",
   "metadata": {},
   "outputs": [
    {
     "ename": "SyntaxError",
     "evalue": "invalid syntax (3077814476.py, line 1)",
     "output_type": "error",
     "traceback": [
      "\u001b[1;36m  Input \u001b[1;32mIn [50]\u001b[1;36m\u001b[0m\n\u001b[1;33m    print MH()\u001b[0m\n\u001b[1;37m          ^\u001b[0m\n\u001b[1;31mSyntaxError\u001b[0m\u001b[1;31m:\u001b[0m invalid syntax\n"
     ]
    }
   ],
   "source": [
    "print MH()"
   ]
  },
  {
   "cell_type": "code",
   "execution_count": 51,
   "id": "a8aab346",
   "metadata": {},
   "outputs": [
    {
     "ename": "SyntaxError",
     "evalue": "invalid syntax (3077814476.py, line 1)",
     "output_type": "error",
     "traceback": [
      "\u001b[1;36m  Input \u001b[1;32mIn [51]\u001b[1;36m\u001b[0m\n\u001b[1;33m    print MH()\u001b[0m\n\u001b[1;37m          ^\u001b[0m\n\u001b[1;31mSyntaxError\u001b[0m\u001b[1;31m:\u001b[0m invalid syntax\n"
     ]
    }
   ],
   "source": [
    "print MH()"
   ]
  },
  {
   "cell_type": "code",
   "execution_count": 52,
   "id": "b39fde7b",
   "metadata": {},
   "outputs": [],
   "source": [
    "def MH():\n",
    "    print(\"1+2+3+4+5=\",1+2+3+4+5)\n",
    "    print(\"Simple is the best!\")\n",
    "    print(\"행복한 파이썬~\")"
   ]
  },
  {
   "cell_type": "code",
   "execution_count": 53,
   "id": "6ea3ebcf",
   "metadata": {},
   "outputs": [
    {
     "ename": "SyntaxError",
     "evalue": "invalid syntax (2166961525.py, line 1)",
     "output_type": "error",
     "traceback": [
      "\u001b[1;36m  Input \u001b[1;32mIn [53]\u001b[1;36m\u001b[0m\n\u001b[1;33m    def MH()\u001b[0m\n\u001b[1;37m            ^\u001b[0m\n\u001b[1;31mSyntaxError\u001b[0m\u001b[1;31m:\u001b[0m invalid syntax\n"
     ]
    }
   ],
   "source": [
    "def MH()"
   ]
  },
  {
   "cell_type": "code",
   "execution_count": 54,
   "id": "b026b0f3",
   "metadata": {},
   "outputs": [
    {
     "name": "stdout",
     "output_type": "stream",
     "text": [
      "1+2+3+4+5= 15\n",
      "Simple is the best!\n",
      "행복한 파이썬~\n"
     ]
    }
   ],
   "source": [
    "MH()"
   ]
  },
  {
   "cell_type": "code",
   "execution_count": 55,
   "id": "eba8e62a",
   "metadata": {},
   "outputs": [],
   "source": [
    "def greet2(name):\n",
    "    print(\"반갑습니다.\",name)\n",
    "    print(name,\"님은 파이썬 세계로 오셨습니다.\")\n",
    "    "
   ]
  },
  {
   "cell_type": "code",
   "execution_count": 56,
   "id": "eec13210",
   "metadata": {},
   "outputs": [
    {
     "name": "stdout",
     "output_type": "stream",
     "text": [
      "반갑습니다. John\n",
      "John 님은 파이썬 세계로 오셨습니다.\n"
     ]
    }
   ],
   "source": [
    "greet2(\"John\")"
   ]
  },
  {
   "cell_type": "code",
   "execution_count": 57,
   "id": "4bb627c7",
   "metadata": {},
   "outputs": [
    {
     "name": "stdout",
     "output_type": "stream",
     "text": [
      "반갑습니다. min kyung\n",
      "min kyung 님은 파이썬 세계로 오셨습니다.\n"
     ]
    }
   ],
   "source": [
    "greet2(\"min kyung\")"
   ]
  },
  {
   "cell_type": "code",
   "execution_count": 58,
   "id": "d5c75cab",
   "metadata": {},
   "outputs": [
    {
     "name": "stdout",
     "output_type": "stream",
     "text": [
      "반갑습니다. Everyone\n",
      "Everyone 님은 파이썬 세계로 오셨습니다.\n"
     ]
    }
   ],
   "source": [
    "greet2(\"Everyone\")"
   ]
  },
  {
   "cell_type": "code",
   "execution_count": 59,
   "id": "293b721b",
   "metadata": {},
   "outputs": [
    {
     "ename": "IndentationError",
     "evalue": "expected an indented block (1739176740.py, line 1)",
     "output_type": "error",
     "traceback": [
      "\u001b[1;36m  Input \u001b[1;32mIn [59]\u001b[1;36m\u001b[0m\n\u001b[1;33m    def adder(num1,num2):\u001b[0m\n\u001b[1;37m                         ^\u001b[0m\n\u001b[1;31mIndentationError\u001b[0m\u001b[1;31m:\u001b[0m expected an indented block\n"
     ]
    }
   ],
   "source": [
    "def adder(num1,num2):"
   ]
  },
  {
   "cell_type": "code",
   "execution_count": 60,
   "id": "9cbfc94f",
   "metadata": {},
   "outputs": [],
   "source": [
    "def adder(num1, num2):\n",
    "    print(\"덧셈 결과:\", num1 + nuum2)"
   ]
  },
  {
   "cell_type": "code",
   "execution_count": 61,
   "id": "3d705853",
   "metadata": {},
   "outputs": [
    {
     "ename": "NameError",
     "evalue": "name 'nuum2' is not defined",
     "output_type": "error",
     "traceback": [
      "\u001b[1;31m---------------------------------------------------------------------------\u001b[0m",
      "\u001b[1;31mNameError\u001b[0m                                 Traceback (most recent call last)",
      "Input \u001b[1;32mIn [61]\u001b[0m, in \u001b[0;36m<cell line: 1>\u001b[1;34m()\u001b[0m\n\u001b[1;32m----> 1\u001b[0m \u001b[43madder\u001b[49m\u001b[43m(\u001b[49m\u001b[38;5;241;43m10\u001b[39;49m\u001b[43m,\u001b[49m\u001b[38;5;241;43m5\u001b[39;49m\u001b[43m)\u001b[49m\n",
      "Input \u001b[1;32mIn [60]\u001b[0m, in \u001b[0;36madder\u001b[1;34m(num1, num2)\u001b[0m\n\u001b[0;32m      1\u001b[0m \u001b[38;5;28;01mdef\u001b[39;00m \u001b[38;5;21madder\u001b[39m(num1, num2):\n\u001b[1;32m----> 2\u001b[0m     \u001b[38;5;28mprint\u001b[39m(\u001b[38;5;124m\"\u001b[39m\u001b[38;5;124m덧셈 결과:\u001b[39m\u001b[38;5;124m\"\u001b[39m, num1 \u001b[38;5;241m+\u001b[39m \u001b[43mnuum2\u001b[49m)\n",
      "\u001b[1;31mNameError\u001b[0m: name 'nuum2' is not defined"
     ]
    }
   ],
   "source": [
    "adder(10,5)"
   ]
  },
  {
   "cell_type": "code",
   "execution_count": 62,
   "id": "95c84478",
   "metadata": {},
   "outputs": [],
   "source": [
    "def adder(num1, num2):\n",
    "    print(\"덧셈 결과:\", num1 + num2)"
   ]
  },
  {
   "cell_type": "code",
   "execution_count": 63,
   "id": "eafa5b44",
   "metadata": {},
   "outputs": [
    {
     "name": "stdout",
     "output_type": "stream",
     "text": [
      "덧셈 결과: 15\n"
     ]
    }
   ],
   "source": [
    "adder(10,5)"
   ]
  },
  {
   "cell_type": "code",
   "execution_count": 64,
   "id": "299a234b",
   "metadata": {},
   "outputs": [],
   "source": [
    "def test(str1):\n",
    "    print(\"연습문제02-2\")"
   ]
  },
  {
   "cell_type": "code",
   "execution_count": 65,
   "id": "e51ac75b",
   "metadata": {},
   "outputs": [
    {
     "ename": "TypeError",
     "evalue": "test() missing 1 required positional argument: 'str1'",
     "output_type": "error",
     "traceback": [
      "\u001b[1;31m---------------------------------------------------------------------------\u001b[0m",
      "\u001b[1;31mTypeError\u001b[0m                                 Traceback (most recent call last)",
      "Input \u001b[1;32mIn [65]\u001b[0m, in \u001b[0;36m<cell line: 1>\u001b[1;34m()\u001b[0m\n\u001b[1;32m----> 1\u001b[0m \u001b[43mtest\u001b[49m\u001b[43m(\u001b[49m\u001b[43m)\u001b[49m\n",
      "\u001b[1;31mTypeError\u001b[0m: test() missing 1 required positional argument: 'str1'"
     ]
    }
   ],
   "source": [
    "test()"
   ]
  },
  {
   "cell_type": "code",
   "execution_count": 66,
   "id": "8439045c",
   "metadata": {},
   "outputs": [],
   "source": [
    "def test(str1):\n",
    "    print(\"str1\")\n",
    "    print(\"str1\")\n",
    "    print(\"str1\")"
   ]
  },
  {
   "cell_type": "code",
   "execution_count": 67,
   "id": "903f31f4",
   "metadata": {},
   "outputs": [
    {
     "name": "stdout",
     "output_type": "stream",
     "text": [
      "str1\n",
      "str1\n",
      "str1\n"
     ]
    }
   ],
   "source": [
    "test(\"연습문제02-2\")"
   ]
  },
  {
   "cell_type": "code",
   "execution_count": 68,
   "id": "c404847b",
   "metadata": {},
   "outputs": [],
   "source": [
    "def test(str1):\n",
    "    print(str1)\n",
    "    print(str1)\n",
    "    print(str1)\n"
   ]
  },
  {
   "cell_type": "code",
   "execution_count": 69,
   "id": "b4773dc4",
   "metadata": {},
   "outputs": [
    {
     "data": {
      "text/plain": [
       "<function __main__.test(str1)>"
      ]
     },
     "execution_count": 69,
     "metadata": {},
     "output_type": "execute_result"
    }
   ],
   "source": [
    "test"
   ]
  },
  {
   "cell_type": "code",
   "execution_count": 70,
   "id": "bbd17f21",
   "metadata": {},
   "outputs": [
    {
     "name": "stdout",
     "output_type": "stream",
     "text": [
      "연습문제02-2\n",
      "연습문제02-2\n",
      "연습문제02-2\n"
     ]
    }
   ],
   "source": [
    "test(\"연습문제02-2\")"
   ]
  },
  {
   "cell_type": "code",
   "execution_count": 71,
   "id": "b462592b",
   "metadata": {},
   "outputs": [
    {
     "ename": "SyntaxError",
     "evalue": "invalid syntax (1278491709.py, line 1)",
     "output_type": "error",
     "traceback": [
      "\u001b[1;36m  Input \u001b[1;32mIn [71]\u001b[1;36m\u001b[0m\n\u001b[1;33m    def(num):\u001b[0m\n\u001b[1;37m       ^\u001b[0m\n\u001b[1;31mSyntaxError\u001b[0m\u001b[1;31m:\u001b[0m invalid syntax\n"
     ]
    }
   ],
   "source": [
    "def(num):\n",
    "    if(num<0) print(num)\n",
    "    if(num>0) print(-num)"
   ]
  },
  {
   "cell_type": "code",
   "execution_count": 72,
   "id": "c43ffc05",
   "metadata": {},
   "outputs": [
    {
     "ename": "SyntaxError",
     "evalue": "invalid syntax (1502180104.py, line 2)",
     "output_type": "error",
     "traceback": [
      "\u001b[1;36m  Input \u001b[1;32mIn [72]\u001b[1;36m\u001b[0m\n\u001b[1;33m    if(num<0) print(num)\u001b[0m\n\u001b[1;37m              ^\u001b[0m\n\u001b[1;31mSyntaxError\u001b[0m\u001b[1;31m:\u001b[0m invalid syntax\n"
     ]
    }
   ],
   "source": [
    "def calc(num):\n",
    "    if(num<0) print(num)\n",
    "    if(num>0) print(-num)\n",
    "    "
   ]
  },
  {
   "cell_type": "code",
   "execution_count": 73,
   "id": "a34834ed",
   "metadata": {},
   "outputs": [
    {
     "ename": "SyntaxError",
     "evalue": "invalid syntax (3893192123.py, line 2)",
     "output_type": "error",
     "traceback": [
      "\u001b[1;36m  Input \u001b[1;32mIn [73]\u001b[1;36m\u001b[0m\n\u001b[1;33m    if(num<0)\u001b[0m\n\u001b[1;37m              ^\u001b[0m\n\u001b[1;31mSyntaxError\u001b[0m\u001b[1;31m:\u001b[0m invalid syntax\n"
     ]
    }
   ],
   "source": [
    "def calc(num):\n",
    "    if(num<0) \n",
    "        print(num)\n",
    "    if(num>0) \n",
    "        print(-num)"
   ]
  },
  {
   "cell_type": "code",
   "execution_count": 74,
   "id": "11068a2b",
   "metadata": {},
   "outputs": [],
   "source": [
    "def opp_num(num):\n",
    "    print(num*-1)+"
   ]
  },
  {
   "cell_type": "code",
   "execution_count": 75,
   "id": "ed4fb7ca",
   "metadata": {
    "scrolled": true
   },
   "outputs": [
    {
     "name": "stdout",
     "output_type": "stream",
     "text": [
      "3\n"
     ]
    }
   ],
   "source": [
    "opp_num(-3)"
   ]
  },
  {
   "cell_type": "code",
   "execution_count": 76,
   "id": "2d6bf948",
   "metadata": {
    "scrolled": true
   },
   "outputs": [
    {
     "name": "stdout",
     "output_type": "stream",
     "text": [
      "-3\n"
     ]
    }
   ],
   "source": [
    "opp_num(3)"
   ]
  },
  {
   "cell_type": "code",
   "execution_count": 77,
   "id": "d6b2837d",
   "metadata": {},
   "outputs": [],
   "source": [
    "def avr(n1,n2):\n",
    "    print((n1+n2)/2)"
   ]
  },
  {
   "cell_type": "code",
   "execution_count": 80,
   "id": "2db81f57",
   "metadata": {},
   "outputs": [],
   "source": [
    "#d 두번 누르면 셀 하나씩 사라짐\n",
    "#위쪽에 셀을 만들고 싶다면 원하는 셀 위치를 선택한 후 a키를 눌러.\n",
    "#루프 돌리면  [ ]안에 *이 있다.\n"
   ]
  },
  {
   "cell_type": "code",
   "execution_count": 81,
   "id": "7b3bb2c3",
   "metadata": {},
   "outputs": [
    {
     "data": {
      "text/plain": [
       "13"
      ]
     },
     "execution_count": 81,
     "metadata": {},
     "output_type": "execute_result"
    }
   ],
   "source": [
    "a,b = 5,8\n",
    "c=a+b\n",
    "c"
   ]
  },
  {
   "cell_type": "code",
   "execution_count": 82,
   "id": "19513350",
   "metadata": {},
   "outputs": [
    {
     "ename": "ModuleNotFoundError",
     "evalue": "No module named 'mymath'",
     "output_type": "error",
     "traceback": [
      "\u001b[1;31m---------------------------------------------------------------------------\u001b[0m",
      "\u001b[1;31mModuleNotFoundError\u001b[0m                       Traceback (most recent call last)",
      "Input \u001b[1;32mIn [82]\u001b[0m, in \u001b[0;36m<cell line: 1>\u001b[1;34m()\u001b[0m\n\u001b[1;32m----> 1\u001b[0m \u001b[38;5;28;01mimport\u001b[39;00m \u001b[38;5;21;01mmymath\u001b[39;00m \u001b[38;5;28;01mas\u001b[39;00m \u001b[38;5;21;01mm\u001b[39;00m\n\u001b[0;32m      2\u001b[0m m\u001b[38;5;241m.\u001b[39mmultiply(\u001b[38;5;241m3\u001b[39m,\u001b[38;5;241m4\u001b[39m)\n",
      "\u001b[1;31mModuleNotFoundError\u001b[0m: No module named 'mymath'"
     ]
    }
   ],
   "source": [
    "import mymath as m\n",
    "m.multiply(3,4)"
   ]
  },
  {
   "cell_type": "code",
   "execution_count": 83,
   "id": "5a4eba2e",
   "metadata": {},
   "outputs": [
    {
     "ename": "ModuleNotFoundError",
     "evalue": "No module named 'mymath'",
     "output_type": "error",
     "traceback": [
      "\u001b[1;31m---------------------------------------------------------------------------\u001b[0m",
      "\u001b[1;31mModuleNotFoundError\u001b[0m                       Traceback (most recent call last)",
      "Input \u001b[1;32mIn [83]\u001b[0m, in \u001b[0;36m<cell line: 1>\u001b[1;34m()\u001b[0m\n\u001b[1;32m----> 1\u001b[0m \u001b[38;5;28;01mimport\u001b[39;00m \u001b[38;5;21;01mmymath\u001b[39;00m\n",
      "\u001b[1;31mModuleNotFoundError\u001b[0m: No module named 'mymath'"
     ]
    }
   ],
   "source": [
    "import mymath"
   ]
  },
  {
   "cell_type": "code",
   "execution_count": 84,
   "id": "8554fb0d",
   "metadata": {},
   "outputs": [
    {
     "ename": "ModuleNotFoundError",
     "evalue": "No module named 'mymath'",
     "output_type": "error",
     "traceback": [
      "\u001b[1;31m---------------------------------------------------------------------------\u001b[0m",
      "\u001b[1;31mModuleNotFoundError\u001b[0m                       Traceback (most recent call last)",
      "Input \u001b[1;32mIn [84]\u001b[0m, in \u001b[0;36m<cell line: 1>\u001b[1;34m()\u001b[0m\n\u001b[1;32m----> 1\u001b[0m \u001b[38;5;28;01mimport\u001b[39;00m \u001b[38;5;21;01mmymath\u001b[39;00m\n",
      "\u001b[1;31mModuleNotFoundError\u001b[0m: No module named 'mymath'"
     ]
    }
   ],
   "source": [
    "import mymath"
   ]
  },
  {
   "cell_type": "code",
   "execution_count": 85,
   "id": "aa776fe0",
   "metadata": {},
   "outputs": [
    {
     "ename": "ModuleNotFoundError",
     "evalue": "No module named 'mymath'",
     "output_type": "error",
     "traceback": [
      "\u001b[1;31m---------------------------------------------------------------------------\u001b[0m",
      "\u001b[1;31mModuleNotFoundError\u001b[0m                       Traceback (most recent call last)",
      "Input \u001b[1;32mIn [85]\u001b[0m, in \u001b[0;36m<cell line: 1>\u001b[1;34m()\u001b[0m\n\u001b[1;32m----> 1\u001b[0m \u001b[38;5;28;01mimport\u001b[39;00m \u001b[38;5;21;01mmymath\u001b[39;00m\n",
      "\u001b[1;31mModuleNotFoundError\u001b[0m: No module named 'mymath'"
     ]
    }
   ],
   "source": [
    "import mymath"
   ]
  },
  {
   "cell_type": "code",
   "execution_count": 86,
   "id": "d6b078bb",
   "metadata": {},
   "outputs": [
    {
     "name": "stdout",
     "output_type": "stream",
     "text": [
      "두 수(공백으로 구분) 입력:4 5\n"
     ]
    },
    {
     "data": {
      "text/plain": [
       "'4 5'"
      ]
     },
     "execution_count": 86,
     "metadata": {},
     "output_type": "execute_result"
    }
   ],
   "source": [
    "in_str = input('두 수(공백으로 구분) 입력:')\n",
    "in_str"
   ]
  },
  {
   "cell_type": "code",
   "execution_count": 90,
   "id": "e2372da5",
   "metadata": {},
   "outputs": [
    {
     "name": "stdout",
     "output_type": "stream",
     "text": [
      "두 수(공백으로 구분) 입력:2 8\n",
      "a+b= 10\n"
     ]
    }
   ],
   "source": [
    "in_str = input('두 수(공백으로 구분) 입력:')\n",
    "res = in_str.split()\n",
    "type(res)\n",
    "res[0], res[1]\n",
    "a, b = int(res[0]), int(res[1])\n",
    "print('a+b=',a+b)\n",
    "#list는 배열과 같은 개념"
   ]
  },
  {
   "cell_type": "code",
   "execution_count": 91,
   "id": "4e6b817c",
   "metadata": {},
   "outputs": [
    {
     "name": "stdout",
     "output_type": "stream",
     "text": [
      "두 수(공백으로 구분) 입력:6 2\n",
      "a+b= 8\n",
      "a-b= 4\n",
      "a*b= 12\n",
      "a/b= 3.0\n"
     ]
    }
   ],
   "source": [
    "#가감승제, 입력받은 두수로... \n",
    "str1 = input('두 수(공백으로 구분) 입력:')\n",
    "res = str1.split()\n",
    "type(res)\n",
    "res[0], res[1]\n",
    "a,b =int(res[0]),int(res[1])\n",
    "print('a+b=',a+b)\n",
    "print('a-b=',a-b)\n",
    "print('a*b=',a*b)\n",
    "print('a/b=',a/b)"
   ]
  },
  {
   "cell_type": "code",
   "execution_count": 99,
   "id": "a0c6354d",
   "metadata": {
    "scrolled": true
   },
   "outputs": [
    {
     "name": "stdout",
     "output_type": "stream",
     "text": [
      "아이디,패스워드 입력: scott 1111\n",
      "로그인 성공\n"
     ]
    }
   ],
   "source": [
    "#틀린코드\n",
    "login= input('아이디,패스워드 입력: ')\n",
    "(id, pw)= idPw.split()\n",
    "if id=='scott'and pw=='1111':\n",
    "    print('로그인 성공')\n",
    "else :\n",
    "    print('로그인 실패')"
   ]
  },
  {
   "cell_type": "code",
   "execution_count": 111,
   "id": "c43e9336",
   "metadata": {},
   "outputs": [],
   "source": [
    "go = True"
   ]
  },
  {
   "cell_type": "code",
   "execution_count": 103,
   "id": "e22a21f9",
   "metadata": {},
   "outputs": [
    {
     "name": "stdout",
     "output_type": "stream",
     "text": [
      "아이디,패스워드 입력: ssss 1111\n",
      "로그인 성공\n"
     ]
    }
   ],
   "source": [
    "while go:\n",
    "    pass\n",
    "    login= input('아이디,패스워드 입력: ')\n",
    "    (id, pw)= idPw.split()\n",
    "    \n",
    "    if id=='scott'and pw=='1111':\n",
    "        print('로그인 성공')\n",
    "        break;"
   ]
  },
  {
   "cell_type": "code",
   "execution_count": 112,
   "id": "c9060ce3",
   "metadata": {},
   "outputs": [
    {
     "name": "stdout",
     "output_type": "stream",
     "text": [
      "아이디,패스워드 입력: dddd 121212\n",
      "로그인 실패\n",
      "아이디,패스워드 입력: dfdfd 1213\n",
      "로그인 실패\n",
      "아이디,패스워드 입력: 213213 3213\n",
      "로그인 실패\n",
      "아이디,패스워드 입력: scott 1111\n",
      "로그인 성공\n"
     ]
    }
   ],
   "source": [
    "while go:\n",
    "    login= input('아이디,패스워드 입력: ')\n",
    "    (id, pw)= login.split()\n",
    "    \n",
    "    if id=='scott'and pw=='1111':\n",
    "        print('로그인 성공')\n",
    "        go = False\n",
    "    else:\n",
    "        print('로그인 실패')"
   ]
  },
  {
   "cell_type": "code",
   "execution_count": null,
   "id": "794cb25c",
   "metadata": {},
   "outputs": [],
   "source": []
  },
  {
   "cell_type": "raw",
   "id": "65fc760d",
   "metadata": {},
   "source": [
    "range(0,5)"
   ]
  },
  {
   "cell_type": "code",
   "execution_count": 114,
   "id": "c8ff9f0e",
   "metadata": {},
   "outputs": [
    {
     "data": {
      "text/plain": [
       "range(0, 5)"
      ]
     },
     "execution_count": 114,
     "metadata": {},
     "output_type": "execute_result"
    }
   ],
   "source": [
    "range(0,5)"
   ]
  },
  {
   "cell_type": "code",
   "execution_count": 113,
   "id": "d42adcea",
   "metadata": {
    "scrolled": true
   },
   "outputs": [
    {
     "name": "stdout",
     "output_type": "stream",
     "text": [
      "1 3 5 "
     ]
    }
   ],
   "source": [
    "# shift + tab : 문법 설명\n",
    "for n in [1,3,5]:\n",
    "    print(n,end=',')\n",
    "    "
   ]
  },
  {
   "cell_type": "code",
   "execution_count": 119,
   "id": "b218d0c1",
   "metadata": {},
   "outputs": [
    {
     "name": "stdout",
     "output_type": "stream",
     "text": [
      "55\n"
     ]
    }
   ],
   "source": [
    "res = 0\n",
    "for n in [1,2,3,4,5,6,7,8,9,10]:\n",
    "    res = res + n # n += 1(n+1\n",
    "print(res)"
   ]
  },
  {
   "cell_type": "code",
   "execution_count": 120,
   "id": "a33422e6",
   "metadata": {},
   "outputs": [
    {
     "data": {
      "text/plain": [
       "3"
      ]
     },
     "execution_count": 120,
     "metadata": {},
     "output_type": "execute_result"
    }
   ],
   "source": [
    "import random\n",
    "random.randint(0,5)"
   ]
  },
  {
   "cell_type": "code",
   "execution_count": 121,
   "id": "c4b4cf7a",
   "metadata": {},
   "outputs": [
    {
     "data": {
      "text/plain": [
       "[5]"
      ]
     },
     "execution_count": 121,
     "metadata": {},
     "output_type": "execute_result"
    }
   ],
   "source": [
    "res = 0\n",
    "random_list =[]\n",
    "random_list.append(5)\n",
    "random_list"
   ]
  },
  {
   "cell_type": "code",
   "execution_count": 122,
   "id": "1c7c36f2",
   "metadata": {},
   "outputs": [
    {
     "name": "stdout",
     "output_type": "stream",
     "text": [
      "2 1 2 2 5 1 4 5 3 2 "
     ]
    }
   ],
   "source": [
    "#무작위 정수 10개를 가진 리스트 생성\n",
    "#그 값들을 한 행으로 표시\n",
    "num_list =[]\n",
    "for n in range(10):\n",
    "    num_list.append(random.randint(0,5))\n",
    "\n",
    "for n in num_list:\n",
    "    print(n, end=' ')"
   ]
  },
  {
   "cell_type": "code",
   "execution_count": 123,
   "id": "7d29026e",
   "metadata": {},
   "outputs": [
    {
     "name": "stdout",
     "output_type": "stream",
     "text": [
      "12.0\n"
     ]
    }
   ],
   "source": [
    "str1 = '5.3'\n",
    "str2 = '6.7'\n",
    "\n",
    "n1 = float(str1)\n",
    "n2 = float(str2)\n",
    "print(n1 +n2)"
   ]
  },
  {
   "cell_type": "code",
   "execution_count": 125,
   "id": "62bd33b0",
   "metadata": {},
   "outputs": [
    {
     "name": "stdout",
     "output_type": "stream",
     "text": [
      "<class 'str'>\n",
      "<class 'float'>\n"
     ]
    }
   ],
   "source": [
    "#실수나 정수 그 어떤 값도 문자열에서 숫자로 변환해야 한다면?\n",
    "str1 = '3.14'\n",
    "print(type(str1))\n",
    "\n",
    "num = eval(str1)\n",
    "print(type(num))\n"
   ]
  },
  {
   "cell_type": "code",
   "execution_count": 126,
   "id": "91a0c0e7",
   "metadata": {},
   "outputs": [
    {
     "data": {
      "text/plain": [
       "7"
      ]
     },
     "execution_count": 126,
     "metadata": {},
     "output_type": "execute_result"
    }
   ],
   "source": [
    "eval('3+4')\n"
   ]
  },
  {
   "cell_type": "code",
   "execution_count": 127,
   "id": "c1ee72f2",
   "metadata": {},
   "outputs": [
    {
     "data": {
      "text/plain": [
       "5"
      ]
     },
     "execution_count": 127,
     "metadata": {},
     "output_type": "execute_result"
    }
   ],
   "source": [
    "2++3\n"
   ]
  },
  {
   "cell_type": "code",
   "execution_count": 128,
   "id": "aded8f28",
   "metadata": {},
   "outputs": [
    {
     "data": {
      "text/plain": [
       "8"
      ]
     },
     "execution_count": 128,
     "metadata": {},
     "output_type": "execute_result"
    }
   ],
   "source": [
    "2**3"
   ]
  },
  {
   "cell_type": "code",
   "execution_count": 129,
   "id": "cd7b98a1",
   "metadata": {},
   "outputs": [
    {
     "data": {
      "text/plain": [
       "256"
      ]
     },
     "execution_count": 129,
     "metadata": {},
     "output_type": "execute_result"
    }
   ],
   "source": [
    "2**8 # 제곱"
   ]
  },
  {
   "cell_type": "code",
   "execution_count": 130,
   "id": "8738feb5",
   "metadata": {},
   "outputs": [
    {
     "data": {
      "text/plain": [
       "0"
      ]
     },
     "execution_count": 130,
     "metadata": {},
     "output_type": "execute_result"
    }
   ],
   "source": [
    "1+2*3-7 #연산자 우선순위"
   ]
  },
  {
   "cell_type": "code",
   "execution_count": 135,
   "id": "6a313cef",
   "metadata": {},
   "outputs": [
    {
     "name": "stdout",
     "output_type": "stream",
     "text": [
      "4 5 7 2 8 3 5 5 9 9 "
     ]
    },
    {
     "ename": "TypeError",
     "evalue": "format() argument 2 must be str, not int",
     "output_type": "error",
     "traceback": [
      "\u001b[1;31m---------------------------------------------------------------------------\u001b[0m",
      "\u001b[1;31mTypeError\u001b[0m                                 Traceback (most recent call last)",
      "Input \u001b[1;32mIn [135]\u001b[0m, in \u001b[0;36m<cell line: 9>\u001b[1;34m()\u001b[0m\n\u001b[0;32m      7\u001b[0m \u001b[38;5;28;01mfor\u001b[39;00m n \u001b[38;5;129;01min\u001b[39;00m num_list:\n\u001b[0;32m      8\u001b[0m         \u001b[38;5;28mprint\u001b[39m(n, end\u001b[38;5;241m=\u001b[39m\u001b[38;5;124m'\u001b[39m\u001b[38;5;124m \u001b[39m\u001b[38;5;124m'\u001b[39m)\n\u001b[1;32m----> 9\u001b[0m \u001b[38;5;28mprint\u001b[39m(\u001b[38;5;28;43mformat\u001b[39;49m\u001b[43m(\u001b[49m\u001b[38;5;28;43mmax\u001b[39;49m\u001b[43m(\u001b[49m\u001b[43mnum_list\u001b[49m\u001b[43m)\u001b[49m\u001b[43m,\u001b[49m\u001b[38;5;28;43mmin\u001b[39;49m\u001b[43m(\u001b[49m\u001b[43mnum_list\u001b[49m\u001b[43m)\u001b[49m\u001b[43m)\u001b[49m)\n",
      "\u001b[1;31mTypeError\u001b[0m: format() argument 2 must be str, not int"
     ]
    }
   ],
   "source": [
    "#리스트에 무작위 정수 10개(0~9)를 저장하고 그 중에서 가장 큰 수와 가장 작은 수를 표시해보세요.\n",
    "\n",
    "num_list =[]\n",
    "for n in range(10):\n",
    "    num_list.append(random.randint(0,9))\n",
    "\n",
    "for n in num_list:\n",
    "        print(n, end=' ')\n",
    "print(format(max(num_list),min(num_list)))\n",
    "        "
   ]
  },
  {
   "cell_type": "code",
   "execution_count": 138,
   "id": "c90cf3b5",
   "metadata": {},
   "outputs": [
    {
     "ename": "AttributeError",
     "evalue": "module 'random' has no attribute 'radint'",
     "output_type": "error",
     "traceback": [
      "\u001b[1;31m---------------------------------------------------------------------------\u001b[0m",
      "\u001b[1;31mAttributeError\u001b[0m                            Traceback (most recent call last)",
      "Input \u001b[1;32mIn [138]\u001b[0m, in \u001b[0;36m<cell line: 3>\u001b[1;34m()\u001b[0m\n\u001b[0;32m      1\u001b[0m \u001b[38;5;28;01mimport\u001b[39;00m \u001b[38;5;21;01mrandom\u001b[39;00m\n\u001b[1;32m----> 3\u001b[0m nums \u001b[38;5;241m=\u001b[39m [random\u001b[38;5;241m.\u001b[39mradint(\u001b[38;5;241m0.9\u001b[39m) \u001b[38;5;28;01mfor\u001b[39;00m _ \u001b[38;5;129;01min\u001b[39;00m \u001b[38;5;28mrange\u001b[39m(\u001b[38;5;241m10\u001b[39m)] \u001b[38;5;66;03m#List Comprehension\u001b[39;00m\n\u001b[0;32m      5\u001b[0m \u001b[38;5;28mmin\u001b[39m \u001b[38;5;241m=\u001b[39m \u001b[38;5;241m10\u001b[39m\n\u001b[0;32m      6\u001b[0m \u001b[38;5;28mmax\u001b[39m \u001b[38;5;241m=\u001b[39m \u001b[38;5;241m0\u001b[39m\n",
      "Input \u001b[1;32mIn [138]\u001b[0m, in \u001b[0;36m<listcomp>\u001b[1;34m(.0)\u001b[0m\n\u001b[0;32m      1\u001b[0m \u001b[38;5;28;01mimport\u001b[39;00m \u001b[38;5;21;01mrandom\u001b[39;00m\n\u001b[1;32m----> 3\u001b[0m nums \u001b[38;5;241m=\u001b[39m [\u001b[43mrandom\u001b[49m\u001b[38;5;241;43m.\u001b[39;49m\u001b[43mradint\u001b[49m(\u001b[38;5;241m0.9\u001b[39m) \u001b[38;5;28;01mfor\u001b[39;00m _ \u001b[38;5;129;01min\u001b[39;00m \u001b[38;5;28mrange\u001b[39m(\u001b[38;5;241m10\u001b[39m)] \u001b[38;5;66;03m#List Comprehension\u001b[39;00m\n\u001b[0;32m      5\u001b[0m \u001b[38;5;28mmin\u001b[39m \u001b[38;5;241m=\u001b[39m \u001b[38;5;241m10\u001b[39m\n\u001b[0;32m      6\u001b[0m \u001b[38;5;28mmax\u001b[39m \u001b[38;5;241m=\u001b[39m \u001b[38;5;241m0\u001b[39m\n",
      "\u001b[1;31mAttributeError\u001b[0m: module 'random' has no attribute 'radint'"
     ]
    }
   ],
   "source": [
    "import random\n",
    "\n",
    "nums = [random.radint(0.9) for _ in range(10)] #List Comprehension\n",
    "\n",
    "min = 10\n",
    "max = 0\n",
    "\n",
    "for n in nums:\n",
    "    if n<min:\n",
    "        min = n\n",
    "    if n>max:\n",
    "        max = n\n",
    "print('min={}, max={}'.format(min,max))"
   ]
  },
  {
   "cell_type": "code",
   "execution_count": null,
   "id": "5975c618",
   "metadata": {},
   "outputs": [],
   "source": []
  }
 ],
 "metadata": {
  "kernelspec": {
   "display_name": "Python 3 (ipykernel)",
   "language": "python",
   "name": "python3"
  },
  "language_info": {
   "codemirror_mode": {
    "name": "ipython",
    "version": 3
   },
   "file_extension": ".py",
   "mimetype": "text/x-python",
   "name": "python",
   "nbconvert_exporter": "python",
   "pygments_lexer": "ipython3",
   "version": "3.9.12"
  }
 },
 "nbformat": 4,
 "nbformat_minor": 5
}
