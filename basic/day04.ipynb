{
 "cells": [
  {
   "cell_type": "code",
   "execution_count": 3,
   "id": "67506bfd",
   "metadata": {},
   "outputs": [],
   "source": [
    "r = range(0,10)"
   ]
  },
  {
   "cell_type": "code",
   "execution_count": 5,
   "id": "f6ebba37",
   "metadata": {},
   "outputs": [
    {
     "data": {
      "text/plain": [
       "range"
      ]
     },
     "execution_count": 5,
     "metadata": {},
     "output_type": "execute_result"
    }
   ],
   "source": [
    "type(r)"
   ]
  },
  {
   "cell_type": "code",
   "execution_count": 6,
   "id": "df5b278d",
   "metadata": {},
   "outputs": [
    {
     "data": {
      "text/plain": [
       "[0, 1, 2, 3, 4, 5, 6, 7, 8, 9]"
      ]
     },
     "execution_count": 6,
     "metadata": {},
     "output_type": "execute_result"
    }
   ],
   "source": [
    "list(r)"
   ]
  },
  {
   "cell_type": "code",
   "execution_count": 10,
   "id": "b2b904c9",
   "metadata": {},
   "outputs": [
    {
     "data": {
      "text/plain": [
       "[5, 4, 3, 2, 1]"
      ]
     },
     "execution_count": 10,
     "metadata": {},
     "output_type": "execute_result"
    }
   ],
   "source": [
    "list(range(1,5))\n",
    "list(range(1,5,1))\n",
    "list(range(1,5,2))\n",
    "list(range(5,0,-1))"
   ]
  },
  {
   "cell_type": "code",
   "execution_count": 11,
   "id": "1b47d0d8",
   "metadata": {},
   "outputs": [
    {
     "data": {
      "text/plain": [
       "55"
      ]
     },
     "execution_count": 11,
     "metadata": {},
     "output_type": "execute_result"
    }
   ],
   "source": [
    "#함수 작성, 리스트(원소는 정수 10)를 받아서 원소들의 합산 결과를 리턴하는 함수\n",
    "def list_sum(nums):  # Parameters(가인자)\n",
    "    return sum(nums)\n",
    "\n",
    "list_sum([1,2,3,4,5,6,7,8,9,10])  # Arguments(실인자)"
   ]
  },
  {
   "cell_type": "code",
   "execution_count": 12,
   "id": "8468801b",
   "metadata": {},
   "outputs": [],
   "source": [
    "def add_num(a,b):\n",
    "    c = a+b\n",
    "    print(f\"{a}+{b}={c}\")"
   ]
  },
  {
   "cell_type": "code",
   "execution_count": 13,
   "id": "6a86f9d7",
   "metadata": {},
   "outputs": [
    {
     "name": "stdout",
     "output_type": "stream",
     "text": [
      "10+5=15\n"
     ]
    }
   ],
   "source": [
    "add_num(10,5)"
   ]
  },
  {
   "cell_type": "code",
   "execution_count": 15,
   "id": "1c357aa5",
   "metadata": {},
   "outputs": [],
   "source": [
    "def sub_num(a,b):\n",
    "    c = a - b\n",
    "    print(f\"{a}-{b}={c}\")"
   ]
  },
  {
   "cell_type": "code",
   "execution_count": 17,
   "id": "f1e93cad",
   "metadata": {},
   "outputs": [
    {
     "name": "stdout",
     "output_type": "stream",
     "text": [
      "10-6=4\n",
      "10-6=4\n"
     ]
    }
   ],
   "source": [
    "sub_num(10,6)\n",
    "sub_num(b=6,a=10)"
   ]
  },
  {
   "cell_type": "markdown",
   "id": "87b0672b",
   "metadata": {},
   "source": [
    "<string>Variable length arguments(가변인자)</board>\n",
    "\n",
    "* positional argument에 적용되는 가변인자\n",
    "* keywoard argument에 적용되는 가변인자"
   ]
  },
  {
   "cell_type": "code",
   "execution_count": 1,
   "id": "e0270091",
   "metadata": {},
   "outputs": [
    {
     "name": "stdout",
     "output_type": "stream",
     "text": [
      "3\n",
      "15\n"
     ]
    }
   ],
   "source": [
    "#이용자가 임의의 갯수의 정수를 어떤 함수에 전달하여 합산하고자 한다면...\n",
    "#그 argument를 받아서 합산하는 함수는 파라미터 타입을 어떻게 선언해야 할까?\n",
    "def sum_it(nums):\n",
    "    print(sum(nums))\n",
    "    \n",
    "sum_it([1,2])\n",
    "sum_it([1,2,3,4,5])"
   ]
  },
  {
   "cell_type": "code",
   "execution_count": 2,
   "id": "6474adc4-7d3c-4939-b143-7474ea90f797",
   "metadata": {},
   "outputs": [],
   "source": [
    "def sum_it2(tp):\n",
    "    print(sum(tp))\n"
   ]
  },
  {
   "cell_type": "code",
   "execution_count": 3,
   "id": "32fe5fd2-f165-4dd0-973d-74a2240c3cec",
   "metadata": {},
   "outputs": [
    {
     "name": "stdout",
     "output_type": "stream",
     "text": [
      "6\n",
      "15\n"
     ]
    }
   ],
   "source": [
    "sum_it2((1,2,3))\n",
    "sum_it2((1,2,3,4,5))"
   ]
  },
  {
   "cell_type": "code",
   "execution_count": 7,
   "id": "43b8e82d-a5a5-4a05-ad60-574886face7a",
   "metadata": {},
   "outputs": [],
   "source": [
    "def sum_it3(*arg):  # *은 튜플, Variable Length Positional Arguments\n",
    "    print(sum(arg))\n"
   ]
  },
  {
   "cell_type": "code",
   "execution_count": 8,
   "id": "621cf934-2a79-4df4-a294-f36bbed114d9",
   "metadata": {},
   "outputs": [
    {
     "name": "stdout",
     "output_type": "stream",
     "text": [
      "6\n",
      "15\n"
     ]
    }
   ],
   "source": [
    "sum_it3(1,2,3)\n",
    "sum_it3(1,2,3,4,5)"
   ]
  },
  {
   "cell_type": "code",
   "execution_count": 30,
   "id": "3c2c5221-26bc-4631-85c5-64b6ef782e05",
   "metadata": {},
   "outputs": [],
   "source": [
    "def test(**keyargs): #keyargs의 type: dictionary\n",
    "    #print(type(keyargs))\n",
    "    #print(keyargs['name'])\n",
    "    print(keyargs.get('sal')) #sal 이 없는 함수도 이상 없이 출력가능"
   ]
  },
  {
   "cell_type": "code",
   "execution_count": 31,
   "id": "775f1b99-df3f-467e-ad12-b1124a3fa160",
   "metadata": {},
   "outputs": [
    {
     "name": "stdout",
     "output_type": "stream",
     "text": [
      "None\n",
      "3000\n"
     ]
    }
   ],
   "source": [
    "# keyword argument 다수개를 파라미터로 전달할 때\n",
    "test(num=11, name='Smith', dept=10)\n",
    "test(num=12, name='Scott',sal=3000,loc='서울')"
   ]
  },
  {
   "cell_type": "markdown",
   "id": "8917ec85-e6d3-40d0-88fe-afb7a7c8abed",
   "metadata": {},
   "source": [
    "<h1><strong>파일 다루기</strong></h1>\n",
    "\n",
    "* 파일 : 메모리가 아닌 디스크에 저장된 데이터의 집합\n",
    "* 텍스트 파일 : 저장된 데이터를 읽어서 텍스트로 디코딩해야 볼 수 있다\n",
    "* 이진 파일 : 텍스트 파일이 아닌 그 이외의 데이터를 저장한 파일\n",
    "* mode :r(읽기), w(쓰기), a(추가), x(생성),b(이진 데이터), t(텍스트), +\n",
    "* mode 설정의 예 : r(rt), wb(파일에 쓸 건지) ,r+"
   ]
  },
  {
   "cell_type": "code",
   "execution_count": 34,
   "id": "822c9b5a-fb16-4f1e-aece-7ab882513cb7",
   "metadata": {},
   "outputs": [
    {
     "name": "stdout",
     "output_type": "stream",
     "text": [
      "파일 생성 성공\n"
     ]
    }
   ],
   "source": [
    "# 파일 생성(w)\n",
    "fstream = open('my_sample.txt','w',encoding='utf-8')\n",
    "fstream.write('내가 만든 파일\\n')\n",
    "fstream.close()\n",
    "print('파일 생성 성공')"
   ]
  },
  {
   "cell_type": "code",
   "execution_count": 36,
   "id": "15cff748-9693-47f5-a26b-2ce3d6391700",
   "metadata": {},
   "outputs": [
    {
     "name": "stdout",
     "output_type": "stream",
     "text": [
      "내가 만든 파일\n",
      "\n"
     ]
    }
   ],
   "source": [
    "#위에서 생성된 파일 읽어오기\n",
    "fstream = open('my_sample.txt',encoding='utf-8')\n",
    "data = fstream.read()\n",
    "print(data)\n",
    "fstream.close()"
   ]
  },
  {
   "cell_type": "code",
   "execution_count": 59,
   "id": "c6c0e793-0e26-46ef-b144-9b5aedf55ddd",
   "metadata": {},
   "outputs": [
    {
     "name": "stdout",
     "output_type": "stream",
     "text": [
      "파일 생성 성공\n"
     ]
    }
   ],
   "source": [
    "#절대 경로를 이용한 파일 생성\n",
    "fstream = open('D:/test/my_sample.txt','w',encoding='utf-8')\n",
    "fstream.write('내가 만든 파일\\n')\n",
    "fstream.close()\n",
    "\n",
    "print('파일 생성 성공')\n",
    "\n",
    "# 'w'는 기존 파일이 존재하면 파일 내용을 지우고 새로 쓴다.\n",
    "# 파일의 기존 내용을 유지하면서 뒤에 내용을 추가하려면 'a'모드를 사용한다.\n",
    "# 해당 이름의 파일이 없을 때만 생성하려면 'x'모드를 사용한다."
   ]
  },
  {
   "cell_type": "code",
   "execution_count": 60,
   "id": "6f34683c-2bed-49cf-953d-c645e119f4e9",
   "metadata": {},
   "outputs": [
    {
     "name": "stdout",
     "output_type": "stream",
     "text": [
      "C:\\Users\\201-20\\1python_project\n"
     ]
    }
   ],
   "source": [
    "#현재 경로\n",
    "import os\n",
    "\n",
    "currentpath = os.getcwd()\n",
    "print(currentpath)"
   ]
  },
  {
   "cell_type": "code",
   "execution_count": 61,
   "id": "44d6f094-3968-4c63-9de9-a7f546563704",
   "metadata": {},
   "outputs": [
    {
     "name": "stdout",
     "output_type": "stream",
     "text": [
      "내가 만든 파일\n",
      "\n"
     ]
    }
   ],
   "source": [
    "#절대경로로 파일 읽어오기\n",
    "fstream = open(r'D:\\\\test\\\\my_sample.txt',encoding='utf-8')\n",
    "data = fstream.read()\n",
    "print(data)\n",
    "fstream.close()"
   ]
  },
  {
   "cell_type": "code",
   "execution_count": 62,
   "id": "e3b6ecae-ac28-461f-8987-1a5050966053",
   "metadata": {},
   "outputs": [
    {
     "name": "stdout",
     "output_type": "stream",
     "text": [
      "내가 만든 파일\n",
      "\n"
     ]
    }
   ],
   "source": [
    "# 파일을 열 때 with 블럭을 사용하면 블럭이 모두 실행된 후에 자동으로 close()된다.\n",
    "with open('D:\\\\test\\\\my_sample.txt',encoding='utf-8') as fstream:\n",
    "    data = fstream.read()\n",
    "    print(data)"
   ]
  },
  {
   "cell_type": "code",
   "execution_count": 63,
   "id": "933901e5-33e5-4321-99b4-ce737d8037bd",
   "metadata": {},
   "outputs": [
    {
     "data": {
      "text/plain": [
       "True"
      ]
     },
     "execution_count": 63,
     "metadata": {},
     "output_type": "execute_result"
    }
   ],
   "source": [
    "#현재 작업 디렉토리에 포함된 내용 목록 보기\n",
    "import os\n",
    "os.listdir()\n",
    "os.path.isfile('day01.ipynb')"
   ]
  },
  {
   "cell_type": "code",
   "execution_count": 66,
   "id": "a66ab230-b0bf-4595-9c37-22aba76a010e",
   "metadata": {},
   "outputs": [
    {
     "data": {
      "text/plain": [
       "'D:/test\\\\testfile.txt'"
      ]
     },
     "execution_count": 66,
     "metadata": {},
     "output_type": "execute_result"
    }
   ],
   "source": [
    "import os\n",
    "abspath = os.path.join(\"D:/test\",\"testfile.txt\")\n",
    "abspath"
   ]
  },
  {
   "cell_type": "code",
   "execution_count": 16,
   "id": "ea258056-abcb-4e02-aa1d-c7ae9973d6a1",
   "metadata": {},
   "outputs": [
    {
     "data": {
      "text/plain": [
       "datetime.datetime(2022, 8, 17, 12, 47, 10, 354317)"
      ]
     },
     "execution_count": 16,
     "metadata": {},
     "output_type": "execute_result"
    }
   ],
   "source": [
    "import datetime\n",
    "datetime.datetime.now()"
   ]
  },
  {
   "cell_type": "code",
   "execution_count": 17,
   "id": "56d9d429-df82-4deb-b4f9-eff58375c049",
   "metadata": {},
   "outputs": [
    {
     "data": {
      "text/plain": [
       "datetime.datetime(2022, 8, 17, 12, 47, 14, 437310)"
      ]
     },
     "execution_count": 17,
     "metadata": {},
     "output_type": "execute_result"
    }
   ],
   "source": [
    "from datetime import datetime\n",
    "datetime.now()"
   ]
  },
  {
   "cell_type": "code",
   "execution_count": 74,
   "id": "9255b751-f643-4dbb-b812-83a52fa70a28",
   "metadata": {},
   "outputs": [
    {
     "data": {
      "text/plain": [
       "'2022-08-17-12-14-05-083396'"
      ]
     },
     "execution_count": 74,
     "metadata": {},
     "output_type": "execute_result"
    }
   ],
   "source": [
    "time_now = datetime.now()\n",
    "time_now.strftime('%Y-%m-%d-%H-%M-%S-%f') # %f : 백만분의 1초(마이크로초)\n"
   ]
  },
  {
   "cell_type": "markdown",
   "id": "c635a554-0ede-4eaf-8e2d-bf8a163c7da9",
   "metadata": {},
   "source": [
    "# 문제1\n",
    " 현재 시간을 구해서 시간 문자열을 생성하고 그 문자열을 파일명으로 하여 파일 생성하기.\n",
    " 파일 내용에는 연,월,일,시,분,초를 한 행에 한 항목씩 기록해보세요\n",
    " 쓰기 작업을 마친 후에는 다시 해당 파일을 읽어서 화면에 표시해보세요."
   ]
  },
  {
   "cell_type": "code",
   "execution_count": 31,
   "id": "1a8aebde-191f-47dc-a7c4-da865340a3a6",
   "metadata": {},
   "outputs": [
    {
     "name": "stdout",
     "output_type": "stream",
     "text": [
      "파일 생성 성공\n",
      "2022\n",
      "08\n",
      "17\n",
      "13\n",
      "03\n",
      "31\n",
      "\n"
     ]
    }
   ],
   "source": [
    "from datetime import datetime\n",
    "time_now = datetime.now()\n",
    "date=time_now.strftime('%Y-%m-%d-%H-%M-%S')\n",
    "\n",
    "y = time_now.strftime('%Y\\n')\n",
    "m = time_now.strftime('%m\\n')\n",
    "d = time_now.strftime('%d\\n')\n",
    "h = time_now.strftime('%H\\n')\n",
    "mm = time_now.strftime('%M\\n')\n",
    "s = time_now.strftime('%S\\n')\n",
    "\n",
    "# 파일 생성(w)\n",
    "fstream = open('my_date.txt','w',encoding='utf-8')\n",
    "fstream.write(y)\n",
    "fstream.write(m)\n",
    "fstream.write(d)\n",
    "fstream.write(h)\n",
    "fstream.write(mm)\n",
    "fstream.write(s)\n",
    "fstream.close()\n",
    "print('파일 생성 성공')\n",
    "\n",
    "with open('my_date.txt',encoding='utf-8') as fstream:\n",
    "    data = fstream.read()\n",
    "    print(data)"
   ]
  },
  {
   "cell_type": "code",
   "execution_count": 13,
   "id": "be76cb4b-0b15-4ab4-b173-11928d81df6d",
   "metadata": {},
   "outputs": [
    {
     "name": "stdout",
     "output_type": "stream",
     "text": [
      "기존 파일이 있습니다[Errno 17] File exists: 'sample.txt'\n",
      "작업 완료\n"
     ]
    }
   ],
   "source": [
    "# 지정된 파일이 없는 경우에만 파일 생성하기\n",
    "try:\n",
    "    with open('sample.txt','x',encoding='utf-8') as fstream:\n",
    "        print('파일을 새로 생성함')\n",
    "except FileExistsError as fe:   #FileExistsError 에러가 있을 때만 출력,\n",
    "    #print(dir(fe))\n",
    "    print('기존 파일이 있습니다'+str(fe)) #시스템상 등록된 에러도 같이 출력\n",
    "finally:\n",
    "    print('작업 완료')\n",
    "\n",
    "    "
   ]
  },
  {
   "cell_type": "markdown",
   "id": "bd6dd061-bce9-41ee-a2d8-dbd747aceaed",
   "metadata": {},
   "source": [
    "<h1><strong>문제2</strong></h1>\n",
    "\n",
    "* 파일 복사"
   ]
  },
  {
   "cell_type": "code",
   "execution_count": null,
   "id": "0cca5cb1-437d-4c58-8ebc-a9ea836d68f2",
   "metadata": {},
   "outputs": [
    {
     "ename": "FileNotFoundError",
     "evalue": "[Errno 2] No such file or directory: 'my_date'",
     "output_type": "error",
     "traceback": [
      "\u001b[1;31m---------------------------------------------------------------------------\u001b[0m",
      "\u001b[1;31mFileNotFoundError\u001b[0m                         Traceback (most recent call last)",
      "Input \u001b[1;32mIn [33]\u001b[0m, in \u001b[0;36m<cell line: 3>\u001b[1;34m()\u001b[0m\n\u001b[0;32m      1\u001b[0m \u001b[38;5;66;03m#예제\u001b[39;00m\n\u001b[0;32m      2\u001b[0m \u001b[38;5;28;01mimport\u001b[39;00m \u001b[38;5;21;01mshutil\u001b[39;00m\n\u001b[1;32m----> 3\u001b[0m \u001b[43mshutil\u001b[49m\u001b[38;5;241;43m.\u001b[39;49m\u001b[43mcopy\u001b[49m\u001b[43m(\u001b[49m\u001b[38;5;124;43m'\u001b[39;49m\u001b[38;5;124;43mmy_date\u001b[39;49m\u001b[38;5;124;43m'\u001b[39;49m\u001b[43m,\u001b[49m\u001b[38;5;124;43m'\u001b[39;49m\u001b[38;5;124;43mmy_sample\u001b[39;49m\u001b[38;5;124;43m'\u001b[39;49m\u001b[43m)\u001b[49m\n",
      "File \u001b[1;32m~\\anaconda3\\lib\\shutil.py:427\u001b[0m, in \u001b[0;36mcopy\u001b[1;34m(src, dst, follow_symlinks)\u001b[0m\n\u001b[0;32m    425\u001b[0m \u001b[38;5;28;01mif\u001b[39;00m os\u001b[38;5;241m.\u001b[39mpath\u001b[38;5;241m.\u001b[39misdir(dst):\n\u001b[0;32m    426\u001b[0m     dst \u001b[38;5;241m=\u001b[39m os\u001b[38;5;241m.\u001b[39mpath\u001b[38;5;241m.\u001b[39mjoin(dst, os\u001b[38;5;241m.\u001b[39mpath\u001b[38;5;241m.\u001b[39mbasename(src))\n\u001b[1;32m--> 427\u001b[0m \u001b[43mcopyfile\u001b[49m\u001b[43m(\u001b[49m\u001b[43msrc\u001b[49m\u001b[43m,\u001b[49m\u001b[43m \u001b[49m\u001b[43mdst\u001b[49m\u001b[43m,\u001b[49m\u001b[43m \u001b[49m\u001b[43mfollow_symlinks\u001b[49m\u001b[38;5;241;43m=\u001b[39;49m\u001b[43mfollow_symlinks\u001b[49m\u001b[43m)\u001b[49m\n\u001b[0;32m    428\u001b[0m copymode(src, dst, follow_symlinks\u001b[38;5;241m=\u001b[39mfollow_symlinks)\n\u001b[0;32m    429\u001b[0m \u001b[38;5;28;01mreturn\u001b[39;00m dst\n",
      "File \u001b[1;32m~\\anaconda3\\lib\\shutil.py:264\u001b[0m, in \u001b[0;36mcopyfile\u001b[1;34m(src, dst, follow_symlinks)\u001b[0m\n\u001b[0;32m    262\u001b[0m     os\u001b[38;5;241m.\u001b[39msymlink(os\u001b[38;5;241m.\u001b[39mreadlink(src), dst)\n\u001b[0;32m    263\u001b[0m \u001b[38;5;28;01melse\u001b[39;00m:\n\u001b[1;32m--> 264\u001b[0m     \u001b[38;5;28;01mwith\u001b[39;00m \u001b[38;5;28;43mopen\u001b[39;49m\u001b[43m(\u001b[49m\u001b[43msrc\u001b[49m\u001b[43m,\u001b[49m\u001b[43m \u001b[49m\u001b[38;5;124;43m'\u001b[39;49m\u001b[38;5;124;43mrb\u001b[39;49m\u001b[38;5;124;43m'\u001b[39;49m\u001b[43m)\u001b[49m \u001b[38;5;28;01mas\u001b[39;00m fsrc:\n\u001b[0;32m    265\u001b[0m         \u001b[38;5;28;01mtry\u001b[39;00m:\n\u001b[0;32m    266\u001b[0m             \u001b[38;5;28;01mwith\u001b[39;00m \u001b[38;5;28mopen\u001b[39m(dst, \u001b[38;5;124m'\u001b[39m\u001b[38;5;124mwb\u001b[39m\u001b[38;5;124m'\u001b[39m) \u001b[38;5;28;01mas\u001b[39;00m fdst:\n\u001b[0;32m    267\u001b[0m                 \u001b[38;5;66;03m# macOS\u001b[39;00m\n",
      "\u001b[1;31mFileNotFoundError\u001b[0m: [Errno 2] No such file or directory: 'my_date'"
     ]
    }
   ],
   "source": [
    "#파일 복사\n",
    "import shutil\n",
    "shutil.copy('src_file','dst_file')"
   ]
  },
  {
   "cell_type": "code",
   "execution_count": null,
   "id": "2b3e9bd2-1c1e-43d2-b402-2c4f2556b3b8",
   "metadata": {},
   "outputs": [],
   "source": [
    "#파일명 변경\n",
    "import os\n",
    "os.rename('old_name','new_name')"
   ]
  },
  {
   "cell_type": "code",
   "execution_count": null,
   "id": "a05987b6-1426-49dc-b74a-87a479c2c460",
   "metadata": {},
   "outputs": [],
   "source": [
    "#파일 삭제\n",
    "import os\n",
    "os.remove('file_name')"
   ]
  },
  {
   "cell_type": "code",
   "execution_count": 45,
   "id": "787bac42-82f0-4447-b514-fce55bd51991",
   "metadata": {},
   "outputs": [
    {
     "name": "stdout",
     "output_type": "stream",
     "text": [
      "이미지 파일 복사 완료\n"
     ]
    }
   ],
   "source": [
    "#이진 파일을 읽어 오려면...\n",
    "fstream = open('sample.jpg','rb')\n",
    "data = fstream.read()\n",
    "fstream.close()\n",
    "\n",
    "fstream = open('sample_copy.jpg','wb')\n",
    "fstream.write(data)\n",
    "fstream.close()\n",
    "\n",
    "print('이미지 파일 복사 완료')\n"
   ]
  },
  {
   "cell_type": "code",
   "execution_count": 91,
   "id": "0b8caa50-54fd-4ecc-b436-10835329a445",
   "metadata": {},
   "outputs": [],
   "source": [
    "fstream = open('D:/test/emp.txt',encoding='utf-8')\n",
    "#dir(fstream)"
   ]
  },
  {
   "cell_type": "code",
   "execution_count": 66,
   "id": "085bdf32-da28-4619-b6d8-e70539f93b08",
   "metadata": {},
   "outputs": [
    {
     "ename": "ValueError",
     "evalue": "I/O operation on closed file.",
     "output_type": "error",
     "traceback": [
      "\u001b[1;31m---------------------------------------------------------------------------\u001b[0m",
      "\u001b[1;31mValueError\u001b[0m                                Traceback (most recent call last)",
      "Input \u001b[1;32mIn [66]\u001b[0m, in \u001b[0;36m<cell line: 1>\u001b[1;34m()\u001b[0m\n\u001b[1;32m----> 1\u001b[0m data \u001b[38;5;241m=\u001b[39m \u001b[43mfstream\u001b[49m\u001b[38;5;241;43m.\u001b[39;49m\u001b[43mread\u001b[49m\u001b[43m(\u001b[49m\u001b[43m)\u001b[49m\n\u001b[0;32m      2\u001b[0m \u001b[38;5;28mprint\u001b[39m(data)\n\u001b[0;32m      3\u001b[0m fstream\u001b[38;5;241m.\u001b[39mclose()\n",
      "\u001b[1;31mValueError\u001b[0m: I/O operation on closed file."
     ]
    }
   ],
   "source": [
    "data = fstream.read()\n",
    "print(data)\n",
    "fstream.close()"
   ]
  },
  {
   "cell_type": "code",
   "execution_count": 67,
   "id": "b2b27c9f-6e0a-4335-9d1f-19617e8ceff6",
   "metadata": {},
   "outputs": [
    {
     "name": "stdout",
     "output_type": "stream",
     "text": [
      "11 smith 010-0000-0000 smith@gmail.com\n",
      "\n",
      "12 tom 010-0000-0000 tom@gmail.com\n",
      "\n",
      "13 alice 010-0000-0000 alice@gmail.com\n",
      "\n",
      "14 suzan 010-0000-0000 suzan@gmail.com\n",
      "\n",
      "15 마동석 010-0000-0000 mads@gmail.com\n",
      "\n",
      "\n",
      "\n",
      "\n",
      "\n",
      "\n",
      "\n",
      "\n",
      "\n",
      "\n",
      "\n",
      "\n",
      "\n",
      "\n",
      "\n",
      "\n",
      "\n",
      "\n",
      "\n",
      "\n",
      "\n",
      "\n",
      "\n",
      "\n",
      "\n",
      "\n",
      "\n",
      "\n",
      "\n",
      "\n",
      "\n",
      "\n",
      "\n",
      "\n",
      "\n",
      "\n",
      "\n",
      "\n",
      "\n",
      "\n",
      "\n",
      "\n",
      "\n",
      "\n",
      "\n",
      "\n",
      "\n",
      "\n",
      "\n",
      "\n",
      "\n",
      "\n",
      "\n",
      "\n",
      "\n",
      "\n",
      "\n",
      "\n",
      "\n",
      "\n",
      "\n",
      "\n",
      "\n",
      "\n",
      "\n",
      "\n",
      "\n",
      "\n",
      "\n",
      "\n",
      "\n",
      "\n",
      "\n",
      "\n",
      "\n",
      "\n",
      "\n",
      "\n",
      "\n",
      "\n",
      "\n",
      "\n",
      "\n",
      "\n",
      "\n",
      "\n",
      "\n",
      "\n",
      "\n",
      "\n",
      "\n",
      "\n",
      "\n",
      "\n",
      "\n",
      "\n",
      "\n",
      "\n",
      "\n",
      "\n",
      "\n",
      "\n",
      "\n",
      "\n",
      "\n",
      "\n",
      "\n",
      "\n",
      "\n",
      "\n",
      "\n",
      "\n",
      "\n",
      "\n",
      "\n",
      "\n",
      "\n",
      "\n",
      "\n",
      "\n",
      "\n",
      "\n",
      "\n",
      "\n",
      "\n",
      "\n",
      "\n",
      "\n",
      "\n",
      "\n",
      "\n",
      "\n",
      "\n",
      "\n",
      "\n",
      "\n",
      "\n",
      "\n",
      "\n",
      "\n",
      "\n",
      "\n",
      "\n",
      "\n",
      "\n",
      "\n",
      "\n",
      "\n",
      "\n",
      "\n",
      "\n",
      "\n",
      "\n",
      "\n",
      "\n",
      "\n",
      "\n",
      "\n",
      "\n",
      "\n",
      "\n",
      "\n",
      "\n",
      "\n",
      "\n",
      "\n",
      "\n",
      "\n",
      "\n",
      "\n",
      "\n",
      "\n",
      "\n",
      "\n",
      "\n",
      "\n",
      "\n",
      "\n",
      "\n",
      "\n",
      "\n",
      "\n"
     ]
    }
   ],
   "source": [
    "#특정 행만 읽어오려면....\n",
    "with open(\"D:/test/emp.txt\",encoding='utf-8') as fin:\n",
    "    for i in data:\n",
    "        line = fin.readline() #한행만 읽음\n",
    "        print(line)"
   ]
  },
  {
   "cell_type": "code",
   "execution_count": 72,
   "id": "58bb6c44-41eb-4816-a3fc-6f2578049fb8",
   "metadata": {},
   "outputs": [
    {
     "name": "stdout",
     "output_type": "stream",
     "text": [
      "11 smith 010-0000-0000 smith@gmail.com\n",
      "12 tom 010-0000-0000 tom@gmail.com\n",
      "13 alice 010-0000-0000 alice@gmail.com\n",
      "14 suzan 010-0000-0000 suzan@gmail.com\n",
      "15 마동석 010-0000-0000 mads@gmail.com\n",
      "파일 읽기 완료\n"
     ]
    }
   ],
   "source": [
    "with open(\"D:/test/emp.txt\",encoding='utf-8') as fin:\n",
    "    while True:\n",
    "        line = fin.readline()\n",
    "        if line:\n",
    "            #ouput.write(line)\n",
    "            print(line.strip())\n",
    "        else:\n",
    "            break\n",
    "print('파일 읽기 완료')"
   ]
  },
  {
   "cell_type": "code",
   "execution_count": 81,
   "id": "b32a94ee-4ec1-4076-8b96-8986ee526272",
   "metadata": {},
   "outputs": [
    {
     "name": "stdout",
     "output_type": "stream",
     "text": [
      "11 smith 010-0000-0000 smith@gmail.com\n",
      "12 tom 010-0000-0000 tom@gmail.com\n",
      "13 alice 010-0000-0000 alice@gmail.com\n",
      "14 suzan 010-0000-0000 suzan@gmail.com\n",
      "15 마동석 010-0000-0000 mads@gmail.com\n",
      "파일 읽기 완료\n"
     ]
    }
   ],
   "source": [
    "with open(\"D:/test/emp.txt\",encoding='utf-8') as fin:\n",
    "    for line in fin:\n",
    "        print(line.strip())\n",
    "        \n",
    "print('파일 읽기 완료')"
   ]
  },
  {
   "cell_type": "markdown",
   "id": "947a5992-0e25-4a45-8987-989eb5016a65",
   "metadata": {},
   "source": [
    "# 문제 2\n",
    "* 특정 이름이 포함된 행을 검색하여 화면에 표시해보세요"
   ]
  },
  {
   "cell_type": "code",
   "execution_count": 85,
   "id": "eb78eecb-d635-4632-8d72-e7be450f788f",
   "metadata": {},
   "outputs": [
    {
     "name": "stdout",
     "output_type": "stream",
     "text": [
      "13 alice 010-0000-0000 alice@gmail.com\n",
      "파일 읽기 완료\n"
     ]
    }
   ],
   "source": [
    "#문제 2\n",
    "#특정 이름이 포함된 행을 검색하여 화면에 표시해보세요\n",
    "# 답2 : 내가 푼 답\n",
    "with open(\"D:/test/emp.txt\",encoding='utf-8') as fin:\n",
    "    for line in fin:\n",
    "        if 'alice' in line:\n",
    "            print(line.strip())\n",
    "print('파일 읽기 완료')"
   ]
  },
  {
   "cell_type": "code",
   "execution_count": 87,
   "id": "69613edc-54f4-431d-85db-43dc678fc2dd",
   "metadata": {},
   "outputs": [
    {
     "name": "stdout",
     "output_type": "stream",
     "text": [
      "13 alice 010-0000-0000 alice@gmail.com\n",
      "파일 읽기 완료\n"
     ]
    }
   ],
   "source": [
    "#답2 for사용x\n",
    "with open(\"D:/test/emp.txt\",encoding='utf-8') as fin:\n",
    "    for line in fin:\n",
    "        _,name,_,_ = line.split()\n",
    "        if name=='alice':\n",
    "            print(line.strip())\n",
    "print('파일 읽기 완료')"
   ]
  },
  {
   "cell_type": "markdown",
   "id": "ecdeb915-ba67-4c44-b69b-fe6c6c197b61",
   "metadata": {},
   "source": [
    "## 문제 3, 텍스트 파일 특정 행 데이터 변경하기\n",
    "* 한 행씩 읽어온다(디스크에서 메모리에 로드한다)\n",
    "* 변경 대상 행이라면 그 행 안의 전화번호만 변경하여 메모리에 로드한다.\n",
    "* 텍스트 파일의 내용이 전체 로드되면 다시 디스크에 덮어쓰기한다.\n",
    "\n"
   ]
  },
  {
   "cell_type": "code",
   "execution_count": 99,
   "id": "d4c9007d-d141-4ec0-aab2-c42a0c091a5b",
   "metadata": {},
   "outputs": [
    {
     "name": "stdin",
     "output_type": "stream",
     "text": [
      "변경 대상 이름: 마동석\n",
      "변경할 전화번호 입력: 010-1111-1111\n"
     ]
    },
    {
     "name": "stdout",
     "output_type": "stream",
     "text": [
      "15 마동석 010-0000-0000 mads@gmail.com\n",
      "파일 변경 완료\n"
     ]
    }
   ],
   "source": [
    "#내가푼답_오답\n",
    "fstream_r = open(\"D:/test/emp.txt\",'r',encoding='utf-8')\n",
    "lines = fstream_r.readlines()\n",
    "fstream_r.close()\n",
    "\n",
    "fstream_w = open(\"D:/test/emp.txt\",'w',encoding='utf-8')\n",
    "in_name = input('변경 대상 이름:')\n",
    "_,name,old_phone,_ = line.split()\n",
    "\n",
    "for line in lines:\n",
    "    fstream_w.write(line.replace(old_phone,new_phone))\n",
    "fstream_w.close()\n",
    "\n",
    "if name=='마동석':\n",
    "    new_phone = input('변경할 전화번호 입력:')\n",
    "    old_phone = fstream.write(new_phone)\n",
    "    fstream.close()\n",
    "    print(line.strip())\n",
    "print('파일 변경 완료')"
   ]
  },
  {
   "cell_type": "code",
   "execution_count": 103,
   "id": "81506b62-ef0d-4fc8-a1ea-6521fcc08257",
   "metadata": {},
   "outputs": [
    {
     "name": "stdout",
     "output_type": "stream",
     "text": [
      "15 마동석 010-0000-0000 mads@gmail.com\n",
      "로드완료\n",
      "수정 완료\n",
      "수정 결과\n",
      "11 smith 010-0000-0000 smith@gmail.com\n",
      "12 tom 010-0000-0000 tom@gmail.com\n",
      "13 alice 010-0000-0000 alice@gmail.com\n",
      "14 suzan 010-0000-0000 suzan@gmail.com\n",
      "15 마동석 010-1111-1111 mads@gmail.com\n"
     ]
    }
   ],
   "source": [
    "#답3\n",
    "emp_list = [] #메모리공간확보\n",
    "with open(\"D:/test/emp.txt\",encoding='utf-8') as fin:\n",
    "    for line in fin:\n",
    "        num,name,phone,email = line.split()\n",
    "        if name =='마동석':\n",
    "            print(line.strip())\n",
    "            phone = \"010-1111-1111\"\n",
    "            line = '{} {} {} {}'.format(num,name,phone,email)\n",
    "        emp_list.append(line)\n",
    "print('로드완료')\n",
    "\n",
    "with open(\"D:/test/emp.txt\",\"w\",encoding='utf-8') as fout:\n",
    "    fout.writelines(emp_list)\n",
    "print('수정 완료')\n",
    "\n",
    "print('수정 결과')\n",
    "with open(\"D:/test/emp.txt\",encoding='utf-8') as fin:\n",
    "    print(fin.read())"
   ]
  },
  {
   "cell_type": "markdown",
   "id": "7bca4977-98ea-429f-b2ef-f6842e907ff3",
   "metadata": {},
   "source": [
    "# 문제 4, 삭제"
   ]
  },
  {
   "cell_type": "code",
   "execution_count": 104,
   "id": "71e58be7-495c-4bb3-a804-fe9abc063b7e",
   "metadata": {},
   "outputs": [
    {
     "name": "stdout",
     "output_type": "stream",
     "text": [
      "로드완료\n",
      "삭제 완료\n",
      "삭제 결과\n",
      "11 smith 010-0000-0000 smith@gmail.com\n",
      "12 tom 010-0000-0000 tom@gmail.com\n",
      "13 alice 010-0000-0000 alice@gmail.com\n",
      "14 suzan 010-0000-0000 suzan@gmail.com\n",
      "\n"
     ]
    }
   ],
   "source": [
    "emp_list = [] #메모리공간확보\n",
    "with open(\"D:/test/emp.txt\",encoding='utf-8') as fin:\n",
    "    for line in fin:\n",
    "        num,name,phone,email = line.split()\n",
    "        if name =='마동석':\n",
    "            continue\n",
    "        emp_list.append(line)\n",
    "print('로드완료')\n",
    "\n",
    "with open(\"D:/test/emp.txt\",\"w\",encoding='utf-8') as fout:\n",
    "    fout.writelines(emp_list)\n",
    "print('삭제 완료')\n",
    "\n",
    "print('삭제 결과')\n",
    "with open(\"D:/test/emp.txt\",encoding='utf-8') as fin:\n",
    "    print(fin.read())"
   ]
  },
  {
   "cell_type": "markdown",
   "id": "50e664b6-7782-4756-96bc-50cdb66737ff",
   "metadata": {},
   "source": [
    "# 문제 5, 회원관리 프로그램 실습(mem.txt)\n",
    "* 파일에 한 행 추가\n",
    "  - mode 'a'\n",
    "  - fout.write('xxxxxx\\n')  #파일에 이어쓰기\n",
    " <br><br>\n",
    "* 파일로부터 목록 읽어오기\n",
    "  - fin.read() :파일 내용 전체 문자열\n",
    "  - fin.readline() : 한 행 문자열 -> for문 사용가능\n",
    "  - fin.readlines() : 각 문자열\n",
    " <br><br>\n",
    "* 파일로부터 한 행 읽어오기\n",
    "  - fin.readline() -> for()문 사용가능\n",
    "   <br><br>\n",
    "* 파일의 특정 행 수정하기\n",
    "  - fin.readline()\n",
    "  - 검색/로드/덮어쓰기\n",
    "     <br><br>\n",
    "* 파일의 특정 행 삭제하기\n",
    "  - fin.readline()\n",
    "  - 대상 행만 로드하지 않음\n",
    "  - 로드된 데이터를 파일에 덮어쓰기\n",
    "   <br><br>\n",
    "* Member class\n",
    "  - num, name, phone, email 속성\n",
    "   <br><br>\n",
    "* Menu\n",
    "  - 목록(s), 추가(a), 검색(f), 수정(u), 삭제(d), 종료(x)"
   ]
  },
  {
   "cell_type": "code",
   "execution_count": null,
   "id": "f46d0345-510a-4af0-947d-e6f812a0b288",
   "metadata": {},
   "outputs": [],
   "source": [
    "class"
   ]
  },
  {
   "cell_type": "code",
   "execution_count": null,
   "id": "25de829d-60d0-4282-be08-db5dce1e4051",
   "metadata": {},
   "outputs": [],
   "source": []
  }
 ],
 "metadata": {
  "kernelspec": {
   "display_name": "Python 3 (ipykernel)",
   "language": "python",
   "name": "python3"
  },
  "language_info": {
   "codemirror_mode": {
    "name": "ipython",
    "version": 3
   },
   "file_extension": ".py",
   "mimetype": "text/x-python",
   "name": "python",
   "nbconvert_exporter": "python",
   "pygments_lexer": "ipython3",
   "version": "3.9.12"
  }
 },
 "nbformat": 4,
 "nbformat_minor": 5
}
