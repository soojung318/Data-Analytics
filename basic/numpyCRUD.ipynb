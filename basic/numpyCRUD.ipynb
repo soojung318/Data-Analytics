{
 "cells": [
  {
   "cell_type": "markdown",
   "id": "325b5377-bf01-498f-9469-4e26250b9723",
   "metadata": {},
   "source": [
    "# Numpy delete"
   ]
  },
  {
   "cell_type": "code",
   "execution_count": null,
   "id": "e9ff2577-4a0c-47a9-b111-0904eb686299",
   "metadata": {},
   "outputs": [],
   "source": [
    "import numpy as np\n",
    "\n",
    "arr = np.array([1,2,3,4,5])\n",
    "arr = np.delete(arr,2)\n",
    "arr"
   ]
  },
  {
   "cell_type": "code",
   "execution_count": 2,
   "id": "677aa6cc-11ec-4597-9fc3-ab42a3f837bc",
   "metadata": {},
   "outputs": [
    {
     "name": "stdout",
     "output_type": "stream",
     "text": [
      "['David' 'Eric']\n"
     ]
    }
   ],
   "source": [
    "arr = np.array([\"Alice\",\"Bob\",\"Charlie\",\"David\",\"Eric\"])\n",
    "arr = np.delete(arr,[0,1,2])\n",
    "print(arr)"
   ]
  },
  {
   "cell_type": "code",
   "execution_count": 6,
   "id": "d8d87000-a602-4a8c-b1a1-b49a2a28fe9d",
   "metadata": {},
   "outputs": [
    {
     "name": "stdout",
     "output_type": "stream",
     "text": [
      "[[ 2  3]\n",
      " [ 6  7]\n",
      " [10 11]]\n"
     ]
    }
   ],
   "source": [
    "arr = np.array([[1,2,3,4],\n",
    "                [5,6,7,8],\n",
    "                [9,10,11,12]])\n",
    "arr = np.delete(arr,[0,3],axis=1)  #[0,3] 두 컬럼을 삭제 ,axis=1:첫번째 행\n",
    "print(arr)"
   ]
  },
  {
   "cell_type": "code",
   "execution_count": 9,
   "id": "6355a4a8-02ee-4b90-aed3-a33da3828e72",
   "metadata": {},
   "outputs": [
    {
     "name": "stdout",
     "output_type": "stream",
     "text": [
      "[2 3 4]\n"
     ]
    }
   ],
   "source": [
    "arr = np.array([1,1,1,1,2,3,4])\n",
    "arr = np.delete(arr, np.where(arr ==1))\n",
    "print(arr)"
   ]
  },
  {
   "cell_type": "code",
   "execution_count": 11,
   "id": "368d2a86-1a67-4e2a-bc26-4f07f41aa594",
   "metadata": {},
   "outputs": [],
   "source": [
    "def delete_1(row):\n",
    "    B = np.arange(16).reshape(4,-1)\n",
    "    B = np.delete(B,row,axis=0)\n",
    "    print(B)"
   ]
  },
  {
   "cell_type": "code",
   "execution_count": null,
   "id": "caf650e2-9074-41ff-9758-7fb9b4a9822c",
   "metadata": {},
   "outputs": [],
   "source": [
    "def delete_2(2):\n",
    "    B = np.arange(16).reshape(4,-1)\n",
    "    B = np.delete(B,row,axis=0)\n",
    "    print(B)"
   ]
  },
  {
   "cell_type": "code",
   "execution_count": 14,
   "id": "07e2004f-573d-4183-b319-a54d1e7e0526",
   "metadata": {},
   "outputs": [
    {
     "name": "stdout",
     "output_type": "stream",
     "text": [
      "[[ 0  1  2  3]\n",
      " [ 4  5  6  7]\n",
      " [12 13 14 15]]\n"
     ]
    }
   ],
   "source": [
    "delete_1(2)"
   ]
  },
  {
   "cell_type": "markdown",
   "id": "77519837-d1d9-4333-9912-a730c75d98be",
   "metadata": {},
   "source": [
    "# 문제1,.성적관리 프로그램(ndarray(NUMPY) CRUD 실습)\n",
    "   - 5의 학생 성적(학생의 이름 번호)\n",
    "   - 3과목(5*3 2차원 배열)\n",
    "   - 3개의 배열 존재: 1차원 배열 2개, 2차원 배열 1개\n",
    "   - 목록(s),추가(a),검색(번호로검색,f),수정(u),삭제(d),종료(x)\n",
    "   - 성적 입력시 : 변호 이름을 먼저 받고, 3 과목 성적을 입력 받아서 저장\n",
    "   - np.where(stid == 15) <-- 15인 원소의 인덱스 리턴\n",
    "   - 삭제할 때는 '학생정보 삭제','과목삭제' 중 택 1 하도록 작성\n",
    "   - names, stid, subjects, socres(2차원)\n",
    "   - 파일에 저장하는 시기: 추가, 수정\n",
    "   - 파일에서 로드하는 시기: 리스트, 검색\n",
    "  "
   ]
  },
  {
   "cell_type": "code",
   "execution_count": 15,
   "id": "cbb15bbb-5896-4621-be56-8c83ff1bdec1",
   "metadata": {},
   "outputs": [],
   "source": [
    "import numpy as np"
   ]
  },
  {
   "cell_type": "code",
   "execution_count": 16,
   "id": "43fd85bc-0f49-48f9-a2d5-5b966d8d3ae9",
   "metadata": {},
   "outputs": [],
   "source": [
    "names = np.array(['scott','jone','lora','blake','andy'])\n",
    "subjects = np.array(['Java','Spring','Python'])\n",
    "stid = np.array([11,12,13,14,15])\n",
    "scores = np.zeros((5,3))"
   ]
  },
  {
   "cell_type": "code",
   "execution_count": null,
   "id": "f14259f7-62ad-4a11-b331-c1a32634c1d3",
   "metadata": {},
   "outputs": [],
   "source": []
  },
  {
   "cell_type": "code",
   "execution_count": 8,
   "id": "4c43731f-765d-4991-9b1c-32a1128788b0",
   "metadata": {},
   "outputs": [
    {
     "name": "stdout",
     "output_type": "stream",
     "text": [
      "Name: pandas\n",
      "Version: 1.4.2\n",
      "Summary: Powerful data structures for data analysis, time series, and statistics\n",
      "Home-page: https://pandas.pydata.org\n",
      "Author: The Pandas Development Team\n",
      "Author-email: pandas-dev@python.org\n",
      "License: BSD-3-Clause\n",
      "Location: c:\\users\\201-20\\anaconda3\\lib\\site-packages\n",
      "Requires: pytz, numpy, python-dateutil\n",
      "Required-by: xarray, statsmodels, seaborn, hvplot, holoviews, datashader\n"
     ]
    }
   ],
   "source": []
  },
  {
   "cell_type": "code",
   "execution_count": null,
   "id": "18d6a83f-29db-40a2-bd15-38fe992f6d15",
   "metadata": {},
   "outputs": [],
   "source": []
  }
 ],
 "metadata": {
  "kernelspec": {
   "display_name": "Python 3 (ipykernel)",
   "language": "python",
   "name": "python3"
  },
  "language_info": {
   "codemirror_mode": {
    "name": "ipython",
    "version": 3
   },
   "file_extension": ".py",
   "mimetype": "text/x-python",
   "name": "python",
   "nbconvert_exporter": "python",
   "pygments_lexer": "ipython3",
   "version": "3.9.12"
  },
  "toc-autonumbering": false,
  "toc-showcode": true,
  "toc-showmarkdowntxt": true
 },
 "nbformat": 4,
 "nbformat_minor": 5
}
