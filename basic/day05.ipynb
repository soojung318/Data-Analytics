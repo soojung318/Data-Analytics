{
 "cells": [
  {
   "cell_type": "markdown",
   "id": "d417fe61-a524-4684-be09-c2b8d49ee3ff",
   "metadata": {},
   "source": [
    "# 220818"
   ]
  },
  {
   "cell_type": "code",
   "execution_count": 15,
   "id": "2146b185-6ee0-4386-8b5c-c9d48e23f6cf",
   "metadata": {},
   "outputs": [],
   "source": [
    "import pymysql"
   ]
  },
  {
   "cell_type": "code",
   "execution_count": 157,
   "id": "d95d13ed-816a-4043-a9e7-30c856217158",
   "metadata": {},
   "outputs": [],
   "source": [
    "conn = pymysql.connect(host='127.0.0.1',user='root',password='ezen',db='mydb',charset='utf8')  #mariaDB연결"
   ]
  },
  {
   "cell_type": "code",
   "execution_count": 158,
   "id": "d2dc6748-2719-4102-adbc-cd4194a14b58",
   "metadata": {},
   "outputs": [],
   "source": [
    "curs = conn.cursor()  #커서 열기"
   ]
  },
  {
   "cell_type": "code",
   "execution_count": 118,
   "id": "17776d99-9ec2-4cc0-9bd0-379ae9983c29",
   "metadata": {},
   "outputs": [
    {
     "data": {
      "text/plain": [
       "2"
      ]
     },
     "execution_count": 118,
     "metadata": {},
     "output_type": "execute_result"
    }
   ],
   "source": [
    "curs.execute('SELECT * FROM emp')"
   ]
  },
  {
   "cell_type": "code",
   "execution_count": 90,
   "id": "7a7a399c-b1d0-4fea-be46-a5b2ee55dec2",
   "metadata": {},
   "outputs": [
    {
     "data": {
      "text/plain": [
       "tuple"
      ]
     },
     "execution_count": 90,
     "metadata": {},
     "output_type": "execute_result"
    }
   ],
   "source": [
    "rows = curs.fetchall()  #fetch로부터 커서를 전부 가져옴\n",
    "type(rows)  #rows의 정체는?  2차원 tuple"
   ]
  },
  {
   "cell_type": "code",
   "execution_count": 91,
   "id": "fa21a66d-44a5-4824-8460-551e46908f70",
   "metadata": {},
   "outputs": [
    {
     "data": {
      "text/plain": [
       "((11, 'scott', datetime.date(2022, 3, 12), 3500),\n",
       " (12, 'alice', datetime.date(2022, 9, 11), 6000))"
      ]
     },
     "execution_count": 91,
     "metadata": {},
     "output_type": "execute_result"
    }
   ],
   "source": [
    "rows"
   ]
  },
  {
   "cell_type": "code",
   "execution_count": 92,
   "id": "2c8a2ed2-6ad4-465c-85a4-a6e44c51d588",
   "metadata": {},
   "outputs": [
    {
     "name": "stdout",
     "output_type": "stream",
     "text": [
      "11\tscott\t2022-03-12\t3500\n",
      "12\talice\t2022-09-11\t6000\n"
     ]
    }
   ],
   "source": [
    "for(empno,ename,hiredate,sal) in rows:\n",
    "    print('{}\\t{}\\t{}\\t{}'.format(empno,ename,hiredate,sal))"
   ]
  },
  {
   "cell_type": "code",
   "execution_count": 152,
   "id": "94e310b9-daaa-4ed0-ad78-619394b5a9f4",
   "metadata": {},
   "outputs": [],
   "source": [
    "curs.close()  #커서 닫기"
   ]
  },
  {
   "cell_type": "code",
   "execution_count": 153,
   "id": "ad560425-fe07-4f1c-b91c-7422a085f237",
   "metadata": {},
   "outputs": [],
   "source": [
    "conn.close()  #mariaDB연결 종료"
   ]
  },
  {
   "cell_type": "code",
   "execution_count": 13,
   "id": "b19733dc-7e10-44ca-a813-b1fffdbb3636",
   "metadata": {},
   "outputs": [],
   "source": [
    "#db,커서연결 함수\n",
    "def get_conn():\n",
    "    conn = pymysql.connect(host='127.0.0.1',user='root',password='ezen',db='mydb',charset='utf8')  #mariaDB연결\n",
    "    return conn"
   ]
  },
  {
   "cell_type": "code",
   "execution_count": 44,
   "id": "273c2f96-31ab-4701-98da-ae2a3c821941",
   "metadata": {},
   "outputs": [],
   "source": [
    "#db, 커서 종료 함수 ,사용안됌.\n",
    "def close_conn():\n",
    "    curs.close()\n",
    "    conn.close()\n",
    "    return "
   ]
  },
  {
   "cell_type": "code",
   "execution_count": 97,
   "id": "30616a9e-8a65-4cf7-8f66-076b81ce1671",
   "metadata": {},
   "outputs": [
    {
     "name": "stdout",
     "output_type": "stream",
     "text": [
      "12\talice\t2022-09-11\t6000\n"
     ]
    }
   ],
   "source": [
    "conn = get_conn()\n",
    "curs = conn.cursor()\n",
    "sql = \"SELECT * FROM emp WHERE ename=%s\"\n",
    "curs.execute(sql,('alice'))\n",
    "\n",
    "print('{}\\t{}\\t{}\\t{}'.format(empno,ename,hiredate,sal))\n",
    "\n",
    "\n",
    "curs.close()\n",
    "conn.close()"
   ]
  },
  {
   "cell_type": "code",
   "execution_count": 98,
   "id": "6830a148-bc43-48e5-af54-6f5d3a5d5939",
   "metadata": {},
   "outputs": [
    {
     "name": "stdout",
     "output_type": "stream",
     "text": [
      "11 scott 2022-03-12 3500\n",
      "12 alice 2022-09-11 6000\n"
     ]
    }
   ],
   "source": [
    "conn = get_conn()\n",
    "curs = conn.cursor(pymysql.cursors.DictCursor)\n",
    "curs.execute(\"SELECT * FROM emp\")\n",
    "rows = curs.fetchall() #하나를 가져옴\n",
    "\n",
    "for row in rows:\n",
    "    print(row['empno'],row['ename'],row['hiredate'],row['sal'])\n",
    "curs.close()\n",
    "conn.close()\n"
   ]
  },
  {
   "cell_type": "code",
   "execution_count": null,
   "id": "04165a1c-9c59-4551-9862-7859d6288c96",
   "metadata": {},
   "outputs": [],
   "source": [
    "with conn.cursor() as curs:\n",
    "    curs.execute(sql,('a','b'))\n",
    "    #커서를 close() 하지 않음\n",
    "    "
   ]
  },
  {
   "cell_type": "code",
   "execution_count": 110,
   "id": "216a431e-3ea2-44bc-a88d-8f529a34c41f",
   "metadata": {},
   "outputs": [
    {
     "name": "stdout",
     "output_type": "stream",
     "text": [
      "추가성공\n"
     ]
    }
   ],
   "source": [
    "#INSERT\n",
    "#한 행 입력\n",
    "sql = \"INSERT INTO emp VALUES(%s,%s,%s,%s)\" #4개의 파라미터를 가진 sql문\n",
    "with conn.cursor() as curs:\n",
    "    n = curs.execute(sql,(13,'alex','2022-01-14',3500))\n",
    "    conn.commit()\n",
    "    print('추가성공') if n>0 else print('추가실패')\n",
    "#다수 개의 행 입력"
   ]
  },
  {
   "cell_type": "markdown",
   "id": "3d557766-c6c8-4239-a9cf-b257cb02f072",
   "metadata": {},
   "source": [
    "# 문제1, 추가\n",
    "키보드에서 사번, 이름, 입사일, 급여액을 입력 받아서 emp 테이블에 한 행으로 입력하고 그 성공여부를 표시하세요."
   ]
  },
  {
   "cell_type": "code",
   "execution_count": 138,
   "id": "3cb102e5-229b-4c36-b5b5-a055f60bf93b",
   "metadata": {},
   "outputs": [
    {
     "ename": "KeyboardInterrupt",
     "evalue": "Interrupted by user",
     "output_type": "error",
     "traceback": [
      "\u001b[1;31m---------------------------------------------------------------------------\u001b[0m",
      "\u001b[1;31mKeyboardInterrupt\u001b[0m                         Traceback (most recent call last)",
      "Input \u001b[1;32mIn [138]\u001b[0m, in \u001b[0;36m<cell line: 5>\u001b[1;34m()\u001b[0m\n\u001b[0;32m      4\u001b[0m sql \u001b[38;5;241m=\u001b[39m \u001b[38;5;124m\"\u001b[39m\u001b[38;5;124mINSERT INTO emp VALUES(\u001b[39m\u001b[38;5;132;01m%s\u001b[39;00m\u001b[38;5;124m,\u001b[39m\u001b[38;5;132;01m%s\u001b[39;00m\u001b[38;5;124m,\u001b[39m\u001b[38;5;132;01m%s\u001b[39;00m\u001b[38;5;124m,\u001b[39m\u001b[38;5;132;01m%s\u001b[39;00m\u001b[38;5;124m)\u001b[39m\u001b[38;5;124m\"\u001b[39m \u001b[38;5;66;03m#4개의 파라미터를 가진 sql문\u001b[39;00m\n\u001b[0;32m      5\u001b[0m \u001b[38;5;28;01mwith\u001b[39;00m conn\u001b[38;5;241m.\u001b[39mcursor() \u001b[38;5;28;01mas\u001b[39;00m curs:\n\u001b[1;32m----> 6\u001b[0m     info \u001b[38;5;241m=\u001b[39m \u001b[38;5;28;43minput\u001b[39;49m\u001b[43m(\u001b[49m\u001b[38;5;124;43m'\u001b[39;49m\u001b[38;5;124;43m사번, 이름, 입사일, 급여액 순으로 입력:\u001b[39;49m\u001b[38;5;124;43m'\u001b[39;49m\u001b[43m)\u001b[49m\n\u001b[0;32m      7\u001b[0m     (empno,ename,hiredate,sal) \u001b[38;5;241m=\u001b[39m info\u001b[38;5;241m.\u001b[39msplit()\n\u001b[0;32m      8\u001b[0m     n \u001b[38;5;241m=\u001b[39m curs\u001b[38;5;241m.\u001b[39mexecute(sql,(empno,ename,hiredate,sal))\n",
      "File \u001b[1;32m~\\anaconda3\\lib\\site-packages\\ipykernel\\kernelbase.py:1075\u001b[0m, in \u001b[0;36mKernel.raw_input\u001b[1;34m(self, prompt)\u001b[0m\n\u001b[0;32m   1071\u001b[0m \u001b[38;5;28;01mif\u001b[39;00m \u001b[38;5;129;01mnot\u001b[39;00m \u001b[38;5;28mself\u001b[39m\u001b[38;5;241m.\u001b[39m_allow_stdin:\n\u001b[0;32m   1072\u001b[0m     \u001b[38;5;28;01mraise\u001b[39;00m StdinNotImplementedError(\n\u001b[0;32m   1073\u001b[0m         \u001b[38;5;124m\"\u001b[39m\u001b[38;5;124mraw_input was called, but this frontend does not support input requests.\u001b[39m\u001b[38;5;124m\"\u001b[39m\n\u001b[0;32m   1074\u001b[0m     )\n\u001b[1;32m-> 1075\u001b[0m \u001b[38;5;28;01mreturn\u001b[39;00m \u001b[38;5;28;43mself\u001b[39;49m\u001b[38;5;241;43m.\u001b[39;49m\u001b[43m_input_request\u001b[49m\u001b[43m(\u001b[49m\n\u001b[0;32m   1076\u001b[0m \u001b[43m    \u001b[49m\u001b[38;5;28;43mstr\u001b[39;49m\u001b[43m(\u001b[49m\u001b[43mprompt\u001b[49m\u001b[43m)\u001b[49m\u001b[43m,\u001b[49m\n\u001b[0;32m   1077\u001b[0m \u001b[43m    \u001b[49m\u001b[38;5;28;43mself\u001b[39;49m\u001b[38;5;241;43m.\u001b[39;49m\u001b[43m_parent_ident\u001b[49m\u001b[43m[\u001b[49m\u001b[38;5;124;43m\"\u001b[39;49m\u001b[38;5;124;43mshell\u001b[39;49m\u001b[38;5;124;43m\"\u001b[39;49m\u001b[43m]\u001b[49m\u001b[43m,\u001b[49m\n\u001b[0;32m   1078\u001b[0m \u001b[43m    \u001b[49m\u001b[38;5;28;43mself\u001b[39;49m\u001b[38;5;241;43m.\u001b[39;49m\u001b[43mget_parent\u001b[49m\u001b[43m(\u001b[49m\u001b[38;5;124;43m\"\u001b[39;49m\u001b[38;5;124;43mshell\u001b[39;49m\u001b[38;5;124;43m\"\u001b[39;49m\u001b[43m)\u001b[49m\u001b[43m,\u001b[49m\n\u001b[0;32m   1079\u001b[0m \u001b[43m    \u001b[49m\u001b[43mpassword\u001b[49m\u001b[38;5;241;43m=\u001b[39;49m\u001b[38;5;28;43;01mFalse\u001b[39;49;00m\u001b[43m,\u001b[49m\n\u001b[0;32m   1080\u001b[0m \u001b[43m\u001b[49m\u001b[43m)\u001b[49m\n",
      "File \u001b[1;32m~\\anaconda3\\lib\\site-packages\\ipykernel\\kernelbase.py:1120\u001b[0m, in \u001b[0;36mKernel._input_request\u001b[1;34m(self, prompt, ident, parent, password)\u001b[0m\n\u001b[0;32m   1117\u001b[0m             \u001b[38;5;28;01mbreak\u001b[39;00m\n\u001b[0;32m   1118\u001b[0m \u001b[38;5;28;01mexcept\u001b[39;00m \u001b[38;5;167;01mKeyboardInterrupt\u001b[39;00m:\n\u001b[0;32m   1119\u001b[0m     \u001b[38;5;66;03m# re-raise KeyboardInterrupt, to truncate traceback\u001b[39;00m\n\u001b[1;32m-> 1120\u001b[0m     \u001b[38;5;28;01mraise\u001b[39;00m \u001b[38;5;167;01mKeyboardInterrupt\u001b[39;00m(\u001b[38;5;124m\"\u001b[39m\u001b[38;5;124mInterrupted by user\u001b[39m\u001b[38;5;124m\"\u001b[39m) \u001b[38;5;28;01mfrom\u001b[39;00m \u001b[38;5;28mNone\u001b[39m\n\u001b[0;32m   1121\u001b[0m \u001b[38;5;28;01mexcept\u001b[39;00m \u001b[38;5;167;01mException\u001b[39;00m:\n\u001b[0;32m   1122\u001b[0m     \u001b[38;5;28mself\u001b[39m\u001b[38;5;241m.\u001b[39mlog\u001b[38;5;241m.\u001b[39mwarning(\u001b[38;5;124m\"\u001b[39m\u001b[38;5;124mInvalid Message:\u001b[39m\u001b[38;5;124m\"\u001b[39m, exc_info\u001b[38;5;241m=\u001b[39m\u001b[38;5;28;01mTrue\u001b[39;00m)\n",
      "\u001b[1;31mKeyboardInterrupt\u001b[0m: Interrupted by user"
     ]
    }
   ],
   "source": [
    "conn = get_conn()\n",
    "curs = conn.cursor()\n",
    "\n",
    "sql = \"INSERT INTO emp VALUES(%s,%s,%s,%s)\" #4개의 파라미터를 가진 sql문\n",
    "with conn.cursor() as curs:\n",
    "    info = input('사번, 이름, 입사일, 급여액 순으로 입력:')\n",
    "    (empno,ename,hiredate,sal) = info.split()\n",
    "    n = curs.execute(sql,(empno,ename,hiredate,sal))\n",
    "    conn.commit()\n",
    "    print('추가성공') if n>0 else print('추가실패')\n",
    "    \n",
    "curs.close()\n",
    "conn.close()"
   ]
  },
  {
   "cell_type": "code",
   "execution_count": 137,
   "id": "c05faab9-875b-4652-8e15-b13d0b0a961a",
   "metadata": {},
   "outputs": [
    {
     "ename": "ProgrammingError",
     "evalue": "Cursor closed",
     "output_type": "error",
     "traceback": [
      "\u001b[1;31m---------------------------------------------------------------------------\u001b[0m",
      "\u001b[1;31mProgrammingError\u001b[0m                          Traceback (most recent call last)",
      "Input \u001b[1;32mIn [137]\u001b[0m, in \u001b[0;36m<cell line: 1>\u001b[1;34m()\u001b[0m\n\u001b[1;32m----> 1\u001b[0m \u001b[43mcurs\u001b[49m\u001b[38;5;241;43m.\u001b[39;49m\u001b[43mexecute\u001b[49m\u001b[43m(\u001b[49m\u001b[38;5;124;43m'\u001b[39;49m\u001b[38;5;124;43mSELECT * FROM emp\u001b[39;49m\u001b[38;5;124;43m'\u001b[39;49m\u001b[43m)\u001b[49m\n",
      "File \u001b[1;32m~\\anaconda3\\lib\\site-packages\\pymysql\\cursors.py:143\u001b[0m, in \u001b[0;36mCursor.execute\u001b[1;34m(self, query, args)\u001b[0m\n\u001b[0;32m    129\u001b[0m \u001b[38;5;28;01mdef\u001b[39;00m \u001b[38;5;21mexecute\u001b[39m(\u001b[38;5;28mself\u001b[39m, query, args\u001b[38;5;241m=\u001b[39m\u001b[38;5;28;01mNone\u001b[39;00m):\n\u001b[0;32m    130\u001b[0m     \u001b[38;5;124;03m\"\"\"Execute a query\u001b[39;00m\n\u001b[0;32m    131\u001b[0m \n\u001b[0;32m    132\u001b[0m \u001b[38;5;124;03m    :param str query: Query to execute.\u001b[39;00m\n\u001b[1;32m   (...)\u001b[0m\n\u001b[0;32m    141\u001b[0m \u001b[38;5;124;03m    If args is a dict, %(name)s can be used as a placeholder in the query.\u001b[39;00m\n\u001b[0;32m    142\u001b[0m \u001b[38;5;124;03m    \"\"\"\u001b[39;00m\n\u001b[1;32m--> 143\u001b[0m     \u001b[38;5;28;01mwhile\u001b[39;00m \u001b[38;5;28;43mself\u001b[39;49m\u001b[38;5;241;43m.\u001b[39;49m\u001b[43mnextset\u001b[49m\u001b[43m(\u001b[49m\u001b[43m)\u001b[49m:\n\u001b[0;32m    144\u001b[0m         \u001b[38;5;28;01mpass\u001b[39;00m\n\u001b[0;32m    146\u001b[0m     query \u001b[38;5;241m=\u001b[39m \u001b[38;5;28mself\u001b[39m\u001b[38;5;241m.\u001b[39mmogrify(query, args)\n",
      "File \u001b[1;32m~\\anaconda3\\lib\\site-packages\\pymysql\\cursors.py:96\u001b[0m, in \u001b[0;36mCursor.nextset\u001b[1;34m(self)\u001b[0m\n\u001b[0;32m     95\u001b[0m \u001b[38;5;28;01mdef\u001b[39;00m \u001b[38;5;21mnextset\u001b[39m(\u001b[38;5;28mself\u001b[39m):\n\u001b[1;32m---> 96\u001b[0m     \u001b[38;5;28;01mreturn\u001b[39;00m \u001b[38;5;28;43mself\u001b[39;49m\u001b[38;5;241;43m.\u001b[39;49m\u001b[43m_nextset\u001b[49m\u001b[43m(\u001b[49m\u001b[38;5;28;43;01mFalse\u001b[39;49;00m\u001b[43m)\u001b[49m\n",
      "File \u001b[1;32m~\\anaconda3\\lib\\site-packages\\pymysql\\cursors.py:83\u001b[0m, in \u001b[0;36mCursor._nextset\u001b[1;34m(self, unbuffered)\u001b[0m\n\u001b[0;32m     81\u001b[0m \u001b[38;5;28;01mdef\u001b[39;00m \u001b[38;5;21m_nextset\u001b[39m(\u001b[38;5;28mself\u001b[39m, unbuffered\u001b[38;5;241m=\u001b[39m\u001b[38;5;28;01mFalse\u001b[39;00m):\n\u001b[0;32m     82\u001b[0m     \u001b[38;5;124;03m\"\"\"Get the next query set\"\"\"\u001b[39;00m\n\u001b[1;32m---> 83\u001b[0m     conn \u001b[38;5;241m=\u001b[39m \u001b[38;5;28;43mself\u001b[39;49m\u001b[38;5;241;43m.\u001b[39;49m\u001b[43m_get_db\u001b[49m\u001b[43m(\u001b[49m\u001b[43m)\u001b[49m\n\u001b[0;32m     84\u001b[0m     current_result \u001b[38;5;241m=\u001b[39m \u001b[38;5;28mself\u001b[39m\u001b[38;5;241m.\u001b[39m_result\n\u001b[0;32m     85\u001b[0m     \u001b[38;5;28;01mif\u001b[39;00m current_result \u001b[38;5;129;01mis\u001b[39;00m \u001b[38;5;28;01mNone\u001b[39;00m \u001b[38;5;129;01mor\u001b[39;00m current_result \u001b[38;5;129;01mis\u001b[39;00m \u001b[38;5;129;01mnot\u001b[39;00m conn\u001b[38;5;241m.\u001b[39m_result:\n",
      "File \u001b[1;32m~\\anaconda3\\lib\\site-packages\\pymysql\\cursors.py:65\u001b[0m, in \u001b[0;36mCursor._get_db\u001b[1;34m(self)\u001b[0m\n\u001b[0;32m     63\u001b[0m \u001b[38;5;28;01mdef\u001b[39;00m \u001b[38;5;21m_get_db\u001b[39m(\u001b[38;5;28mself\u001b[39m):\n\u001b[0;32m     64\u001b[0m     \u001b[38;5;28;01mif\u001b[39;00m \u001b[38;5;129;01mnot\u001b[39;00m \u001b[38;5;28mself\u001b[39m\u001b[38;5;241m.\u001b[39mconnection:\n\u001b[1;32m---> 65\u001b[0m         \u001b[38;5;28;01mraise\u001b[39;00m err\u001b[38;5;241m.\u001b[39mProgrammingError(\u001b[38;5;124m\"\u001b[39m\u001b[38;5;124mCursor closed\u001b[39m\u001b[38;5;124m\"\u001b[39m)\n\u001b[0;32m     66\u001b[0m     \u001b[38;5;28;01mreturn\u001b[39;00m \u001b[38;5;28mself\u001b[39m\u001b[38;5;241m.\u001b[39mconnection\n",
      "\u001b[1;31mProgrammingError\u001b[0m: Cursor closed"
     ]
    }
   ],
   "source": [
    "#쌤 답1\n",
    "emp_str = input('사번 이름 입사일 급여액:')\n",
    "empno, ename, hiredate, sal = emp_str.split()\n",
    "\n",
    "sql = \"INSERT INTO emp VALUES(%s,%s,%s,%s)\"\n",
    "\n",
    "with get_conn() as conn:\n",
    "    with conn.cursor() as curs:\n",
    "        n = curs.execute(sql,(int(empno),ename,hiredate,int(sal)))\n",
    "        print('추가성공') if n>0 else print('추가실패')\n",
    "    conn.commit()"
   ]
  },
  {
   "cell_type": "markdown",
   "id": "f87361df-719b-4a46-bdf2-18395f85a3d3",
   "metadata": {},
   "source": [
    "# 문제2, 수정\n",
    "키보드에서 사번, 급여액을 입력받아서 해당 사원의 급여를 갱신하고 목록을 표시해보세요."
   ]
  },
  {
   "cell_type": "code",
   "execution_count": 156,
   "id": "28cf5558-f3c3-4051-9181-09bbf3c28653",
   "metadata": {},
   "outputs": [
    {
     "name": "stdin",
     "output_type": "stream",
     "text": [
      "변경할 급여액, 사번 순으로 입력: 40000 11\n"
     ]
    },
    {
     "name": "stdout",
     "output_type": "stream",
     "text": [
      "추가성공\n"
     ]
    }
   ],
   "source": [
    "#내 답2\n",
    "sql = \"UPDATE emp SET sal=%s WHERE empno=%s\"\n",
    "with conn.cursor() as curs:\n",
    "    info = input('변경할 급여액, 사번 순으로 입력:')\n",
    "    (sal,empno) = info.split()\n",
    "    n = curs.execute(sql,(sal,empno))\n",
    "    conn.commit()\n",
    "    print('변경 성공') if n>0 else print('변경 실패')\n",
    "    \n",
    "curs.close()\n",
    "conn.close()"
   ]
  },
  {
   "cell_type": "code",
   "execution_count": null,
   "id": "ceaf17c4-0883-4640-9757-22e5bec6f12d",
   "metadata": {},
   "outputs": [],
   "source": [
    "#쌤 답2\n",
    "\n",
    "emp_str = input('변경할 사원의 사번 급여액:')\n",
    "empno, sal = emp_str.split()\n",
    "\n",
    "sql = \"UPDATE emp SET sal=%s WHERE empno=%s\"\n",
    "\n",
    "with get_conn() as conn:\n",
    "    with conn.cursor() as curs:\n",
    "        n = curs.execute(sql,(int(sal),int(empno)))\n",
    "        print('변경성공') if n>0 else print('변경 실패')\n",
    "    conn.commit()\n",
    "    \n",
    "curs.close()\n",
    "conn.close()"
   ]
  },
  {
   "cell_type": "markdown",
   "id": "5c99f303-bfed-4767-8eae-1c260eb43979",
   "metadata": {},
   "source": [
    "# 문제 3, 삭제\n",
    "키보드에서 사원의 이름을 입력받아서 해당 사원의 정보를 삭제하고 목록을 표시해보세요."
   ]
  },
  {
   "cell_type": "code",
   "execution_count": 159,
   "id": "f2ea7dda-3bb2-44f0-96de-6812047df817",
   "metadata": {},
   "outputs": [
    {
     "name": "stdin",
     "output_type": "stream",
     "text": [
      "삭제할 사번 입력: 14\n"
     ]
    },
    {
     "name": "stdout",
     "output_type": "stream",
     "text": [
      "삭제 성공\n"
     ]
    }
   ],
   "source": [
    "sql = \"DELETE FROM emp WHERE empno=%s\"\n",
    "with conn.cursor() as curs:\n",
    "    info = input('삭제할 사번 입력:')\n",
    "    (empno) = info.split()\n",
    "    n = curs.execute(sql,(empno))\n",
    "    conn.commit()\n",
    "    print('삭제 성공') if n>0 else print('삭제 실패')\n",
    "    \n",
    "curs.close()\n",
    "conn.close()"
   ]
  },
  {
   "cell_type": "code",
   "execution_count": null,
   "id": "7dfb0ea0-ccb7-4ffc-b092-ecd3ead6b752",
   "metadata": {},
   "outputs": [],
   "source": [
    "#썜답3\n",
    "\n",
    "ename = input('삭제할 사원의 이름:')\n",
    "sql = \"DELETE FROM emp WHERE ename=%s\"\n",
    "\n",
    "with get_conn() as conn:\n",
    "    with conn.cursor() as curs:\n",
    "        n = curs.execute(sql,(ename.strip(),))\n",
    "        print('삭제성공') if n>0 else print('삭제실패')\n",
    "    conn.commit()\n"
   ]
  },
  {
   "cell_type": "markdown",
   "id": "de290c15-c4e9-441e-b309-59309b8f88e8",
   "metadata": {},
   "source": [
    "# 판다스, 빅데이터\n",
    "파이썬, 표계산에 사용ㅇ like 엑셀"
   ]
  },
  {
   "cell_type": "code",
   "execution_count": 160,
   "id": "d828ee45-5afb-4df9-80ec-2f2146480312",
   "metadata": {},
   "outputs": [
    {
     "data": {
      "text/html": [
       "<div>\n",
       "<style scoped>\n",
       "    .dataframe tbody tr th:only-of-type {\n",
       "        vertical-align: middle;\n",
       "    }\n",
       "\n",
       "    .dataframe tbody tr th {\n",
       "        vertical-align: top;\n",
       "    }\n",
       "\n",
       "    .dataframe thead th {\n",
       "        text-align: right;\n",
       "    }\n",
       "</style>\n",
       "<table border=\"1\" class=\"dataframe\">\n",
       "  <thead>\n",
       "    <tr style=\"text-align: right;\">\n",
       "      <th></th>\n",
       "      <th>empno</th>\n",
       "      <th>ename</th>\n",
       "      <th>hiredate</th>\n",
       "      <th>sal</th>\n",
       "    </tr>\n",
       "  </thead>\n",
       "  <tbody>\n",
       "    <tr>\n",
       "      <th>0</th>\n",
       "      <td>11</td>\n",
       "      <td>scott</td>\n",
       "      <td>2022-03-12</td>\n",
       "      <td>40000</td>\n",
       "    </tr>\n",
       "    <tr>\n",
       "      <th>1</th>\n",
       "      <td>12</td>\n",
       "      <td>alice</td>\n",
       "      <td>2022-09-11</td>\n",
       "      <td>6000</td>\n",
       "    </tr>\n",
       "    <tr>\n",
       "      <th>2</th>\n",
       "      <td>13</td>\n",
       "      <td>dazy</td>\n",
       "      <td>2022-08-18</td>\n",
       "      <td>5000</td>\n",
       "    </tr>\n",
       "  </tbody>\n",
       "</table>\n",
       "</div>"
      ],
      "text/plain": [
       "   empno  ename    hiredate    sal\n",
       "0     11  scott  2022-03-12  40000\n",
       "1     12  alice  2022-09-11   6000\n",
       "2     13   dazy  2022-08-18   5000"
      ]
     },
     "metadata": {},
     "output_type": "display_data"
    }
   ],
   "source": [
    "#예제\n",
    "\n",
    "import pandas as pd\n",
    "def emp_list():\n",
    "    conn = get_conn()\n",
    "    curs = conn.cursor(pymysql.cursors.DictCursor)\n",
    "    curs.execute(\"SELECT empno,ename,hiredate,sal FROM emp\")\n",
    "    rows = curs.fetchall()\n",
    "    \n",
    "    df = pd.DataFrame(rows)\n",
    "    display(df)  #print(df)\n",
    "    \n",
    "    curs.close()\n",
    "    conn.close()\n",
    "emp_list()"
   ]
  },
  {
   "cell_type": "markdown",
   "id": "61c13067-8d5d-4657-b759-9095550deaf6",
   "metadata": {},
   "source": [
    "# 문제 4,\n",
    "class EmpDAO 클래스 선언: CRUD 작업용 메소드 정의 ,데이터 베이스 입출력<br>\n",
    "class EmpVO 클래스, 데이터베이스 정보<br>\n",
    "기능: 목록(s),추가(a), 검색(f),수정(u), 삭제(d), 종료(x)<br>\n",
    "수정: 이름을 이용하여 급여액 변경<br>\n",
    "<br>\n",
    "<strong>함수 목록</strong>\n",
    "  - find_by_empno()\n",
    "  - find_by_ename()\n",
    "<br>\n"
   ]
  },
  {
   "cell_type": "code",
   "execution_count": 21,
   "id": "67bf5632-d3d7-4c8a-9fce-0d1dc106142c",
   "metadata": {},
   "outputs": [],
   "source": [
    "class EmpVO:\n",
    "    def __init__(self,str_line):\n",
    "        empno,ename,hiredate,sal = str_line.split()\n",
    "        self.empno = empno\n",
    "        self.ename = ename\n",
    "        self.hiredate = hiredate\n",
    "        self.sal = sal\n",
    "    \n",
    "    def __str__(self):\n",
    "        return '{}\\t{}\\t{}\\t{}'.format(self.empno,self.ename,self.hiredate,self.sal)\n",
    "    \n",
    "    def to_str(self):\n",
    "        return '{} {} {} {}'.format(self.empno, self.ename,self.hiredate.self.sal)"
   ]
  },
  {
   "cell_type": "code",
   "execution_count": 28,
   "id": "6447fe84-c4e4-4b50-865a-56f1b6716d0f",
   "metadata": {},
   "outputs": [],
   "source": [
    "\n",
    "import pandas as pd\n",
    "class EmpDAO:\n",
    "    \n",
    "    \n",
    "    \n",
    "    def add_emp():\n",
    "        conn = get_conn()\n",
    "        sql = \"INSERT INTO emp VALUES(%s,%s,%s,%s)\" #4개의 파라미터를 가진 sql문\n",
    "        with conn.cursor() as curs:\n",
    "            info = input('사번, 이름, 입사일, 급여액 순으로 입력:')\n",
    "            (empno,ename,hiredate,sal) = info.split()\n",
    "            n = curs.execute(sql,(empno,ename,hiredate,sal))\n",
    "            conn.commit()\n",
    "            print('추가성공') if n>0 else print('추가실패')\n",
    "\n",
    "    def list_emp():\n",
    "        conn = get_conn()\n",
    "        curs = conn.cursor(pymysql.cursors.DictCursor)\n",
    "        curs.execute(\"SELECT empno,ename,hiredate,sal FROM emp\")\n",
    "        rows = curs.fetchall()\n",
    "\n",
    "        df = pd.DataFrame(rows)\n",
    "        display(df)  #print(df)\n",
    "        \n",
    "    def find_emp():\n",
    "        conn = get_conn()\n",
    "        curs = conn.cursor()\n",
    "        \n",
    "        sql = \"SELECT * FROM emp WHERE ename=%s\"\n",
    "        with conn.cursor() as curs:\n",
    "            info = input('검색할 이름 입력:')\n",
    "            (ename) = info.split()\n",
    "            n = curs.execute(sql,(ename))\n",
    "            conn.commit()\n",
    "            print('검색 성공') if n>0 else print('검색 실패')\n",
    "        \n",
    "        print('{}\\t{}\\t{}\\t{}'.format(EmpVO.empno,EmpVO.ename,EmpVO.hiredate,EmpVO.sal))\n",
    "\n",
    "    def update_emp():\n",
    "        conn = get_conn()\n",
    "        curs = conn.cursor()\n",
    "        sql = \"UPDATE emp SET sal=%s WHERE empno=%s\"\n",
    "        with conn.cursor() as curs:\n",
    "            info = input('변경할 급여액, 사번 순으로 입력:')\n",
    "            (sal,empno) = info.split()\n",
    "            n = curs.execute(sql,(sal,empno))\n",
    "            conn.commit()\n",
    "            print('변경 성공') if n>0 else print('변경 실패')\n",
    "\n",
    "    def delete_emp():\n",
    "        conn = get_conn()\n",
    "        curs = conn.cursor()\n",
    "        sql = \"DELETE FROM emp WHERE empno=%s\"\n",
    "        with conn.cursor() as curs:\n",
    "            info = input('삭제할 사번 입력:')\n",
    "            (empno) = info.split()\n",
    "            n = curs.execute(sql,(empno))\n",
    "            conn.commit()\n",
    "            print('삭제 성공') if n>0 else print('삭제 실패')"
   ]
  },
  {
   "cell_type": "code",
   "execution_count": 29,
   "id": "4e2ca37b-3309-4eff-8aeb-1555a8c72d65",
   "metadata": {},
   "outputs": [],
   "source": [
    "m_dic = {'a':'ADD','s':'LIST','f':'FIND','u':'UPDATE','d':'DELETE','x':'EXIT'}\n",
    "def menu():\n",
    "    print('--------------------------------------------------------------------')\n",
    "    m = input('추가(a),목록(s),검색(f),수정(u),삭제(d),종료(x):')\n",
    "    return m_dic.get(m)"
   ]
  },
  {
   "cell_type": "code",
   "execution_count": 30,
   "id": "ad8322dc-3453-495c-a3bf-7bdbcc7ee881",
   "metadata": {},
   "outputs": [
    {
     "name": "stdout",
     "output_type": "stream",
     "text": [
      "--------------------------------------------------------------------\n"
     ]
    },
    {
     "name": "stdin",
     "output_type": "stream",
     "text": [
      "추가(a),목록(s),검색(f),수정(u),삭제(d),종료(x): u\n",
      "변경할 급여액, 사번 순으로 입력: 4000 11\n"
     ]
    },
    {
     "name": "stdout",
     "output_type": "stream",
     "text": [
      "변경 성공\n",
      "--------------------------------------------------------------------\n"
     ]
    },
    {
     "name": "stdin",
     "output_type": "stream",
     "text": [
      "추가(a),목록(s),검색(f),수정(u),삭제(d),종료(x): ㄴ\n"
     ]
    },
    {
     "name": "stdout",
     "output_type": "stream",
     "text": [
      "메뉴입력 오류\n",
      "--------------------------------------------------------------------\n"
     ]
    },
    {
     "name": "stdin",
     "output_type": "stream",
     "text": [
      "추가(a),목록(s),검색(f),수정(u),삭제(d),종료(x): s\n"
     ]
    },
    {
     "data": {
      "text/html": [
       "<div>\n",
       "<style scoped>\n",
       "    .dataframe tbody tr th:only-of-type {\n",
       "        vertical-align: middle;\n",
       "    }\n",
       "\n",
       "    .dataframe tbody tr th {\n",
       "        vertical-align: top;\n",
       "    }\n",
       "\n",
       "    .dataframe thead th {\n",
       "        text-align: right;\n",
       "    }\n",
       "</style>\n",
       "<table border=\"1\" class=\"dataframe\">\n",
       "  <thead>\n",
       "    <tr style=\"text-align: right;\">\n",
       "      <th></th>\n",
       "      <th>empno</th>\n",
       "      <th>ename</th>\n",
       "      <th>hiredate</th>\n",
       "      <th>sal</th>\n",
       "    </tr>\n",
       "  </thead>\n",
       "  <tbody>\n",
       "    <tr>\n",
       "      <th>0</th>\n",
       "      <td>11</td>\n",
       "      <td>scott</td>\n",
       "      <td>2022-03-12</td>\n",
       "      <td>4000</td>\n",
       "    </tr>\n",
       "    <tr>\n",
       "      <th>1</th>\n",
       "      <td>12</td>\n",
       "      <td>alice</td>\n",
       "      <td>2022-09-11</td>\n",
       "      <td>6000</td>\n",
       "    </tr>\n",
       "    <tr>\n",
       "      <th>2</th>\n",
       "      <td>13</td>\n",
       "      <td>dazy</td>\n",
       "      <td>2022-08-18</td>\n",
       "      <td>5000</td>\n",
       "    </tr>\n",
       "    <tr>\n",
       "      <th>3</th>\n",
       "      <td>14</td>\n",
       "      <td>kelly</td>\n",
       "      <td>2022-08-18</td>\n",
       "      <td>5000</td>\n",
       "    </tr>\n",
       "  </tbody>\n",
       "</table>\n",
       "</div>"
      ],
      "text/plain": [
       "   empno  ename    hiredate   sal\n",
       "0     11  scott  2022-03-12  4000\n",
       "1     12  alice  2022-09-11  6000\n",
       "2     13   dazy  2022-08-18  5000\n",
       "3     14  kelly  2022-08-18  5000"
      ]
     },
     "metadata": {},
     "output_type": "display_data"
    },
    {
     "name": "stdout",
     "output_type": "stream",
     "text": [
      "--------------------------------------------------------------------\n"
     ]
    },
    {
     "name": "stdin",
     "output_type": "stream",
     "text": [
      "추가(a),목록(s),검색(f),수정(u),삭제(d),종료(x): x\n"
     ]
    },
    {
     "name": "stdout",
     "output_type": "stream",
     "text": [
      "프로그램 종료\n"
     ]
    }
   ],
   "source": [
    "go = True\n",
    "while go:\n",
    "    m = menu()\n",
    "    if m == 'ADD':\n",
    "        EmpDAO.add_emp()\n",
    "    elif m =='LIST':\n",
    "        EmpDAO.list_emp()\n",
    "    elif m =='FIND':\n",
    "        EmpDAO.find_emp()\n",
    "    elif m =='UPDATE':\n",
    "        EmpDAO.update_emp()\n",
    "    elif m == 'DELETE':\n",
    "        EmpDAO.delete_emp()\n",
    "    elif m=='EXIT':\n",
    "        break\n",
    "    else:\n",
    "        print('메뉴입력 오류')\n",
    "print('프로그램 종료')"
   ]
  },
  {
   "cell_type": "markdown",
   "id": "c84f52e3-cbaa-41e0-bbd4-2ffd04a2d76b",
   "metadata": {},
   "source": [
    "# Thread\n",
    "한 프로세스 안에서 동시에 실행되는 코드(로직,함수)"
   ]
  },
  {
   "cell_type": "code",
   "execution_count": 41,
   "id": "ad686127-fa93-458f-a6bd-f5a42e7e68fd",
   "metadata": {},
   "outputs": [
    {
     "name": "stdout",
     "output_type": "stream",
     "text": [
      "num=1\n",
      "num=2\n",
      "num=3\n",
      "num=4\n",
      "num=5\n",
      "num=6\n",
      "num=7\n",
      "num=8\n",
      "num=9\n",
      "num=10\n",
      "2022-08-18 16:52:41.955976\n",
      "2022-08-18 16:52:42.256878\n",
      "2022-08-18 16:52:42.557782\n",
      "2022-08-18 16:52:42.858682\n",
      "2022-08-18 16:52:43.159583\n",
      "2022-08-18 16:52:43.460493\n",
      "2022-08-18 16:52:43.761387\n",
      "2022-08-18 16:52:44.062290\n",
      "2022-08-18 16:52:44.362493\n",
      "2022-08-18 16:52:44.662773\n",
      "루프종료\n"
     ]
    }
   ],
   "source": [
    "import time\n",
    "from datetime import datetime\n",
    "\n",
    "num = 0\n",
    "cnt = 0\n",
    "while True:\n",
    "    num += 1\n",
    "    print(f'num={num}')\n",
    "    time.sleep(0.30)\n",
    "    if num==10:\n",
    "        break\n",
    "\n",
    "while True:\n",
    "    print(datetime.now())\n",
    "    time.sleep(0.30)\n",
    "    cnt += 1\n",
    "    if cnt==10:\n",
    "        break\n",
    "print('루프종료')"
   ]
  },
  {
   "cell_type": "markdown",
   "id": "4ab2fa1a-b9d7-429d-a65b-7b305da27501",
   "metadata": {},
   "source": []
  }
 ],
 "metadata": {
  "kernelspec": {
   "display_name": "Python 3 (ipykernel)",
   "language": "python",
   "name": "python3"
  },
  "language_info": {
   "codemirror_mode": {
    "name": "ipython",
    "version": 3
   },
   "file_extension": ".py",
   "mimetype": "text/x-python",
   "name": "python",
   "nbconvert_exporter": "python",
   "pygments_lexer": "ipython3",
   "version": "3.9.12"
  }
 },
 "nbformat": 4,
 "nbformat_minor": 5
}
