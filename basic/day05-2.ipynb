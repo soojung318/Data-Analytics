{
 "cells": [
  {
   "cell_type": "code",
   "execution_count": 1,
   "id": "a726633b",
   "metadata": {},
   "outputs": [],
   "source": [
    "import pymysql"
   ]
  },
  {
   "cell_type": "code",
   "execution_count": 2,
   "id": "6cd969ff",
   "metadata": {},
   "outputs": [],
   "source": [
    "conn = pymysql.connect(host='127.0.0.1', user='root', password='ezen', db='mydb', charset='utf8')"
   ]
  },
  {
   "cell_type": "code",
   "execution_count": 3,
   "id": "7d43628c",
   "metadata": {},
   "outputs": [],
   "source": [
    "curs = conn.cursor()"
   ]
  },
  {
   "cell_type": "code",
   "execution_count": 4,
   "id": "99e64982",
   "metadata": {},
   "outputs": [
    {
     "data": {
      "text/plain": [
       "2"
      ]
     },
     "execution_count": 4,
     "metadata": {},
     "output_type": "execute_result"
    }
   ],
   "source": [
    "curs.execute('SELECT * FROM emp')"
   ]
  },
  {
   "cell_type": "code",
   "execution_count": 5,
   "id": "d8537b56",
   "metadata": {},
   "outputs": [
    {
     "data": {
      "text/plain": [
       "tuple"
      ]
     },
     "execution_count": 5,
     "metadata": {},
     "output_type": "execute_result"
    }
   ],
   "source": [
    "rows = curs.fetchall()\n",
    "type(rows)"
   ]
  },
  {
   "cell_type": "code",
   "execution_count": 6,
   "id": "6314adb2",
   "metadata": {},
   "outputs": [
    {
     "data": {
      "text/plain": [
       "((11, 'smith', datetime.date(2020, 1, 8), 3210),\n",
       " (12, 'scott', datetime.date(2021, 2, 16), 3200))"
      ]
     },
     "execution_count": 6,
     "metadata": {},
     "output_type": "execute_result"
    }
   ],
   "source": [
    "rows"
   ]
  },
  {
   "cell_type": "code",
   "execution_count": 7,
   "id": "84e63878",
   "metadata": {},
   "outputs": [
    {
     "name": "stdout",
     "output_type": "stream",
     "text": [
      "11\tsmith\t2020-01-08\t3210\n",
      "12\tscott\t2021-02-16\t3200\n"
     ]
    }
   ],
   "source": [
    "for(empno,ename,hiredate,sal) in rows:\n",
    "    print('{}\\t{}\\t{}\\t{}'.format(empno,ename,hiredate,sal))"
   ]
  },
  {
   "cell_type": "code",
   "execution_count": 8,
   "id": "60b9445d",
   "metadata": {},
   "outputs": [],
   "source": [
    "curs.close()"
   ]
  },
  {
   "cell_type": "code",
   "execution_count": 9,
   "id": "9c487544",
   "metadata": {},
   "outputs": [],
   "source": [
    "conn.close()"
   ]
  },
  {
   "cell_type": "markdown",
   "id": "92315c6b",
   "metadata": {},
   "source": [
    "## SQL 문장에 파라미터 설정\n",
    "* sql = \"SELECT * FROM emp WHERE ename='%s'\"\n",
    "* curs.execute(sql,('smith',))"
   ]
  },
  {
   "cell_type": "code",
   "execution_count": 32,
   "id": "8c5cfa54",
   "metadata": {},
   "outputs": [],
   "source": [
    "def get_conn():\n",
    "    conn = pymysql.connect(host='127.0.0.1', user='root', password='ezen', db='mydb', charset='utf8')\n",
    "    return conn"
   ]
  },
  {
   "cell_type": "code",
   "execution_count": 33,
   "id": "5356045e",
   "metadata": {},
   "outputs": [
    {
     "name": "stdout",
     "output_type": "stream",
     "text": [
      "사원이름:scott\n"
     ]
    }
   ],
   "source": [
    "ename = input('사원이름:')"
   ]
  },
  {
   "cell_type": "code",
   "execution_count": 34,
   "id": "ea1351a7",
   "metadata": {},
   "outputs": [
    {
     "data": {
      "text/plain": [
       "'scott'"
      ]
     },
     "execution_count": 34,
     "metadata": {},
     "output_type": "execute_result"
    }
   ],
   "source": [
    "ename"
   ]
  },
  {
   "cell_type": "code",
   "execution_count": 41,
   "id": "62330d0a",
   "metadata": {},
   "outputs": [
    {
     "name": "stdout",
     "output_type": "stream",
     "text": [
      "(12, 'scott', datetime.date(2021, 2, 16), 3200)\n",
      "12\tscott\t2021-02-16\t3200\n"
     ]
    }
   ],
   "source": [
    "conn = get_conn()\n",
    "curs = conn.cursor()\n",
    "curs.execute(\"SELECT * FROM emp WHERE ename=%s\",(ename,))\n",
    "row = curs.fetchone()\n",
    "print(row)\n",
    "empno, ename, hiredate, sal = row\n",
    "print('{}\\t{}\\t{}\\t{}'.format(empno,ename,hiredate,sal))\n",
    "curs.close()\n",
    "conn.close()"
   ]
  },
  {
   "cell_type": "code",
   "execution_count": 36,
   "id": "7d942d94",
   "metadata": {},
   "outputs": [
    {
     "data": {
      "text/plain": [
       "21"
      ]
     },
     "execution_count": 36,
     "metadata": {},
     "output_type": "execute_result"
    }
   ],
   "source": [
    "(1+2)*(3+4)"
   ]
  },
  {
   "cell_type": "code",
   "execution_count": 37,
   "id": "7402c4e1",
   "metadata": {},
   "outputs": [
    {
     "data": {
      "text/plain": [
       "[5]"
      ]
     },
     "execution_count": 37,
     "metadata": {},
     "output_type": "execute_result"
    }
   ],
   "source": [
    "[5]"
   ]
  },
  {
   "cell_type": "code",
   "execution_count": 40,
   "id": "bdfcb53e",
   "metadata": {},
   "outputs": [
    {
     "data": {
      "text/plain": [
       "(5, 3)"
      ]
     },
     "execution_count": 40,
     "metadata": {},
     "output_type": "execute_result"
    }
   ],
   "source": [
    "(5,3)"
   ]
  },
  {
   "cell_type": "code",
   "execution_count": 48,
   "id": "0c1b9dea",
   "metadata": {
    "scrolled": true
   },
   "outputs": [],
   "source": [
    "def show_all():\n",
    "    conn = get_conn()\n",
    "    curs = conn.cursor(pymysql.cursors.DictCursor)\n",
    "    curs.execute(\"SELECT * FROM emp\")\n",
    "    rows = curs.fetchall()\n",
    "\n",
    "    for row in rows:\n",
    "        print('{}\\t{}\\t{}\\t{}'.format(row['empno'],row['ename'],row['hiredate'],row['sal']))\n",
    "\n",
    "    curs.close()\n",
    "    conn.close()"
   ]
  },
  {
   "cell_type": "code",
   "execution_count": null,
   "id": "a0aaa2ba",
   "metadata": {},
   "outputs": [],
   "source": [
    "with conn.cursor() as curs:\n",
    "    curs.execute(sql, ('a','b'))\n",
    "    # 커서를 close() 하지 않음"
   ]
  },
  {
   "cell_type": "code",
   "execution_count": null,
   "id": "b7f227a1",
   "metadata": {},
   "outputs": [],
   "source": [
    "# INSERT\n",
    "# 한행 입력\n",
    "sql = \"INSERT INTO emp VAUES(%s, %s, %s, %s)\"\n",
    "with conn.cursor() as curs:\n",
    "    n = curs.execute(sql, (13,'james', '2022-01-14', 3500) )\n",
    "    print('추가성공') if n>0 else print('추가실패')\n",
    "conn.commit()\n",
    "# 다수개의 행 입력"
   ]
  },
  {
   "cell_type": "code",
   "execution_count": 51,
   "id": "df32fc9e",
   "metadata": {},
   "outputs": [
    {
     "name": "stdout",
     "output_type": "stream",
     "text": [
      "사번 이름 입사일 급여액:13 henry 2001-06-19 2500\n",
      "추가 성공\n"
     ]
    }
   ],
   "source": [
    "emp_str = input('사번 이름 입사일 급여액:')\n",
    "empno, ename, hiredate, sal = emp_str.split()\n",
    "\n",
    "sql = \"INSERT INTO emp VALUES(%s,%s,%s,%s)\"\n",
    "\n",
    "with get_conn() as conn:\n",
    "    with conn.cursor() as curs:\n",
    "        n = curs.execute(sql,(int(empno),ename,hiredate,int(sal)))\n",
    "        print('추가 성공') if n>0 else print('추가 실패')\n",
    "    conn.commit()"
   ]
  },
  {
   "cell_type": "code",
   "execution_count": 52,
   "id": "0f4918d6",
   "metadata": {
    "scrolled": true
   },
   "outputs": [
    {
     "name": "stdout",
     "output_type": "stream",
     "text": [
      "11\tsmith\t2020-01-08\t3210\n",
      "12\tscott\t2021-02-16\t3200\n",
      "13\thenry\t2001-06-19\t2500\n"
     ]
    }
   ],
   "source": [
    "show_all()"
   ]
  },
  {
   "cell_type": "code",
   "execution_count": 54,
   "id": "32d21395",
   "metadata": {
    "scrolled": true
   },
   "outputs": [
    {
     "name": "stdout",
     "output_type": "stream",
     "text": [
      "변경할 사원의 사번 급여액:13 3333\n",
      "변경 성공\n",
      "11\tsmith\t2020-01-08\t3210\n",
      "12\tscott\t2021-02-16\t3200\n",
      "13\thenry\t2001-06-19\t3333\n"
     ]
    }
   ],
   "source": [
    "emp_str = input('변경할 사원의 사번 급여액:')\n",
    "empno, sal = emp_str.split()\n",
    "\n",
    "sql = \"UPDATE emp SET sal=%s WHERE empno=%s\"\n",
    "\n",
    "with get_conn() as conn:\n",
    "    with conn.cursor() as curs:\n",
    "        n = curs.execute(sql,(int(sal),int(empno)))\n",
    "        print('변경 성공') if n>0 else print('변경 실패')\n",
    "    conn.commit()\n",
    "\n",
    "show_all()"
   ]
  },
  {
   "cell_type": "code",
   "execution_count": 55,
   "id": "e813df66",
   "metadata": {
    "scrolled": true
   },
   "outputs": [
    {
     "name": "stdout",
     "output_type": "stream",
     "text": [
      "삭제할 사원의 이름:henry\n",
      "삭제 성공\n",
      "11\tsmith\t2020-01-08\t3210\n",
      "12\tscott\t2021-02-16\t3200\n"
     ]
    }
   ],
   "source": [
    "ename = input('삭제할 사원의 이름:')\n",
    "\n",
    "sql = \"DELETE FROM emp WHERE ename=%s\"\n",
    "\n",
    "with get_conn() as conn:\n",
    "    with conn.cursor() as curs:\n",
    "        n = curs.execute(sql,(ename.strip(),))\n",
    "        print('삭제 성공') if n>0 else print('삭제 실패')\n",
    "    conn.commit()\n",
    "\n",
    "show_all()"
   ]
  },
  {
   "cell_type": "code",
   "execution_count": 60,
   "id": "7d536fea",
   "metadata": {
    "scrolled": false
   },
   "outputs": [
    {
     "data": {
      "text/html": [
       "<div>\n",
       "<style scoped>\n",
       "    .dataframe tbody tr th:only-of-type {\n",
       "        vertical-align: middle;\n",
       "    }\n",
       "\n",
       "    .dataframe tbody tr th {\n",
       "        vertical-align: top;\n",
       "    }\n",
       "\n",
       "    .dataframe thead th {\n",
       "        text-align: right;\n",
       "    }\n",
       "</style>\n",
       "<table border=\"1\" class=\"dataframe\">\n",
       "  <thead>\n",
       "    <tr style=\"text-align: right;\">\n",
       "      <th></th>\n",
       "      <th>empno</th>\n",
       "      <th>ename</th>\n",
       "      <th>hiredate</th>\n",
       "      <th>sal</th>\n",
       "    </tr>\n",
       "  </thead>\n",
       "  <tbody>\n",
       "    <tr>\n",
       "      <th>0</th>\n",
       "      <td>11</td>\n",
       "      <td>smith</td>\n",
       "      <td>2020-01-08</td>\n",
       "      <td>3210</td>\n",
       "    </tr>\n",
       "    <tr>\n",
       "      <th>1</th>\n",
       "      <td>12</td>\n",
       "      <td>scott</td>\n",
       "      <td>2021-02-16</td>\n",
       "      <td>3200</td>\n",
       "    </tr>\n",
       "  </tbody>\n",
       "</table>\n",
       "</div>"
      ],
      "text/plain": [
       "   empno  ename    hiredate   sal\n",
       "0     11  smith  2020-01-08  3210\n",
       "1     12  scott  2021-02-16  3200"
      ]
     },
     "metadata": {},
     "output_type": "display_data"
    }
   ],
   "source": [
    "import pandas as pd\n",
    "def emp_list():\n",
    "    conn = get_conn()\n",
    "    curs = conn.cursor(pymysql.cursors.DictCursor)\n",
    "    curs.execute(\"SELECT empno,ename,hiredate,sal FROM emp\")\n",
    "    rows = curs.fetchall()\n",
    "\n",
    "    df = pd.DataFrame(rows)\n",
    "    display(df)\n",
    "    #print(df)\n",
    "    \n",
    "    curs.close()\n",
    "    conn.close()\n",
    "    \n",
    "emp_list()"
   ]
  },
  {
   "cell_type": "code",
   "execution_count": 81,
   "id": "12b7786c",
   "metadata": {},
   "outputs": [],
   "source": [
    "class EmpVO:\n",
    "    def __init__(self, empno=0, ename='', hiredate='', sal=0):\n",
    "        self.empno = empno\n",
    "        self.ename = ename\n",
    "        self.hiredate = hiredate\n",
    "        self.sal = sal\n",
    "    \n",
    "    def __str__(self):\n",
    "        return '{}\\t{}\\t{}\\t{}'.format(self.empno,self.ename.self.hiredate,self.sal)\n",
    "    "
   ]
  },
  {
   "cell_type": "code",
   "execution_count": 82,
   "id": "832591ac",
   "metadata": {},
   "outputs": [],
   "source": [
    "class EmpDAO:\n",
    "    \n",
    "    def get_conn(self):\n",
    "        conn = pymysql.connect(host='127.0.0.1', user='root', password='ezen', db='mydb', charset='utf8')\n",
    "        return conn\n",
    "    \n",
    "    def add_emp(self, emp):\n",
    "        with self.get_conn() as conn:\n",
    "            n = 0\n",
    "            with conn.cursor() as curs:\n",
    "                sql = \"INSERT INTO emp VALUES(%s,%s,%s,%s)\"\n",
    "                n = curs.execute(sql, (emp.empno, emp.ename, emp.hiredate, emp.sal))\n",
    "            conn.commit()\n",
    "            return True if n>0 else False\n",
    "        \n",
    "    def get_list(self):\n",
    "        with self.get_conn() as conn:\n",
    "            with conn.cursor(pymysql.cursors.DictCursor) as curs:\n",
    "                sql = \"SELECT * FROM emp\"\n",
    "                curs.execute(sql)\n",
    "                return curs.fetchall()\n",
    "            \n",
    "    def find_by_empno(self, empno):\n",
    "        with self.get_conn() as conn:\n",
    "            with conn.cursor(pymysql.cursors.DictCursor) as curs:\n",
    "                sql = \"SELECT * FROM emp WHERE empno=%s\"\n",
    "                curs.execute(sql, (empno,))\n",
    "                return curs.fetchall()\n",
    "            \n",
    "    def find_by_ename(self, ename):\n",
    "        with self.get_conn() as conn:\n",
    "            with conn.cursor(pymysql.cursors.DictCursor) as curs:\n",
    "                sql = \"SELECT * FROM emp WHERE ename=%s\"\n",
    "                curs.execute(sql, (ename,))\n",
    "                return curs.fetchall()\n",
    "            \n",
    "    def update_sal(self, emp):\n",
    "        with self.get_conn() as conn:\n",
    "            n = 0\n",
    "            with conn.cursor(pymysql.cursors.DictCursor) as curs:\n",
    "                sql = \"UPDATE emp SET sal=%s WHERE ename=%s\"\n",
    "                n = curs.execute(sql, (emp.sal, emp.ename))\n",
    "            conn.commit()\n",
    "            return True if n>0 else False\n",
    "            \n",
    "    def delete_by_empno(self, empno):\n",
    "        with self.get_conn() as conn:\n",
    "            with conn.cursor(pymysql.cursors.DictCursor) as curs:\n",
    "                sql = \"DELETE FROM emp WHERE empno=%s\"\n",
    "                n = curs.execute(sql, (empno,))\n",
    "            conn.commit()\n",
    "            return True if n>0 else False"
   ]
  },
  {
   "cell_type": "code",
   "execution_count": 83,
   "id": "bced3dc4",
   "metadata": {},
   "outputs": [],
   "source": [
    "m_dict = {'s':'LIST', 'a':'ADD','f':'FIND','u':'UPDATE','d':'DELETE','x':'EXIT'}\n",
    "def menu():\n",
    "    m = input('목록(s), 추가(a), 검색(f), 수정(u), 삭제(d), 종료(x):')\n",
    "    return m_dict[m]"
   ]
  },
  {
   "cell_type": "code",
   "execution_count": 84,
   "id": "c4643502",
   "metadata": {},
   "outputs": [],
   "source": [
    "import pandas as pd\n",
    "def show_list(emp_list):\n",
    "    df = pd.DataFrame(emp_list)\n",
    "    display(df)"
   ]
  },
  {
   "cell_type": "code",
   "execution_count": 85,
   "id": "6cc527f5",
   "metadata": {},
   "outputs": [],
   "source": [
    "import pandas as pd\n",
    "def show_emp(emp):\n",
    "    df = pd.DataFrame(emp)\n",
    "    display(df)"
   ]
  },
  {
   "cell_type": "code",
   "execution_count": 86,
   "id": "88ce6b2d",
   "metadata": {},
   "outputs": [],
   "source": [
    "def add():\n",
    "    in_str = input('사번 이름 입사일 급여액:')\n",
    "    tp = in_str.split()\n",
    "    if len(tp)<4:\n",
    "        print('4개 항목을 모두 입력해주세요')\n",
    "        return None\n",
    "    empno,ename,hiredate,sal = tp\n",
    "    return EmpVO(int(empno),ename,hiredate,int(sal))"
   ]
  },
  {
   "cell_type": "code",
   "execution_count": 95,
   "id": "7d60c440",
   "metadata": {},
   "outputs": [],
   "source": [
    "def update():\n",
    "    in_str = input('수정할 사원 이름 급여액:')\n",
    "    ename, sal = in_str.split()\n",
    "    emp = EmpVO(ename=ename, sal=int(sal))\n",
    "    dao = EmpDAO()\n",
    "    return dao.update_sal(emp)"
   ]
  },
  {
   "cell_type": "code",
   "execution_count": 96,
   "id": "0c967bf4",
   "metadata": {},
   "outputs": [],
   "source": [
    "def delete():\n",
    "    in_str = input('삭제할 사원 번호:')\n",
    "    dao = EmpDAO()\n",
    "    return dao.delete_by_empno(int(in_str))"
   ]
  },
  {
   "cell_type": "code",
   "execution_count": 99,
   "id": "39f8e01c",
   "metadata": {},
   "outputs": [
    {
     "name": "stdout",
     "output_type": "stream",
     "text": [
      "목록(s), 추가(a), 검색(f), 수정(u), 삭제(d), 종료(x):s\n"
     ]
    },
    {
     "data": {
      "text/html": [
       "<div>\n",
       "<style scoped>\n",
       "    .dataframe tbody tr th:only-of-type {\n",
       "        vertical-align: middle;\n",
       "    }\n",
       "\n",
       "    .dataframe tbody tr th {\n",
       "        vertical-align: top;\n",
       "    }\n",
       "\n",
       "    .dataframe thead th {\n",
       "        text-align: right;\n",
       "    }\n",
       "</style>\n",
       "<table border=\"1\" class=\"dataframe\">\n",
       "  <thead>\n",
       "    <tr style=\"text-align: right;\">\n",
       "      <th></th>\n",
       "      <th>empno</th>\n",
       "      <th>ename</th>\n",
       "      <th>hiredate</th>\n",
       "      <th>sal</th>\n",
       "    </tr>\n",
       "  </thead>\n",
       "  <tbody>\n",
       "    <tr>\n",
       "      <th>0</th>\n",
       "      <td>11</td>\n",
       "      <td>smith</td>\n",
       "      <td>2020-01-08</td>\n",
       "      <td>3210</td>\n",
       "    </tr>\n",
       "    <tr>\n",
       "      <th>1</th>\n",
       "      <td>12</td>\n",
       "      <td>scott</td>\n",
       "      <td>2021-02-16</td>\n",
       "      <td>3200</td>\n",
       "    </tr>\n",
       "    <tr>\n",
       "      <th>2</th>\n",
       "      <td>13</td>\n",
       "      <td>김흥국</td>\n",
       "      <td>2000-01-21</td>\n",
       "      <td>2700</td>\n",
       "    </tr>\n",
       "  </tbody>\n",
       "</table>\n",
       "</div>"
      ],
      "text/plain": [
       "   empno  ename    hiredate   sal\n",
       "0     11  smith  2020-01-08  3210\n",
       "1     12  scott  2021-02-16  3200\n",
       "2     13    김흥국  2000-01-21  2700"
      ]
     },
     "metadata": {},
     "output_type": "display_data"
    },
    {
     "name": "stdout",
     "output_type": "stream",
     "text": [
      "목록(s), 추가(a), 검색(f), 수정(u), 삭제(d), 종료(x):f\n",
      "검색할 사원 번호:12\n"
     ]
    },
    {
     "data": {
      "text/html": [
       "<div>\n",
       "<style scoped>\n",
       "    .dataframe tbody tr th:only-of-type {\n",
       "        vertical-align: middle;\n",
       "    }\n",
       "\n",
       "    .dataframe tbody tr th {\n",
       "        vertical-align: top;\n",
       "    }\n",
       "\n",
       "    .dataframe thead th {\n",
       "        text-align: right;\n",
       "    }\n",
       "</style>\n",
       "<table border=\"1\" class=\"dataframe\">\n",
       "  <thead>\n",
       "    <tr style=\"text-align: right;\">\n",
       "      <th></th>\n",
       "      <th>empno</th>\n",
       "      <th>ename</th>\n",
       "      <th>hiredate</th>\n",
       "      <th>sal</th>\n",
       "    </tr>\n",
       "  </thead>\n",
       "  <tbody>\n",
       "    <tr>\n",
       "      <th>0</th>\n",
       "      <td>12</td>\n",
       "      <td>scott</td>\n",
       "      <td>2021-02-16</td>\n",
       "      <td>3200</td>\n",
       "    </tr>\n",
       "  </tbody>\n",
       "</table>\n",
       "</div>"
      ],
      "text/plain": [
       "   empno  ename    hiredate   sal\n",
       "0     12  scott  2021-02-16  3200"
      ]
     },
     "metadata": {},
     "output_type": "display_data"
    },
    {
     "name": "stdout",
     "output_type": "stream",
     "text": [
      "목록(s), 추가(a), 검색(f), 수정(u), 삭제(d), 종료(x):u\n",
      "수정할 사원 이름 급여액:smith 3300\n",
      "수정 성공\n",
      "목록(s), 추가(a), 검색(f), 수정(u), 삭제(d), 종료(x):s\n"
     ]
    },
    {
     "data": {
      "text/html": [
       "<div>\n",
       "<style scoped>\n",
       "    .dataframe tbody tr th:only-of-type {\n",
       "        vertical-align: middle;\n",
       "    }\n",
       "\n",
       "    .dataframe tbody tr th {\n",
       "        vertical-align: top;\n",
       "    }\n",
       "\n",
       "    .dataframe thead th {\n",
       "        text-align: right;\n",
       "    }\n",
       "</style>\n",
       "<table border=\"1\" class=\"dataframe\">\n",
       "  <thead>\n",
       "    <tr style=\"text-align: right;\">\n",
       "      <th></th>\n",
       "      <th>empno</th>\n",
       "      <th>ename</th>\n",
       "      <th>hiredate</th>\n",
       "      <th>sal</th>\n",
       "    </tr>\n",
       "  </thead>\n",
       "  <tbody>\n",
       "    <tr>\n",
       "      <th>0</th>\n",
       "      <td>11</td>\n",
       "      <td>smith</td>\n",
       "      <td>2020-01-08</td>\n",
       "      <td>3300</td>\n",
       "    </tr>\n",
       "    <tr>\n",
       "      <th>1</th>\n",
       "      <td>12</td>\n",
       "      <td>scott</td>\n",
       "      <td>2021-02-16</td>\n",
       "      <td>3200</td>\n",
       "    </tr>\n",
       "    <tr>\n",
       "      <th>2</th>\n",
       "      <td>13</td>\n",
       "      <td>김흥국</td>\n",
       "      <td>2000-01-21</td>\n",
       "      <td>2700</td>\n",
       "    </tr>\n",
       "  </tbody>\n",
       "</table>\n",
       "</div>"
      ],
      "text/plain": [
       "   empno  ename    hiredate   sal\n",
       "0     11  smith  2020-01-08  3300\n",
       "1     12  scott  2021-02-16  3200\n",
       "2     13    김흥국  2000-01-21  2700"
      ]
     },
     "metadata": {},
     "output_type": "display_data"
    },
    {
     "name": "stdout",
     "output_type": "stream",
     "text": [
      "목록(s), 추가(a), 검색(f), 수정(u), 삭제(d), 종료(x):x\n",
      "프로그램 종료\n"
     ]
    }
   ],
   "source": [
    "dao = EmpDAO()\n",
    "go = True\n",
    "\n",
    "while go:\n",
    "    m = menu()\n",
    "    if m == 'LIST':\n",
    "        show_list(dao.get_list())\n",
    "    elif m=='ADD':\n",
    "        emp = add()\n",
    "        if dao.add_emp(emp):\n",
    "            print('추가 성공')\n",
    "        else:\n",
    "            print('추가 실패')\n",
    "    elif m=='FIND':\n",
    "        empno = input('검색할 사원 번호:')\n",
    "        show_emp(dao.find_by_empno(int(empno)))\n",
    "\n",
    "    elif m=='UPDATE':\n",
    "        if update():\n",
    "            print('수정 성공')\n",
    "        else:\n",
    "            print('수정 실패')\n",
    "    elif m=='DELETE':\n",
    "        if delete():\n",
    "            print('삭제 성공')\n",
    "        else:\n",
    "            print('삭제 실패')\n",
    "    elif m=='EXIT':\n",
    "        break\n",
    "    else:\n",
    "        print('메뉴 입력 오류')\n",
    "print('프로그램 종료')"
   ]
  },
  {
   "cell_type": "code",
   "execution_count": null,
   "id": "28609d1b",
   "metadata": {},
   "outputs": [],
   "source": []
  }
 ],
 "metadata": {
  "kernelspec": {
   "display_name": "Python 3 (ipykernel)",
   "language": "python",
   "name": "python3"
  },
  "language_info": {
   "codemirror_mode": {
    "name": "ipython",
    "version": 3
   },
   "file_extension": ".py",
   "mimetype": "text/x-python",
   "name": "python",
   "nbconvert_exporter": "python",
   "pygments_lexer": "ipython3",
   "version": "3.9.12"
  }
 },
 "nbformat": 4,
 "nbformat_minor": 5
}
