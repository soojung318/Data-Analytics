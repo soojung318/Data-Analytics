{
 "cells": [
  {
   "cell_type": "markdown",
   "id": "f134ea9e-b293-4f68-b3ac-61d67a40b060",
   "metadata": {},
   "source": [
    "# scikitlearn 패키지를 활용한 선형회귀(Linear Regression)\n",
    "- 무작위 데이터\n",
    "- make_regression()\n",
    "- 당뇨병 관련 10가지 진단 데이터 : 당뇨병 지수 추정"
   ]
  },
  {
   "cell_type": "markdown",
   "id": "9c821e75-de1e-4d5f-b112-2c2fbcf12212",
   "metadata": {},
   "source": [
    "<h3>Data(학습용/검증용)</h3>\n",
    "- model.fit(학습용 데이터(x,y()) &nbsp&nbsp # 학습<br>\n",
    "- model.predict() &nbsp&nbsp&nbsp&nbsp # 학습된 모델로 추정<br>\n",
    "- model.score()  &nbsp&nbsp&nbsp&nbsp # 정확도<br>\n",
    "- y = a*x + b  &nbsp&nbsp&nbsp&nbsp   # a:계수(coef_), b:절편(intercept_)"
   ]
  },
  {
   "cell_type": "code",
   "execution_count": 57,
   "id": "fae02486-8da7-48d8-ad4e-7075bf0055e5",
   "metadata": {},
   "outputs": [
    {
     "data": {
      "text/plain": [
       "array([ 0,  1,  2,  3,  4,  5,  6,  7,  8,  9, 10, 11, 12, 13, 14, 15, 16,\n",
       "       17, 18, 19, 20, 21, 22, 23, 24, 25, 26, 27, 28, 29, 30, 31, 32, 33,\n",
       "       34, 35, 36, 37, 38, 39, 40, 41, 42, 43, 44, 45, 46, 47, 48, 49, 50,\n",
       "       51, 52, 53, 54, 55, 56, 57, 58, 59, 60, 61, 62, 63, 64, 65, 66, 67,\n",
       "       68, 69, 70, 71, 72, 73, 74, 75, 76, 77, 78, 79, 80, 81, 82, 83, 84,\n",
       "       85, 86, 87, 88, 89, 90, 91, 92, 93, 94, 95, 96, 97, 98, 99])"
      ]
     },
     "execution_count": 57,
     "metadata": {},
     "output_type": "execute_result"
    }
   ],
   "source": [
    "#직선의 방정식: y = a*x+b\n",
    "import numpy as np\n",
    "np.random.seed(0)\n",
    "y = np.arange(100)\n",
    "y"
   ]
  },
  {
   "cell_type": "code",
   "execution_count": 58,
   "id": "9364cd4b-3f08-4528-8f44-cc9aa8a94c0f",
   "metadata": {},
   "outputs": [
    {
     "data": {
      "text/plain": [
       "[<matplotlib.lines.Line2D at 0x20bafda8700>]"
      ]
     },
     "execution_count": 58,
     "metadata": {},
     "output_type": "execute_result"
    },
    {
     "data": {
      "image/png": "[encoded data removed]",
      "text/plain": [
       "<Figure size 432x288 with 1 Axes>"
      ]
     },
     "metadata": {
      "needs_background": "light"
     },
     "output_type": "display_data"
    }
   ],
   "source": [
    "#산점도\n",
    "import matplotlib.pyplot as plt\n",
    "plt.plot(y)"
   ]
  },
  {
   "cell_type": "code",
   "execution_count": 68,
   "id": "8e41afa0-36e6-4ebe-8f15-653d83056c4d",
   "metadata": {},
   "outputs": [
    {
     "data": {
      "text/plain": [
       "array([184, 192, 140, 141, 147, 179, 167, 179, 168, 182, 184, 181, 174,\n",
       "       174, 171, 164, 205, 198, 197, 209, 179, 183, 212, 194, 198, 191,\n",
       "       197, 184, 204, 171, 183, 240, 170, 204, 218, 197, 240, 218, 210,\n",
       "       220, 203, 224, 235, 180, 192, 222, 234, 203, 214, 230, 198, 233,\n",
       "       237, 188, 211, 226, 202, 249, 247, 221, 229, 224, 266, 248, 243,\n",
       "       225, 231, 243, 247, 241, 254, 230, 269, 234, 244, 229, 233, 273,\n",
       "       227, 280, 255, 230, 233, 253, 237, 267, 228, 237, 272, 275, 267,\n",
       "       263, 260, 288, 265, 256, 268, 269, 305, 312])"
      ]
     },
     "execution_count": 68,
     "metadata": {},
     "output_type": "execute_result"
    }
   ],
   "source": [
    "rd = np.random.randint(-15,15,100)  #무작위 데이터 0~15까지 100개의 수 출력\n",
    "y = y + rd\n",
    "y"
   ]
  },
  {
   "cell_type": "code",
   "execution_count": 69,
   "id": "ee16d9da-c4d5-4b7c-9fa2-e241d8936d3c",
   "metadata": {},
   "outputs": [
    {
     "data": {
      "text/plain": [
       "<matplotlib.collections.PathCollection at 0x20bb0ebb490>"
      ]
     },
     "execution_count": 69,
     "metadata": {},
     "output_type": "execute_result"
    },
    {
     "data": {
      "image/png": "[encoded data removed]",
      "text/plain": [
       "<Figure size 432x288 with 1 Axes>"
      ]
     },
     "metadata": {
      "needs_background": "light"
     },
     "output_type": "display_data"
    }
   ],
   "source": [
    "#위의 y를 산점도로 표현\n",
    "x = np.arange(100)\n",
    "plt.scatter(x,y,s=5) #s는 scatter 사이즈"
   ]
  },
  {
   "cell_type": "code",
   "execution_count": 70,
   "id": "bf884a7d-e983-4c40-b4da-c131bf4a0892",
   "metadata": {},
   "outputs": [],
   "source": [
    "x_train = x[:80]\n",
    "y_train = y[:80]\n",
    "\n",
    "x_test = x[-20:]\n",
    "y_test = y[-20:]"
   ]
  },
  {
   "cell_type": "code",
   "execution_count": 71,
   "id": "ee17abe7-8f08-47e1-b467-a6592ae47851",
   "metadata": {},
   "outputs": [],
   "source": [
    "from sklearn import linear_model #선형회귀 모델 알고리즘\n",
    "linreg = linear_model.LinearRegression()"
   ]
  },
  {
   "cell_type": "code",
   "execution_count": 72,
   "id": "1e28fab7-c66e-4fd2-ac45-acc66fc7ea97",
   "metadata": {},
   "outputs": [
    {
     "data": {
      "text/plain": [
       "LinearRegression()"
      ]
     },
     "execution_count": 72,
     "metadata": {},
     "output_type": "execute_result"
    }
   ],
   "source": [
    "x_train.shape #(80,)\n",
    "x_train = x_train.reshape(-1,1) #1차원 데이터인 x_train을 2차원 데이터로 변환하여 새로운 메모리공간에 저장, (80,1)\n",
    "linreg.fit(x_train,y_train) #학습된 회귀형 결과 출력"
   ]
  },
  {
   "cell_type": "code",
   "execution_count": 73,
   "id": "6216194c-861f-437e-88e6-4a8b4ee6a085",
   "metadata": {},
   "outputs": [
    {
     "data": {
      "text/plain": [
       "(array([1.10051571]), 166.12962962962962)"
      ]
     },
     "execution_count": 73,
     "metadata": {},
     "output_type": "execute_result"
    }
   ],
   "source": [
    "linreg.coef_, linreg.intercept_"
   ]
  },
  {
   "cell_type": "code",
   "execution_count": 74,
   "id": "cee9b643-23cb-47df-814a-78d0a9b491bb",
   "metadata": {},
   "outputs": [
    {
     "data": {
      "text/plain": [
       "array([254.17088608, 255.27140178, 256.37191749, 257.47243319,\n",
       "       258.5729489 , 259.6734646 , 260.77398031, 261.87449602,\n",
       "       262.97501172, 264.07552743, 265.17604313, 266.27655884,\n",
       "       267.37707454, 268.47759025, 269.57810595, 270.67862166,\n",
       "       271.77913737, 272.87965307, 273.98016878, 275.08068448])"
      ]
     },
     "execution_count": 74,
     "metadata": {},
     "output_type": "execute_result"
    }
   ],
   "source": [
    "linreg.predict(x_test.reshape(-1,1))"
   ]
  },
  {
   "cell_type": "code",
   "execution_count": 75,
   "id": "da9a35fe-c7f5-41b7-9227-f0d19f062e6d",
   "metadata": {},
   "outputs": [
    {
     "data": {
      "text/plain": [
       "0.32601738959186366"
      ]
     },
     "execution_count": 75,
     "metadata": {},
     "output_type": "execute_result"
    }
   ],
   "source": [
    "linreg.score(x_test.reshape(-1,1),y_test)"
   ]
  },
  {
   "cell_type": "markdown",
   "id": "ba62e2f7-bc38-4e42-8491-d9b47a72d6da",
   "metadata": {},
   "source": [
    "<h3>집값: 평수, 전철, 위치, 학군..</h3>\n",
    "- y = a1(가중치) * x1(평수) + a2 * x2 + ... + an * xn <br>\n",
    "- [&nbsp[x1,x2,x3,..,xn],...,[x1,x2,x3,..,xn]&nbsp] &nbsp&nbsp&nbsp #자료구조 <br>\n",
    "- y값은 2차원"
   ]
  },
  {
   "cell_type": "code",
   "execution_count": 76,
   "id": "2812b963-b159-483b-973e-41a381cee015",
   "metadata": {},
   "outputs": [
    {
     "data": {
      "text/plain": [
       "[<matplotlib.lines.Line2D at 0x20bb0f2c3a0>]"
      ]
     },
     "execution_count": 76,
     "metadata": {},
     "output_type": "execute_result"
    },
    {
     "data": {
      "image/png": "[encoded data removed]",
      "text/plain": [
       "<Figure size 432x288 with 1 Axes>"
      ]
     },
     "metadata": {
      "needs_background": "light"
     },
     "output_type": "display_data"
    }
   ],
   "source": [
    "plt.scatter(x,y,s=8)\n",
    "\n",
    "a = linreg.coef_\n",
    "b = linreg.intercept_\n",
    "y2 = a*x + b\n",
    "\n",
    "plt.plot(x,y2,'r') #직선 그래프는 빨강색선으로 표현"
   ]
  },
  {
   "cell_type": "code",
   "execution_count": 77,
   "id": "022082d1-f548-4af9-b89d-11478eaaf32a",
   "metadata": {},
   "outputs": [
    {
     "data": {
      "text/plain": [
       "array([331.20698547, 386.23277075])"
      ]
     },
     "execution_count": 77,
     "metadata": {},
     "output_type": "execute_result"
    }
   ],
   "source": [
    "linreg.predict([[150],[200]])"
   ]
  },
  {
   "cell_type": "markdown",
   "id": "8fc1aefa-6dd5-4cae-b061-9b08605c9158",
   "metadata": {},
   "source": [
    "<h3>기울기 0.5, y절편 20인 데이터셋 회귀분석</h3>"
   ]
  },
  {
   "cell_type": "code",
   "execution_count": 80,
   "id": "de730747-8bc1-4941-a60c-efc5fc73935f",
   "metadata": {},
   "outputs": [
    {
     "data": {
      "text/plain": [
       "<matplotlib.collections.PathCollection at 0x20bb1047370>"
      ]
     },
     "execution_count": 80,
     "metadata": {},
     "output_type": "execute_result"
    },
    {
     "data": {
      "image/png": "[encoded data removed]",
      "text/plain": [
       "<Figure size 432x288 with 1 Axes>"
      ]
     },
     "metadata": {
      "needs_background": "light"
     },
     "output_type": "display_data"
    }
   ],
   "source": [
    "x = np.arange(100)\n",
    "y = 0.5*x +20 #직선의 방정식, y절편 ( y = a*x+b)\n",
    "noise = np.random.randint(-10,10,100)\n",
    "y2 = y+noise\n",
    "\n",
    "#plt.ylim(0,100)\n",
    "plt.axis([0,100,0,100])\n",
    "plt.scatter(x,y2,s=5)"
   ]
  },
  {
   "cell_type": "markdown",
   "id": "9a8002f9-985a-4e6d-9b69-316f1bbe3bee",
   "metadata": {},
   "source": [
    "<h3>학습용/검증용 분할</h3>\n",
    "- 학습용 데이터를 사용하여 학습"
   ]
  },
  {
   "cell_type": "code",
   "execution_count": 81,
   "id": "f831e002-6ff0-48d7-8763-e4cc087c9099",
   "metadata": {},
   "outputs": [],
   "source": [
    "#학습용\n",
    "x_train = x[:80]\n",
    "y_train = y[:80]\n",
    "\n",
    "#검증용\n",
    "x_test = x[-20:]\n",
    "y_test = y[-20:]"
   ]
  },
  {
   "cell_type": "code",
   "execution_count": 82,
   "id": "5149cf1a-d7e7-4b42-a9ef-dd84cc4cfde0",
   "metadata": {},
   "outputs": [
    {
     "data": {
      "text/plain": [
       "(80, 1)"
      ]
     },
     "execution_count": 82,
     "metadata": {},
     "output_type": "execute_result"
    }
   ],
   "source": [
    "X_train = x_train.reshape(-1,1) #1차원 데이터인 x_train을 2차원 데이터로 변환하여 새로운 메모리공간에 저장, (80,1)\n",
    "X_train.shape #대문자 X는 2차원 데이터, 소문자 x는 1차원 데이터"
   ]
  },
  {
   "cell_type": "code",
   "execution_count": 84,
   "id": "069219dc-e760-4ab2-b771-ae835cea7d3c",
   "metadata": {},
   "outputs": [
    {
     "data": {
      "text/plain": [
       "(20, 1)"
      ]
     },
     "execution_count": 84,
     "metadata": {},
     "output_type": "execute_result"
    }
   ],
   "source": [
    "X_test = x_test.reshape(-1,1)\n",
    "X_test.shape"
   ]
  },
  {
   "cell_type": "code",
   "execution_count": 85,
   "id": "8f47e1c3-eca4-45aa-a52b-b2a9c5670cdc",
   "metadata": {},
   "outputs": [],
   "source": [
    "from sklearn import linear_model\n",
    "linreg = linear_model.LinearRegression()"
   ]
  },
  {
   "cell_type": "code",
   "execution_count": 87,
   "id": "b6489d09-6310-4e56-bcdd-1ec282bbe3dc",
   "metadata": {},
   "outputs": [
    {
     "data": {
      "text/plain": [
       "LinearRegression()"
      ]
     },
     "execution_count": 87,
     "metadata": {},
     "output_type": "execute_result"
    }
   ],
   "source": [
    "#기울기와 점선이 학습\n",
    "linreg.fit(X_train,y_train)"
   ]
  },
  {
   "cell_type": "code",
   "execution_count": 88,
   "id": "d6886dc0-23a5-48f9-8eb2-fc5653f7775c",
   "metadata": {},
   "outputs": [
    {
     "data": {
      "text/plain": [
       "(array([0.5]), 20.0)"
      ]
     },
     "execution_count": 88,
     "metadata": {},
     "output_type": "execute_result"
    }
   ],
   "source": [
    "linreg.coef_, linreg.intercept_"
   ]
  },
  {
   "cell_type": "code",
   "execution_count": 90,
   "id": "f43db7eb-b60e-434e-89bc-0a6004b440ab",
   "metadata": {},
   "outputs": [
    {
     "data": {
      "text/plain": [
       "1.0"
      ]
     },
     "execution_count": 90,
     "metadata": {},
     "output_type": "execute_result"
    }
   ],
   "source": [
    "linreg.score(X_test,y_test) "
   ]
  },
  {
   "cell_type": "code",
   "execution_count": 91,
   "id": "73145898-8bca-407d-8ede-151f4572f36d",
   "metadata": {},
   "outputs": [
    {
     "data": {
      "text/plain": [
       "array([5020.])"
      ]
     },
     "execution_count": 91,
     "metadata": {},
     "output_type": "execute_result"
    }
   ],
   "source": [
    "linreg.predict([[10000]])\n"
   ]
  },
  {
   "cell_type": "code",
   "execution_count": 102,
   "id": "6b756326-deab-4669-ab30-5d12d224e32b",
   "metadata": {},
   "outputs": [],
   "source": [
    "from sklearn.datasets import make_regression\n",
    "\n",
    "X, y = make_regression(\n",
    "    n_samples=100, n_features=1, random_state=0, noise=4.0, bias=100.0\n",
    ")\n"
   ]
  },
  {
   "cell_type": "code",
   "execution_count": 103,
   "id": "578e98d7-c0d2-4a8d-98c6-352820fb6675",
   "metadata": {},
   "outputs": [
    {
     "data": {
      "text/plain": [
       "<matplotlib.collections.PathCollection at 0x20bb448e730>"
      ]
     },
     "execution_count": 103,
     "metadata": {},
     "output_type": "execute_result"
    },
    {
     "data": {
      "image/png": "[encoded data removed]",
      "text/plain": [
       "<Figure size 432x288 with 1 Axes>"
      ]
     },
     "metadata": {
      "needs_background": "light"
     },
     "output_type": "display_data"
    }
   ],
   "source": [
    "plt.scatter(X.flatten(),y,s=5)"
   ]
  },
  {
   "cell_type": "code",
   "execution_count": 104,
   "id": "e1e1f1e0-6701-4fce-9079-f9b1ec6e714a",
   "metadata": {},
   "outputs": [],
   "source": [
    "#features가 3인 그래프 출력\n",
    "linreg.predict([[10000]])\n",
    "\n",
    "from sklearn.datasets import make_regression\n",
    "\n",
    "X, y = make_regression(\n",
    "    n_samples=100, n_features=3, random_state=0, noise=10.0, bias=100.0\n",
    ")\n"
   ]
  },
  {
   "cell_type": "code",
   "execution_count": 108,
   "id": "22197e92-173b-4545-a5e5-fbf1bace4018",
   "metadata": {},
   "outputs": [
    {
     "data": {
      "text/plain": [
       "(100, 3)"
      ]
     },
     "execution_count": 108,
     "metadata": {},
     "output_type": "execute_result"
    }
   ],
   "source": [
    "X.shape"
   ]
  },
  {
   "cell_type": "code",
   "execution_count": 112,
   "id": "62a72f34-5e3b-4677-96db-1c42d1469798",
   "metadata": {},
   "outputs": [
    {
     "data": {
      "text/plain": [
       "<matplotlib.collections.PathCollection at 0x20bb46dff70>"
      ]
     },
     "execution_count": 112,
     "metadata": {},
     "output_type": "execute_result"
    },
    {
     "data": {
      "image/png": "[encoded data removed]",
      "text/plain": [
       "<Figure size 432x288 with 1 Axes>"
      ]
     },
     "metadata": {
      "needs_background": "light"
     },
     "output_type": "display_data"
    }
   ],
   "source": [
    "X[:,0] # x1 값\n",
    "plt.scatter(X[:,1],y,s=7)"
   ]
  },
  {
   "cell_type": "code",
   "execution_count": 110,
   "id": "47f06000-5697-4bc0-9c41-05361b0c93e5",
   "metadata": {},
   "outputs": [
    {
     "data": {
      "text/plain": [
       "[<matplotlib.lines.Line2D at 0x20bb4623820>]"
      ]
     },
     "execution_count": 110,
     "metadata": {},
     "output_type": "execute_result"
    },
    {
     "data": {
      "image/png": "[encoded data removed]",
      "text/plain": [
       "<Figure size 432x288 with 1 Axes>"
      ]
     },
     "metadata": {
      "needs_background": "light"
     },
     "output_type": "display_data"
    }
   ],
   "source": [
    "plt.plot(np.arange(100),y,'.') #산점도"
   ]
  },
  {
   "cell_type": "markdown",
   "id": "944e6c93-2ca3-4fc9-bfe3-7d80f2004ade",
   "metadata": {},
   "source": [
    "### 평수, 방수, 교통거리\n",
    "y = a*x + b\n",
    "y = w1*x1 + w2*x2 + x3*x3 + b"
   ]
  },
  {
   "cell_type": "code",
   "execution_count": 114,
   "id": "30ce058f-9bb6-459f-a7b0-517a9d1fdb3b",
   "metadata": {},
   "outputs": [
    {
     "data": {
      "text/plain": [
       "array([[1.        , 0.83000816],\n",
       "       [0.83000816, 1.        ]])"
      ]
     },
     "execution_count": 114,
     "metadata": {},
     "output_type": "execute_result"
    }
   ],
   "source": [
    "#상관계수:\n",
    "np.corrcoef(X[:,0],y)\n",
    "np.corrcoef(X[:,1],y)\n",
    "np.corrcoef(X[:,2],y)"
   ]
  },
  {
   "cell_type": "code",
   "execution_count": 115,
   "id": "a18769f0-30df-416d-a85f-51ec65b84b7e",
   "metadata": {},
   "outputs": [
    {
     "data": {
      "text/plain": [
       "(array([60.]), 60.0)"
      ]
     },
     "execution_count": 115,
     "metadata": {},
     "output_type": "execute_result"
    }
   ],
   "source": [
    "linreg.predict(X_test[0,np.newaxis]),y_test[0]"
   ]
  },
  {
   "cell_type": "code",
   "execution_count": 116,
   "id": "7f27fbfe-871b-493e-8112-a526638eff81",
   "metadata": {},
   "outputs": [
    {
     "data": {
      "text/plain": [
       "(array([60.5]), 60.5)"
      ]
     },
     "execution_count": 116,
     "metadata": {},
     "output_type": "execute_result"
    }
   ],
   "source": [
    "linreg.predict(X_test[1,np.newaxis]),y_test[1]"
   ]
  },
  {
   "cell_type": "code",
   "execution_count": 117,
   "id": "f113b767-57dd-480f-8dc9-331103566f8c",
   "metadata": {},
   "outputs": [
    {
     "data": {
      "text/plain": [
       "(array([61.]), 61.0)"
      ]
     },
     "execution_count": 117,
     "metadata": {},
     "output_type": "execute_result"
    }
   ],
   "source": [
    "linreg.predict(X_test[2,np.newaxis]),y_test[2]"
   ]
  },
  {
   "cell_type": "code",
   "execution_count": null,
   "id": "075d0bb1-7a16-49f7-9488-7985d3fa8b84",
   "metadata": {},
   "outputs": [],
   "source": []
  }
 ],
 "metadata": {
  "kernelspec": {
   "display_name": "Python 3 (ipykernel)",
   "language": "python",
   "name": "python3"
  },
  "language_info": {
   "codemirror_mode": {
    "name": "ipython",
    "version": 3
   },
   "file_extension": ".py",
   "mimetype": "text/x-python",
   "name": "python",
   "nbconvert_exporter": "python",
   "pygments_lexer": "ipython3",
   "version": "3.9.12"
  }
 },
 "nbformat": 4,
 "nbformat_minor": 5
}
