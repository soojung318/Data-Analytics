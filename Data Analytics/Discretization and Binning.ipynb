{
 "cells": [
  {
   "cell_type": "code",
   "execution_count": 7,
   "id": "f9fe5850-50e6-41e7-bb90-8e90b784f6e3",
   "metadata": {},
   "outputs": [],
   "source": [
    "import numpy as np\n",
    "import pandas as pd\n",
    "import random"
   ]
  },
  {
   "cell_type": "code",
   "execution_count": 5,
   "id": "d2dfc714-bca2-46d6-9dc8-3506af605308",
   "metadata": {},
   "outputs": [
    {
     "data": {
      "text/plain": [
       "[(0, 25], (25, 50], (50, 75], (50, 75], (25, 50], ..., (75, 100], (0, 25], (25, 50], (75, 100], (75, 100]]\n",
       "Length: 17\n",
       "Categories (4, interval[int64, right]): [(0, 25] < (25, 50] < (50, 75] < (75, 100]]"
      ]
     },
     "execution_count": 5,
     "metadata": {},
     "output_type": "execute_result"
    }
   ],
   "source": [
    "results = [12,34,67,55,28,90,99,12,3,56,74,44,87,23,49,89,87]\n",
    "bins = [0,25,50,75,100]\n",
    "cat = pd.cut(results, bins)\n",
    "cat"
   ]
  },
  {
   "cell_type": "code",
   "execution_count": 9,
   "id": "554aeec3-2b1f-48fc-9b89-aeccf41ac207",
   "metadata": {},
   "outputs": [
    {
     "data": {
      "text/plain": [
       "(40, 50]     1011868\n",
       "(20, 30]     1010730\n",
       "(70, 80]     1010566\n",
       "(60, 70]     1010443\n",
       "(50, 60]     1010179\n",
       "(0, 10]      1009993\n",
       "(30, 40]     1009578\n",
       "(80, 90]     1009087\n",
       "(10, 20]     1008430\n",
       "(90, 100]     909126\n",
       "dtype: int64"
      ]
     },
     "execution_count": 9,
     "metadata": {},
     "output_type": "execute_result"
    }
   ],
   "source": [
    "random_data = np.random.randint(1,100,10000000)\n",
    "bins = [0,10,20,30,40,50,60,70,80,90,100]\n",
    "cat = pd.cut(random_data,bins)\n",
    "pd.value_counts(cat)"
   ]
  },
  {
   "cell_type": "code",
   "execution_count": 10,
   "id": "425df5c6-2858-453e-91a7-a7adc9bc5041",
   "metadata": {},
   "outputs": [
    {
     "data": {
      "text/plain": [
       "(-0.8, -0.2]    20855\n",
       "(-0.2, 0.0]      7970\n",
       "(0.0, 0.2]       7938\n",
       "(0.2, 0.4]       7589\n",
       "(0.4, 0.6]       7093\n",
       "(0.6, 0.8]       6289\n",
       "(-1.0, -0.8]     5438\n",
       "(0.8, 1.0]       5300\n",
       "dtype: int64"
      ]
     },
     "execution_count": 10,
     "metadata": {},
     "output_type": "execute_result"
    }
   ],
   "source": [
    "ndata = np.random.randn(100000)\n",
    "bins=[-1.0,-0.8,-0.2,0,0.2,0.4,0.6,0.8,1.0]\n",
    "cat =pd.cut(ndata,bins)\n",
    "pd.value_counts(cat)"
   ]
  },
  {
   "cell_type": "code",
   "execution_count": 13,
   "id": "f2b67438-2683-4677-8ea6-9dc3346509a6",
   "metadata": {},
   "outputs": [],
   "source": [
    "#정규분포\n",
    "bins=[0.0,0.1,0.2,0.3,0.4,0.5,0.6,0.7,0.8,0.9,1.0]\n",
    "udata_list = [np.random.randn() for _ in range(1000000)]"
   ]
  },
  {
   "cell_type": "code",
   "execution_count": 14,
   "id": "31134319-8ebc-4065-823c-86a4b5b1a226",
   "metadata": {},
   "outputs": [
    {
     "data": {
      "text/plain": [
       "(0.0, 0.1]    40226\n",
       "(0.1, 0.2]    39532\n",
       "(0.2, 0.3]    38766\n",
       "(0.3, 0.4]    37471\n",
       "(0.4, 0.5]    35853\n",
       "(0.5, 0.6]    34344\n",
       "(0.6, 0.7]    32224\n",
       "(0.7, 0.8]    30246\n",
       "(0.8, 0.9]    27575\n",
       "(0.9, 1.0]    25085\n",
       "dtype: int64"
      ]
     },
     "execution_count": 14,
     "metadata": {},
     "output_type": "execute_result"
    }
   ],
   "source": [
    "cat = pd.cut(udata_list,bins)\n",
    "pd.value_counts(cat)"
   ]
  },
  {
   "cell_type": "code",
   "execution_count": 15,
   "id": "1f1bde18-6e61-4725-9679-abf5a764c310",
   "metadata": {},
   "outputs": [
    {
     "ename": "NameError",
     "evalue": "name 'df' is not defined",
     "output_type": "error",
     "traceback": [
      "\u001b[1;31m---------------------------------------------------------------------------\u001b[0m",
      "\u001b[1;31mNameError\u001b[0m                                 Traceback (most recent call last)",
      "Input \u001b[1;32mIn [15]\u001b[0m, in \u001b[0;36m<cell line: 1>\u001b[1;34m()\u001b[0m\n\u001b[1;32m----> 1\u001b[0m out_df \u001b[38;5;241m=\u001b[39m [(np\u001b[38;5;241m.\u001b[39mabs(\u001b[43mdf\u001b[49m) \u001b[38;5;241m>\u001b[39m (\u001b[38;5;241m3\u001b[39m\u001b[38;5;241m*\u001b[39mdf\u001b[38;5;241m.\u001b[39mstd()))\u001b[38;5;241m.\u001b[39many(\u001b[38;5;241m1\u001b[39m)]\n",
      "\u001b[1;31mNameError\u001b[0m: name 'df' is not defined"
     ]
    }
   ],
   "source": [
    "out_df = [(np.abs(df) > (3*df.std())).any(1)]"
   ]
  },
  {
   "cell_type": "markdown",
   "id": "b97720f4-7f62-46ce-875c-88e132a08e59",
   "metadata": {},
   "source": [
    "# Permutation"
   ]
  },
  {
   "cell_type": "code",
   "execution_count": 17,
   "id": "eb1d3f67-8228-4f62-9828-88e66ff93958",
   "metadata": {},
   "outputs": [
    {
     "data": {
      "text/html": [
       "<div>\n",
       "<style scoped>\n",
       "    .dataframe tbody tr th:only-of-type {\n",
       "        vertical-align: middle;\n",
       "    }\n",
       "\n",
       "    .dataframe tbody tr th {\n",
       "        vertical-align: top;\n",
       "    }\n",
       "\n",
       "    .dataframe thead th {\n",
       "        text-align: right;\n",
       "    }\n",
       "</style>\n",
       "<table border=\"1\" class=\"dataframe\">\n",
       "  <thead>\n",
       "    <tr style=\"text-align: right;\">\n",
       "      <th></th>\n",
       "      <th>0</th>\n",
       "      <th>1</th>\n",
       "      <th>2</th>\n",
       "      <th>3</th>\n",
       "      <th>4</th>\n",
       "    </tr>\n",
       "  </thead>\n",
       "  <tbody>\n",
       "    <tr>\n",
       "      <th>0</th>\n",
       "      <td>0</td>\n",
       "      <td>1</td>\n",
       "      <td>2</td>\n",
       "      <td>3</td>\n",
       "      <td>4</td>\n",
       "    </tr>\n",
       "    <tr>\n",
       "      <th>1</th>\n",
       "      <td>5</td>\n",
       "      <td>6</td>\n",
       "      <td>7</td>\n",
       "      <td>8</td>\n",
       "      <td>9</td>\n",
       "    </tr>\n",
       "    <tr>\n",
       "      <th>2</th>\n",
       "      <td>10</td>\n",
       "      <td>11</td>\n",
       "      <td>12</td>\n",
       "      <td>13</td>\n",
       "      <td>14</td>\n",
       "    </tr>\n",
       "    <tr>\n",
       "      <th>3</th>\n",
       "      <td>15</td>\n",
       "      <td>16</td>\n",
       "      <td>17</td>\n",
       "      <td>18</td>\n",
       "      <td>19</td>\n",
       "    </tr>\n",
       "    <tr>\n",
       "      <th>4</th>\n",
       "      <td>20</td>\n",
       "      <td>21</td>\n",
       "      <td>22</td>\n",
       "      <td>23</td>\n",
       "      <td>24</td>\n",
       "    </tr>\n",
       "  </tbody>\n",
       "</table>\n",
       "</div>"
      ],
      "text/plain": [
       "    0   1   2   3   4\n",
       "0   0   1   2   3   4\n",
       "1   5   6   7   8   9\n",
       "2  10  11  12  13  14\n",
       "3  15  16  17  18  19\n",
       "4  20  21  22  23  24"
      ]
     },
     "execution_count": 17,
     "metadata": {},
     "output_type": "execute_result"
    }
   ],
   "source": [
    "nframe = pd.DataFrame(np.arange(25).reshape(5,5))\n",
    "nframe"
   ]
  },
  {
   "cell_type": "code",
   "execution_count": 20,
   "id": "f9bdd2eb-4a10-41c6-9f8f-51568cc081b4",
   "metadata": {},
   "outputs": [
    {
     "data": {
      "text/plain": [
       "array([3, 1, 0, 2, 4])"
      ]
     },
     "execution_count": 20,
     "metadata": {},
     "output_type": "execute_result"
    }
   ],
   "source": [
    "new_order = np.random.permutation(5)\n",
    "new_order"
   ]
  },
  {
   "cell_type": "code",
   "execution_count": 19,
   "id": "bd149670-f6a1-4e84-8eb1-2d27d0c87779",
   "metadata": {},
   "outputs": [
    {
     "data": {
      "text/html": [
       "<div>\n",
       "<style scoped>\n",
       "    .dataframe tbody tr th:only-of-type {\n",
       "        vertical-align: middle;\n",
       "    }\n",
       "\n",
       "    .dataframe tbody tr th {\n",
       "        vertical-align: top;\n",
       "    }\n",
       "\n",
       "    .dataframe thead th {\n",
       "        text-align: right;\n",
       "    }\n",
       "</style>\n",
       "<table border=\"1\" class=\"dataframe\">\n",
       "  <thead>\n",
       "    <tr style=\"text-align: right;\">\n",
       "      <th></th>\n",
       "      <th>0</th>\n",
       "      <th>1</th>\n",
       "      <th>2</th>\n",
       "      <th>3</th>\n",
       "      <th>4</th>\n",
       "    </tr>\n",
       "  </thead>\n",
       "  <tbody>\n",
       "    <tr>\n",
       "      <th>4</th>\n",
       "      <td>20</td>\n",
       "      <td>21</td>\n",
       "      <td>22</td>\n",
       "      <td>23</td>\n",
       "      <td>24</td>\n",
       "    </tr>\n",
       "    <tr>\n",
       "      <th>1</th>\n",
       "      <td>5</td>\n",
       "      <td>6</td>\n",
       "      <td>7</td>\n",
       "      <td>8</td>\n",
       "      <td>9</td>\n",
       "    </tr>\n",
       "    <tr>\n",
       "      <th>0</th>\n",
       "      <td>0</td>\n",
       "      <td>1</td>\n",
       "      <td>2</td>\n",
       "      <td>3</td>\n",
       "      <td>4</td>\n",
       "    </tr>\n",
       "    <tr>\n",
       "      <th>3</th>\n",
       "      <td>15</td>\n",
       "      <td>16</td>\n",
       "      <td>17</td>\n",
       "      <td>18</td>\n",
       "      <td>19</td>\n",
       "    </tr>\n",
       "    <tr>\n",
       "      <th>2</th>\n",
       "      <td>10</td>\n",
       "      <td>11</td>\n",
       "      <td>12</td>\n",
       "      <td>13</td>\n",
       "      <td>14</td>\n",
       "    </tr>\n",
       "  </tbody>\n",
       "</table>\n",
       "</div>"
      ],
      "text/plain": [
       "    0   1   2   3   4\n",
       "4  20  21  22  23  24\n",
       "1   5   6   7   8   9\n",
       "0   0   1   2   3   4\n",
       "3  15  16  17  18  19\n",
       "2  10  11  12  13  14"
      ]
     },
     "execution_count": 19,
     "metadata": {},
     "output_type": "execute_result"
    }
   ],
   "source": [
    "nframe.take(new_order)"
   ]
  },
  {
   "cell_type": "code",
   "execution_count": 21,
   "id": "39b19217-4636-4cee-ae5d-c72a9b16244b",
   "metadata": {},
   "outputs": [],
   "source": [
    "new_order = [3,4,2]"
   ]
  },
  {
   "cell_type": "code",
   "execution_count": 22,
   "id": "e478de1b-d0ec-4986-91ce-f7cddb015a00",
   "metadata": {},
   "outputs": [
    {
     "data": {
      "text/html": [
       "<div>\n",
       "<style scoped>\n",
       "    .dataframe tbody tr th:only-of-type {\n",
       "        vertical-align: middle;\n",
       "    }\n",
       "\n",
       "    .dataframe tbody tr th {\n",
       "        vertical-align: top;\n",
       "    }\n",
       "\n",
       "    .dataframe thead th {\n",
       "        text-align: right;\n",
       "    }\n",
       "</style>\n",
       "<table border=\"1\" class=\"dataframe\">\n",
       "  <thead>\n",
       "    <tr style=\"text-align: right;\">\n",
       "      <th></th>\n",
       "      <th>0</th>\n",
       "      <th>1</th>\n",
       "      <th>2</th>\n",
       "      <th>3</th>\n",
       "      <th>4</th>\n",
       "    </tr>\n",
       "  </thead>\n",
       "  <tbody>\n",
       "    <tr>\n",
       "      <th>3</th>\n",
       "      <td>15</td>\n",
       "      <td>16</td>\n",
       "      <td>17</td>\n",
       "      <td>18</td>\n",
       "      <td>19</td>\n",
       "    </tr>\n",
       "    <tr>\n",
       "      <th>4</th>\n",
       "      <td>20</td>\n",
       "      <td>21</td>\n",
       "      <td>22</td>\n",
       "      <td>23</td>\n",
       "      <td>24</td>\n",
       "    </tr>\n",
       "    <tr>\n",
       "      <th>2</th>\n",
       "      <td>10</td>\n",
       "      <td>11</td>\n",
       "      <td>12</td>\n",
       "      <td>13</td>\n",
       "      <td>14</td>\n",
       "    </tr>\n",
       "  </tbody>\n",
       "</table>\n",
       "</div>"
      ],
      "text/plain": [
       "    0   1   2   3   4\n",
       "3  15  16  17  18  19\n",
       "4  20  21  22  23  24\n",
       "2  10  11  12  13  14"
      ]
     },
     "execution_count": 22,
     "metadata": {},
     "output_type": "execute_result"
    }
   ],
   "source": [
    "nframe.take(new_order)"
   ]
  },
  {
   "cell_type": "markdown",
   "id": "e583a71e-abc6-45e4-8243-a0e60b5060df",
   "metadata": {},
   "source": [
    "# Built-in Methods for String Manipulation"
   ]
  },
  {
   "cell_type": "code",
   "execution_count": 26,
   "id": "5d1b2488-780f-46e8-a12c-5647c8b0b21a",
   "metadata": {},
   "outputs": [],
   "source": [
    "text = '16 Bolton Avenue , Boston'"
   ]
  },
  {
   "cell_type": "code",
   "execution_count": 27,
   "id": "d992a093-f41d-45b0-b27e-51c3fdd76950",
   "metadata": {},
   "outputs": [
    {
     "data": {
      "text/plain": [
       "['16 Bolton Avenue ', ' Boston']"
      ]
     },
     "execution_count": 27,
     "metadata": {},
     "output_type": "execute_result"
    }
   ],
   "source": [
    "text.split(',')"
   ]
  },
  {
   "cell_type": "code",
   "execution_count": 28,
   "id": "5d91359a-9b89-4d62-8690-3b3de7e53fcb",
   "metadata": {},
   "outputs": [],
   "source": [
    "tokens = [s.strip() for s in text.split(',')]"
   ]
  },
  {
   "cell_type": "code",
   "execution_count": 29,
   "id": "62a6b2dc-6d7f-4054-8f97-1123b98f2117",
   "metadata": {},
   "outputs": [
    {
     "data": {
      "text/plain": [
       "['16 Bolton Avenue', 'Boston']"
      ]
     },
     "execution_count": 29,
     "metadata": {},
     "output_type": "execute_result"
    }
   ],
   "source": [
    "tokens"
   ]
  },
  {
   "cell_type": "code",
   "execution_count": 30,
   "id": "8ddc4ea5-dc46-4edc-9600-441ff2eac944",
   "metadata": {},
   "outputs": [],
   "source": [
    "address, city = [s.strip() for s in text.split(',')]"
   ]
  },
  {
   "cell_type": "code",
   "execution_count": 31,
   "id": "c2926c1f-7fdb-49e4-a324-f33d8c6527fd",
   "metadata": {},
   "outputs": [
    {
     "data": {
      "text/plain": [
       "'16 Bolton Avenue'"
      ]
     },
     "execution_count": 31,
     "metadata": {},
     "output_type": "execute_result"
    }
   ],
   "source": [
    "address"
   ]
  },
  {
   "cell_type": "code",
   "execution_count": 32,
   "id": "fb1b585b-8013-4776-b125-70ce5386f902",
   "metadata": {},
   "outputs": [
    {
     "data": {
      "text/plain": [
       "'Boston'"
      ]
     },
     "execution_count": 32,
     "metadata": {},
     "output_type": "execute_result"
    }
   ],
   "source": [
    "city"
   ]
  },
  {
   "cell_type": "markdown",
   "id": "1bb4cded-6aee-41a6-899d-17c7af256260",
   "metadata": {},
   "source": [
    "# 문제\n",
    "무작위로 영문자 개로 구성된 문자열 5개 준비해서 리스트에 담고 각 원소의 뒤에 '-' 기호를 추가하여 원소 전체가 한 개의 문자열이 되도록 한다. 결과 문자열 화면에 표시"
   ]
  },
  {
   "cell_type": "code",
   "execution_count": 33,
   "id": "112c03e7-703c-4172-ae57-f07d38d4de17",
   "metadata": {},
   "outputs": [
    {
     "data": {
      "text/plain": [
       "'z'"
      ]
     },
     "execution_count": 33,
     "metadata": {},
     "output_type": "execute_result"
    }
   ],
   "source": [
    "#답\n",
    "ord('a')  #97\n",
    "ord('z')  #122\n",
    "chr(97)   #'a'\n",
    "chr(122)  #'z'\n"
   ]
  },
  {
   "cell_type": "code",
   "execution_count": 36,
   "id": "476aa713-0795-4b5c-be0a-b7846ea423b9",
   "metadata": {},
   "outputs": [
    {
     "data": {
      "text/plain": [
       "['vqv', 'bmz', 'upx', 'rlb', 'pye']"
      ]
     },
     "execution_count": 36,
     "metadata": {},
     "output_type": "execute_result"
    }
   ],
   "source": [
    "tmp_list = []\n",
    "for _ in range(5):\n",
    "    str = ''\n",
    "    for _ in range(3):\n",
    "        str += chr(np.random.randint(97,123))\n",
    "    tmp_list.append(str)\n",
    "tmp_list"
   ]
  },
  {
   "cell_type": "code",
   "execution_count": 37,
   "id": "cd2e9162-b5fd-49b9-9f1a-44662bfdfd94",
   "metadata": {},
   "outputs": [
    {
     "data": {
      "text/plain": [
       "'vqv-bmz-upx-rlb-pye'"
      ]
     },
     "execution_count": 37,
     "metadata": {},
     "output_type": "execute_result"
    }
   ],
   "source": [
    "'-'.join(tmp_list)"
   ]
  },
  {
   "cell_type": "code",
   "execution_count": null,
   "id": "5eb41da9-7445-4276-a513-ff389f59a060",
   "metadata": {},
   "outputs": [],
   "source": []
  }
 ],
 "metadata": {
  "kernelspec": {
   "display_name": "Python 3 (ipykernel)",
   "language": "python",
   "name": "python3"
  },
  "language_info": {
   "codemirror_mode": {
    "name": "ipython",
    "version": 3
   },
   "file_extension": ".py",
   "mimetype": "text/x-python",
   "name": "python",
   "nbconvert_exporter": "python",
   "pygments_lexer": "ipython3",
   "version": "3.9.12"
  }
 },
 "nbformat": 4,
 "nbformat_minor": 5
}
